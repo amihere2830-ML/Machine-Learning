{
 "cells": [
  {
   "cell_type": "markdown",
   "id": "986da4c9",
   "metadata": {},
   "source": [
    "## Problem To be Addressed\n",
    "1. team typically gets 200 loan applications per week and approves them by hand\n",
    "2. sudden influx of new people applying for loans (nearly 500 loan applications to process this week)\n",
    "3. manager wants to figure out how to process all of these loan applications within one week\n",
    "\n",
    "## Obejective\n",
    "provide a list of creditworthy customers to manager in the next two days\n",
    "\n",
    "## Available Information\n",
    "1.\tData on all past applications\n",
    "2.\tThe list of customers that need to be processed in the next few days\n",
    "\n",
    "## Steps\n",
    "1. Business and Data Understanding\n",
    "2. Explore and Cleanup the Data\n",
    "3. Train Classification Models:\n",
    "- Naive Bayes\n",
    "- Logistic Regression\n",
    "- K-NearestNeighbors\n",
    "- Support Vector Classifier\n",
    "4. Writeup<br><br>\n",
    "    Compare all of the models’ performance against each other. Decide on the best model and score your new customers. \n",
    "\n"
   ]
  },
  {
   "cell_type": "markdown",
   "id": "5d38964b",
   "metadata": {},
   "source": [
    "## Solution steps\n"
   ]
  },
  {
   "cell_type": "markdown",
   "id": "ce54280f",
   "metadata": {},
   "source": [
    "#       Step 1 : Importing the libraries                      #"
   ]
  },
  {
   "cell_type": "code",
   "execution_count": null,
   "id": "3aa9ae53",
   "metadata": {},
   "outputs": [],
   "source": []
  },
  {
   "cell_type": "code",
   "execution_count": 1,
   "id": "79c12a11",
   "metadata": {},
   "outputs": [],
   "source": [
    "import numpy as np\n",
    "import pandas as pd9\n",
    "import os\n",
    "import pandas as pd\n",
    "import numpy as np\n",
    "import matplotlib.pyplot as plt\n",
    "import seaborn as sns\n",
    "from bioinfokit.analys import stat\n",
    "import sklearn\n",
    "import warnings\n",
    "warnings.filterwarnings('ignore')\n",
    "%matplotlib inline\n",
    "pd.set_option('display.max_colwidth',None)\n",
    "pd.set_option('display.max_columns',None)\n",
    "\n"
   ]
  },
  {
   "cell_type": "markdown",
   "id": "92ab598b",
   "metadata": {},
   "source": []
  },
  {
   "cell_type": "code",
   "execution_count": 2,
   "id": "de03bb26",
   "metadata": {},
   "outputs": [],
   "source": [
    "from sklearn.model_selection import cross_val_score\n",
    "from sklearn.model_selection import train_test_split"
   ]
  },
  {
   "cell_type": "code",
   "execution_count": 3,
   "id": "24ef9108",
   "metadata": {},
   "outputs": [],
   "source": [
    "from sklearn.linear_model import LogisticRegression\n",
    "from sklearn.neighbors import KNeighborsClassifier \n",
    "from sklearn.tree import DecisionTreeClassifier\n",
    "from sklearn.svm import SVC\n"
   ]
  },
  {
   "cell_type": "code",
   "execution_count": 4,
   "id": "d1777248",
   "metadata": {},
   "outputs": [],
   "source": [
    "from sklearn.ensemble import VotingClassifier\n",
    "from sklearn.ensemble import RandomForestClassifier\n",
    "from sklearn.ensemble import BaggingClassifier\n",
    "from sklearn.ensemble import GradientBoostingClassifier\n",
    "from sklearn.ensemble import AdaBoostClassifier\n",
    "from xgboost import XGBClassifier\n"
   ]
  },
  {
   "cell_type": "code",
   "execution_count": 5,
   "id": "19b728c1",
   "metadata": {},
   "outputs": [],
   "source": [
    "from sklearn.preprocessing import MinMaxScaler\n",
    "from sklearn.preprocessing import StandardScaler"
   ]
  },
  {
   "cell_type": "code",
   "execution_count": 6,
   "id": "aafad07c",
   "metadata": {},
   "outputs": [],
   "source": [
    "from sklearn.pipeline import Pipeline\n",
    "from sklearn.pipeline import make_pipeline\n",
    "from sklearn.model_selection import GridSearchCV"
   ]
  },
  {
   "cell_type": "code",
   "execution_count": 7,
   "id": "93375bd6",
   "metadata": {},
   "outputs": [],
   "source": [
    "from sklearn.metrics import confusion_matrix\n",
    "from sklearn.metrics import roc_auc_score\n",
    "from sklearn.metrics import roc_curve\n",
    "from sklearn.metrics import accuracy_score\n"
   ]
  },
  {
   "cell_type": "markdown",
   "id": "67ae6e2a",
   "metadata": {},
   "source": [
    "#      Step 2 : Importing the Dataset"
   ]
  },
  {
   "cell_type": "code",
   "execution_count": 191,
   "id": "573fae97",
   "metadata": {},
   "outputs": [],
   "source": [
    "train = pd.read_excel(\"credit-data-training.xlsx\")\n",
    "test = pd.read_excel(\"customers-to-score.xlsx\")"
   ]
  },
  {
   "cell_type": "code",
   "execution_count": 192,
   "id": "b8a170ec",
   "metadata": {},
   "outputs": [
    {
     "data": {
      "text/html": [
       "<div>\n",
       "<style scoped>\n",
       "    .dataframe tbody tr th:only-of-type {\n",
       "        vertical-align: middle;\n",
       "    }\n",
       "\n",
       "    .dataframe tbody tr th {\n",
       "        vertical-align: top;\n",
       "    }\n",
       "\n",
       "    .dataframe thead th {\n",
       "        text-align: right;\n",
       "    }\n",
       "</style>\n",
       "<table border=\"1\" class=\"dataframe\">\n",
       "  <thead>\n",
       "    <tr style=\"text-align: right;\">\n",
       "      <th></th>\n",
       "      <th>rows</th>\n",
       "      <th>columns</th>\n",
       "    </tr>\n",
       "    <tr>\n",
       "      <th>dataset</th>\n",
       "      <th></th>\n",
       "      <th></th>\n",
       "    </tr>\n",
       "  </thead>\n",
       "  <tbody>\n",
       "    <tr>\n",
       "      <th>train</th>\n",
       "      <td>500</td>\n",
       "      <td>20</td>\n",
       "    </tr>\n",
       "    <tr>\n",
       "      <th>test</th>\n",
       "      <td>500</td>\n",
       "      <td>19</td>\n",
       "    </tr>\n",
       "  </tbody>\n",
       "</table>\n",
       "</div>"
      ],
      "text/plain": [
       "         rows  columns\n",
       "dataset               \n",
       "train     500       20\n",
       "test      500       19"
      ]
     },
     "execution_count": 192,
     "metadata": {},
     "output_type": "execute_result"
    }
   ],
   "source": [
    "summary={'dataset':['train', 'test'],\n",
    "       'rows': [train.shape[0], test.shape[0]],\n",
    "       'columns': [train.shape[1], test.shape[1]]}\n",
    "pd.DataFrame(summary).set_index('dataset')"
   ]
  },
  {
   "cell_type": "code",
   "execution_count": null,
   "id": "56a46274",
   "metadata": {},
   "outputs": [],
   "source": []
  },
  {
   "cell_type": "markdown",
   "id": "bdda973c",
   "metadata": {},
   "source": [
    "## 3. Exploratory Data Analysis (EDA)"
   ]
  },
  {
   "cell_type": "code",
   "execution_count": 193,
   "id": "a29bec7c",
   "metadata": {},
   "outputs": [
    {
     "name": "stdout",
     "output_type": "stream",
     "text": [
      "<class 'pandas.core.frame.DataFrame'>\n",
      "RangeIndex: 500 entries, 0 to 499\n",
      "Data columns (total 20 columns):\n",
      " #   Column                             Non-Null Count  Dtype  \n",
      "---  ------                             --------------  -----  \n",
      " 0   Credit-Application-Result          500 non-null    object \n",
      " 1   Account-Balance                    500 non-null    object \n",
      " 2   Duration-of-Credit-Month           500 non-null    int64  \n",
      " 3   Payment-Status-of-Previous-Credit  500 non-null    object \n",
      " 4   Purpose                            500 non-null    object \n",
      " 5   Credit-Amount                      500 non-null    int64  \n",
      " 6   Value-Savings-Stocks               500 non-null    object \n",
      " 7   Length-of-current-employment       500 non-null    object \n",
      " 8   Instalment-per-cent                500 non-null    int64  \n",
      " 9   Guarantors                         500 non-null    object \n",
      " 10  Duration-in-Current-address        156 non-null    float64\n",
      " 11  Most-valuable-available-asset      500 non-null    int64  \n",
      " 12  Age-years                          488 non-null    float64\n",
      " 13  Concurrent-Credits                 500 non-null    object \n",
      " 14  Type-of-apartment                  500 non-null    int64  \n",
      " 15  No-of-Credits-at-this-Bank         500 non-null    object \n",
      " 16  Occupation                         500 non-null    int64  \n",
      " 17  No-of-dependents                   500 non-null    int64  \n",
      " 18  Telephone                          500 non-null    int64  \n",
      " 19  Foreign-Worker                     500 non-null    int64  \n",
      "dtypes: float64(2), int64(9), object(9)\n",
      "memory usage: 78.2+ KB\n"
     ]
    }
   ],
   "source": [
    "train.info()"
   ]
  },
  {
   "cell_type": "code",
   "execution_count": 194,
   "id": "1741957d",
   "metadata": {},
   "outputs": [
    {
     "data": {
      "text/plain": [
       "Credit-Application-Result              0\n",
       "Account-Balance                        0\n",
       "Duration-of-Credit-Month               0\n",
       "Payment-Status-of-Previous-Credit      0\n",
       "Purpose                                0\n",
       "Credit-Amount                          0\n",
       "Value-Savings-Stocks                   0\n",
       "Length-of-current-employment           0\n",
       "Instalment-per-cent                    0\n",
       "Guarantors                             0\n",
       "Duration-in-Current-address          344\n",
       "Most-valuable-available-asset          0\n",
       "Age-years                             12\n",
       "Concurrent-Credits                     0\n",
       "Type-of-apartment                      0\n",
       "No-of-Credits-at-this-Bank             0\n",
       "Occupation                             0\n",
       "No-of-dependents                       0\n",
       "Telephone                              0\n",
       "Foreign-Worker                         0\n",
       "dtype: int64"
      ]
     },
     "execution_count": 194,
     "metadata": {},
     "output_type": "execute_result"
    }
   ],
   "source": [
    "#Identifying missing values\n",
    "train.isnull().sum()"
   ]
  },
  {
   "cell_type": "code",
   "execution_count": 195,
   "id": "d81ce7fa",
   "metadata": {},
   "outputs": [
    {
     "name": "stdout",
     "output_type": "stream",
     "text": [
      "Credit-Application-Result             0.0\n",
      "Account-Balance                       0.0\n",
      "Duration-of-Credit-Month              0.0\n",
      "Payment-Status-of-Previous-Credit     0.0\n",
      "Purpose                               0.0\n",
      "Credit-Amount                         0.0\n",
      "Value-Savings-Stocks                  0.0\n",
      "Length-of-current-employment          0.0\n",
      "Instalment-per-cent                   0.0\n",
      "Guarantors                            0.0\n",
      "Duration-in-Current-address          68.8\n",
      "Most-valuable-available-asset         0.0\n",
      "Age-years                             2.4\n",
      "Concurrent-Credits                    0.0\n",
      "Type-of-apartment                     0.0\n",
      "No-of-Credits-at-this-Bank            0.0\n",
      "Occupation                            0.0\n",
      "No-of-dependents                      0.0\n",
      "Telephone                             0.0\n",
      "Foreign-Worker                        0.0\n",
      "dtype: float64 \n",
      " ===========================================================================\n"
     ]
    }
   ],
   "source": [
    "#percentage of missing values\n",
    "print(train.isnull().sum()/len(train) * 100, '\\n','='*75)\n"
   ]
  },
  {
   "cell_type": "markdown",
   "id": "33a76a49",
   "metadata": {},
   "source": [
    "- About 69% of the data in Duration-in-Current-address is missing and thereforre needs to be eliminated\n",
    "- The missing values in Age-years is just 2.4% which is almost insignificant. These missing values would be replaced by median of Age-years"
   ]
  },
  {
   "cell_type": "markdown",
   "id": "2ac5217c",
   "metadata": {},
   "source": [
    "### **Separating data into numeric and categorical for detail inspections**"
   ]
  },
  {
   "cell_type": "code",
   "execution_count": 196,
   "id": "08f78648",
   "metadata": {},
   "outputs": [],
   "source": [
    "numeric_train = train.select_dtypes(include=np.number)\n",
    "categorical_train = train.select_dtypes(include='object')\n",
    "categorical_test = test.select_dtypes(include='object')\n"
   ]
  },
  {
   "cell_type": "code",
   "execution_count": 197,
   "id": "7c757ca7",
   "metadata": {},
   "outputs": [
    {
     "name": "stdout",
     "output_type": "stream",
     "text": [
      "numeric variables: 11\n",
      " categorical variables: 9\n"
     ]
    }
   ],
   "source": [
    "#Number of numeric and categorical variables\n",
    "\n",
    "print('numeric variables: {}\\n categorical variables: {}'\\\n",
    "      .format(numeric_train.shape[1], categorical_train.shape[1]))"
   ]
  },
  {
   "cell_type": "code",
   "execution_count": null,
   "id": "61c09657",
   "metadata": {},
   "outputs": [],
   "source": []
  },
  {
   "cell_type": "markdown",
   "id": "d1226c2f",
   "metadata": {},
   "source": [
    "#### Exploring categorical variables"
   ]
  },
  {
   "cell_type": "code",
   "execution_count": 198,
   "id": "9d1f30bf",
   "metadata": {},
   "outputs": [
    {
     "name": "stdout",
     "output_type": "stream",
     "text": [
      "Credit-Application-Result\n",
      "Account-Balance\n",
      "Payment-Status-of-Previous-Credit\n",
      "Purpose\n",
      "Value-Savings-Stocks\n",
      "Length-of-current-employment\n",
      "Guarantors\n",
      "Concurrent-Credits\n",
      "No-of-Credits-at-this-Bank\n"
     ]
    }
   ],
   "source": [
    "for i in categorical_train.columns:\n",
    "    print(i)"
   ]
  },
  {
   "cell_type": "code",
   "execution_count": 199,
   "id": "b76c903c",
   "metadata": {},
   "outputs": [],
   "source": [
    "def explore_categorical(df, col):\n",
    "    df=df[col]\n",
    "    df.nunique()\n",
    "    print('Summary:\\n',col)\n",
    "    print('-'*27)\n",
    "    sns.countplot(df)\n",
    "    plt.show()\n",
    "    print('\\n',df.describe(),'\\n')\n",
    "\n",
    "    print('value counts (%):')\n",
    "    print('-'*12)\n",
    "    print(df.value_counts()/len(df)*100)\n",
    "    print ('\\nMissing values (%): ')\n",
    "    print('-'*12)\n",
    "    print (df.isnull().sum()/len(df) * 100,)\n",
    "\n",
    "    print('='*65,'\\n\\n')\n",
    "\n",
    "\n",
    "    "
   ]
  },
  {
   "cell_type": "markdown",
   "id": "32a3ce37",
   "metadata": {},
   "source": [
    "### Compare the number of categories in each columns for both training and testing data"
   ]
  },
  {
   "cell_type": "code",
   "execution_count": 200,
   "id": "1a85f59f",
   "metadata": {},
   "outputs": [],
   "source": [
    "def count_categories(df):\n",
    "    for i in df.columns:\n",
    "        print(i,':',df[i].nunique())"
   ]
  },
  {
   "cell_type": "code",
   "execution_count": 201,
   "id": "1cb53390",
   "metadata": {},
   "outputs": [
    {
     "name": "stdout",
     "output_type": "stream",
     "text": [
      "Credit-Application-Result : 2\n",
      "Account-Balance : 2\n",
      "Payment-Status-of-Previous-Credit : 3\n",
      "Purpose : 4\n",
      "Value-Savings-Stocks : 3\n",
      "Length-of-current-employment : 3\n",
      "Guarantors : 2\n",
      "Concurrent-Credits : 1\n",
      "No-of-Credits-at-this-Bank : 2\n"
     ]
    }
   ],
   "source": [
    "count_categories(categorical_train)"
   ]
  },
  {
   "cell_type": "code",
   "execution_count": 202,
   "id": "05b00281",
   "metadata": {},
   "outputs": [
    {
     "name": "stdout",
     "output_type": "stream",
     "text": [
      "Account-Balance : 2\n",
      "Payment-Status-of-Previous-Credit : 3\n",
      "Purpose : 3\n",
      "Value-Savings-Stocks : 3\n",
      "Length-of-current-employment : 3\n",
      "Guarantors : 2\n",
      "Concurrent-Credits : 1\n",
      "No-of-Credits-at-this-Bank : 2\n"
     ]
    }
   ],
   "source": [
    "\n",
    "count_categories(categorical_test)"
   ]
  },
  {
   "cell_type": "markdown",
   "id": "289eb093",
   "metadata": {},
   "source": [
    "- Purpose in training has more categories than in test\n",
    "- To solve this, new and old cars are categorised as other"
   ]
  },
  {
   "cell_type": "code",
   "execution_count": 203,
   "id": "87b6bad3",
   "metadata": {},
   "outputs": [],
   "source": [
    "#Replace Used and New car with Other in categorical_train data\n",
    "categorical_train['Purpose'].replace({'Used car':'Other', 'New car':'Other'}, inplace=True)"
   ]
  },
  {
   "cell_type": "code",
   "execution_count": 204,
   "id": "1d2c24d1",
   "metadata": {},
   "outputs": [],
   "source": [
    "#Replace Used and New car with Other in train data\n",
    "train['Purpose'].replace({'Used car':'Other', 'New car':'Other'}, inplace=True)"
   ]
  },
  {
   "cell_type": "code",
   "execution_count": 205,
   "id": "4628d861",
   "metadata": {},
   "outputs": [
    {
     "data": {
      "text/plain": [
       "Home Related    354\n",
       "Used car         94\n",
       "New car          52\n",
       "Name: Purpose, dtype: int64"
      ]
     },
     "execution_count": 205,
     "metadata": {},
     "output_type": "execute_result"
    }
   ],
   "source": [
    "test['Purpose'].value_counts()"
   ]
  },
  {
   "cell_type": "code",
   "execution_count": 206,
   "id": "65ee2a4b",
   "metadata": {},
   "outputs": [],
   "source": [
    "#Replace Used and New car with Other in test data\n",
    "test['Purpose'].replace({'Used car':'Other', 'New car':'Other'}, inplace=True)"
   ]
  },
  {
   "cell_type": "code",
   "execution_count": 207,
   "id": "ae66f321",
   "metadata": {},
   "outputs": [
    {
     "name": "stdout",
     "output_type": "stream",
     "text": [
      "Summary:\n",
      " Credit-Application-Result\n",
      "---------------------------\n"
     ]
    },
    {
     "data": {
      "image/png": "[encoded data removed]",
      "text/plain": [
       "<Figure size 432x288 with 1 Axes>"
      ]
     },
     "metadata": {
      "needs_background": "light"
     },
     "output_type": "display_data"
    },
    {
     "name": "stdout",
     "output_type": "stream",
     "text": [
      "\n",
      " count              500\n",
      "unique               2\n",
      "top       Creditworthy\n",
      "freq               358\n",
      "Name: Credit-Application-Result, dtype: object \n",
      "\n",
      "value counts (%):\n",
      "------------\n",
      "Creditworthy        71.6\n",
      "Non-Creditworthy    28.4\n",
      "Name: Credit-Application-Result, dtype: float64\n",
      "\n",
      "Missing values (%): \n",
      "------------\n",
      "0.0\n",
      "================================================================= \n",
      "\n",
      "\n",
      "Summary:\n",
      " Account-Balance\n",
      "---------------------------\n"
     ]
    },
    {
     "data": {
      "image/png": "[encoded data removed]",
      "text/plain": [
       "<Figure size 432x288 with 1 Axes>"
      ]
     },
     "metadata": {
      "needs_background": "light"
     },
     "output_type": "display_data"
    },
    {
     "name": "stdout",
     "output_type": "stream",
     "text": [
      "\n",
      " count            500\n",
      "unique             2\n",
      "top       No Account\n",
      "freq             262\n",
      "Name: Account-Balance, dtype: object \n",
      "\n",
      "value counts (%):\n",
      "------------\n",
      "No Account      52.4\n",
      "Some Balance    47.6\n",
      "Name: Account-Balance, dtype: float64\n",
      "\n",
      "Missing values (%): \n",
      "------------\n",
      "0.0\n",
      "================================================================= \n",
      "\n",
      "\n",
      "Summary:\n",
      " Payment-Status-of-Previous-Credit\n",
      "---------------------------\n"
     ]
    },
    {
     "data": {
      "image/png": "[encoded data removed]",
      "text/plain": [
       "<Figure size 432x288 with 1 Axes>"
      ]
     },
     "metadata": {
      "needs_background": "light"
     },
     "output_type": "display_data"
    },
    {
     "name": "stdout",
     "output_type": "stream",
     "text": [
      "\n",
      " count         500\n",
      "unique          3\n",
      "top       Paid Up\n",
      "freq          260\n",
      "Name: Payment-Status-of-Previous-Credit, dtype: object \n",
      "\n",
      "value counts (%):\n",
      "------------\n",
      "Paid Up                       52.0\n",
      "No Problems (in this bank)    40.8\n",
      "Some Problems                  7.2\n",
      "Name: Payment-Status-of-Previous-Credit, dtype: float64\n",
      "\n",
      "Missing values (%): \n",
      "------------\n",
      "0.0\n",
      "================================================================= \n",
      "\n",
      "\n",
      "Summary:\n",
      " Purpose\n",
      "---------------------------\n"
     ]
    },
    {
     "data": {
      "image/png": "[encoded data removed]",
      "text/plain": [
       "<Figure size 432x288 with 1 Axes>"
      ]
     },
     "metadata": {
      "needs_background": "light"
     },
     "output_type": "display_data"
    },
    {
     "name": "stdout",
     "output_type": "stream",
     "text": [
      "\n",
      " count              500\n",
      "unique               2\n",
      "top       Home Related\n",
      "freq               355\n",
      "Name: Purpose, dtype: object \n",
      "\n",
      "value counts (%):\n",
      "------------\n",
      "Home Related    71.0\n",
      "Other           29.0\n",
      "Name: Purpose, dtype: float64\n",
      "\n",
      "Missing values (%): \n",
      "------------\n",
      "0.0\n",
      "================================================================= \n",
      "\n",
      "\n",
      "Summary:\n",
      " Value-Savings-Stocks\n",
      "---------------------------\n"
     ]
    },
    {
     "data": {
      "image/png": "[encoded data removed]",
      "text/plain": [
       "<Figure size 432x288 with 1 Axes>"
      ]
     },
     "metadata": {
      "needs_background": "light"
     },
     "output_type": "display_data"
    },
    {
     "name": "stdout",
     "output_type": "stream",
     "text": [
      "\n",
      " count      500\n",
      "unique       3\n",
      "top       None\n",
      "freq       298\n",
      "Name: Value-Savings-Stocks, dtype: object \n",
      "\n",
      "value counts (%):\n",
      "------------\n",
      "None          59.6\n",
      "£100-£1000    30.8\n",
      "< £100         9.6\n",
      "Name: Value-Savings-Stocks, dtype: float64\n",
      "\n",
      "Missing values (%): \n",
      "------------\n",
      "0.0\n",
      "================================================================= \n",
      "\n",
      "\n",
      "Summary:\n",
      " Length-of-current-employment\n",
      "---------------------------\n"
     ]
    },
    {
     "data": {
      "image/png": "[encoded data removed]",
      "text/plain": [
       "<Figure size 432x288 with 1 Axes>"
      ]
     },
     "metadata": {
      "needs_background": "light"
     },
     "output_type": "display_data"
    },
    {
     "name": "stdout",
     "output_type": "stream",
     "text": [
      "\n",
      " count       500\n",
      "unique        3\n",
      "top       < 1yr\n",
      "freq        279\n",
      "Name: Length-of-current-employment, dtype: object \n",
      "\n",
      "value counts (%):\n",
      "------------\n",
      "< 1yr      55.8\n",
      "4-7 yrs    24.8\n",
      "1-4 yrs    19.4\n",
      "Name: Length-of-current-employment, dtype: float64\n",
      "\n",
      "Missing values (%): \n",
      "------------\n",
      "0.0\n",
      "================================================================= \n",
      "\n",
      "\n",
      "Summary:\n",
      " Guarantors\n",
      "---------------------------\n"
     ]
    },
    {
     "data": {
      "image/png": "[encoded data removed]",
      "text/plain": [
       "<Figure size 432x288 with 1 Axes>"
      ]
     },
     "metadata": {
      "needs_background": "light"
     },
     "output_type": "display_data"
    },
    {
     "name": "stdout",
     "output_type": "stream",
     "text": [
      "\n",
      " count      500\n",
      "unique       2\n",
      "top       None\n",
      "freq       457\n",
      "Name: Guarantors, dtype: object \n",
      "\n",
      "value counts (%):\n",
      "------------\n",
      "None    91.4\n",
      "Yes      8.6\n",
      "Name: Guarantors, dtype: float64\n",
      "\n",
      "Missing values (%): \n",
      "------------\n",
      "0.0\n",
      "================================================================= \n",
      "\n",
      "\n",
      "Summary:\n",
      " Concurrent-Credits\n",
      "---------------------------\n"
     ]
    },
    {
     "data": {
      "image/png": "[encoded data removed]",
      "text/plain": [
       "<Figure size 432x288 with 1 Axes>"
      ]
     },
     "metadata": {
      "needs_background": "light"
     },
     "output_type": "display_data"
    },
    {
     "name": "stdout",
     "output_type": "stream",
     "text": [
      "\n",
      " count                   500\n",
      "unique                    1\n",
      "top       Other Banks/Depts\n",
      "freq                    500\n",
      "Name: Concurrent-Credits, dtype: object \n",
      "\n",
      "value counts (%):\n",
      "------------\n",
      "Other Banks/Depts    100.0\n",
      "Name: Concurrent-Credits, dtype: float64\n",
      "\n",
      "Missing values (%): \n",
      "------------\n",
      "0.0\n",
      "================================================================= \n",
      "\n",
      "\n",
      "Summary:\n",
      " No-of-Credits-at-this-Bank\n",
      "---------------------------\n"
     ]
    },
    {
     "data": {
      "image/png": "[encoded data removed]",
      "text/plain": [
       "<Figure size 432x288 with 1 Axes>"
      ]
     },
     "metadata": {
      "needs_background": "light"
     },
     "output_type": "display_data"
    },
    {
     "name": "stdout",
     "output_type": "stream",
     "text": [
      "\n",
      " count     500\n",
      "unique      2\n",
      "top         1\n",
      "freq      320\n",
      "Name: No-of-Credits-at-this-Bank, dtype: object \n",
      "\n",
      "value counts (%):\n",
      "------------\n",
      "1              64.0\n",
      "More than 1    36.0\n",
      "Name: No-of-Credits-at-this-Bank, dtype: float64\n",
      "\n",
      "Missing values (%): \n",
      "------------\n",
      "0.0\n",
      "================================================================= \n",
      "\n",
      "\n"
     ]
    }
   ],
   "source": [
    "for i in categorical_train.columns:\n",
    "    explore_categorical(categorical_train, i)"
   ]
  },
  {
   "cell_type": "code",
   "execution_count": null,
   "id": "e665425d",
   "metadata": {},
   "outputs": [],
   "source": []
  },
  {
   "cell_type": "markdown",
   "id": "52f5978e",
   "metadata": {},
   "source": [
    "1. **Credit-Application-Result** (label variable)\n",
    "- Has two unique categories\n",
    "- Creditworthy appears most making the data unbalanced. This could result into the predictions being skewed towards Creditworthy, indicating that more customers are likely to be given the loan. \n",
    "- There is no missing value\n",
    "2. **Account-Balance** (maintain)\n",
    "- 2 categories with no missing value\n",
    "3. **Payment-Status-of-Previous-Credit** (maintain)\n",
    "- 3 categories with no missing value\n",
    "4. **Purpose** (maintain)\n",
    "- 2 categories with no missing value\n",
    "5. **Value-Savings-Stocks** (maintain)\n",
    "- 3 categories with no missing value\n",
    "6. **Length-of-current-employment** (maintain)\n",
    "- 3 categories with no missing value\n",
    "7. **Guarantors** (drop)\n",
    "- 2 categories with no missing value\n",
    "- not balanced and almost not uniform. about 98% do not have guarantors. Not possible to contribute to credit worthiness determination\n",
    "8. **Concurrent-Credits** (drop)\n",
    "- one unique value\n",
    "- not possible to determine credit worthiness"
   ]
  },
  {
   "cell_type": "code",
   "execution_count": null,
   "id": "5da21ceb",
   "metadata": {},
   "outputs": [],
   "source": []
  },
  {
   "cell_type": "code",
   "execution_count": 208,
   "id": "d8eb6d60",
   "metadata": {},
   "outputs": [
    {
     "name": "stdout",
     "output_type": "stream",
     "text": [
      "Credit-Application-Result  Creditworthy  Non-Creditworthy\n",
      "Account-Balance                                          \n",
      "No Account                          152               110\n",
      "Some Balance                        206                32\n",
      "=================================================================\n",
      "Credit-Application-Result          Creditworthy  Non-Creditworthy\n",
      "Payment-Status-of-Previous-Credit                                \n",
      "No Problems (in this bank)                  162                42\n",
      "Paid Up                                     185                75\n",
      "Some Problems                                11                25\n",
      "=================================================================\n",
      "Credit-Application-Result  Creditworthy  Non-Creditworthy\n",
      "Purpose                                                  \n",
      "Home Related                        244               111\n",
      "Other                               114                31\n",
      "=================================================================\n",
      "Credit-Application-Result  Creditworthy  Non-Creditworthy\n",
      "Value-Savings-Stocks                                     \n",
      "< £100                               36                12\n",
      "None                                195               103\n",
      "£100-£1000                          127                27\n",
      "=================================================================\n",
      "Credit-Application-Result     Creditworthy  Non-Creditworthy\n",
      "Length-of-current-employment                                \n",
      "1-4 yrs                                 76                21\n",
      "4-7 yrs                                 94                30\n",
      "< 1yr                                  188                91\n",
      "=================================================================\n"
     ]
    }
   ],
   "source": [
    "#Credit-Application-Result vs other categorical variables\n",
    "\n",
    "col = ['Account-Balance','Payment-Status-of-Previous-Credit',\n",
    "       'Purpose','Value-Savings-Stocks','Length-of-current-employment']\n",
    "for i in col:\n",
    "    print (pd.crosstab(categorical_train[i], categorical_train['Credit-Application-Result']))\n",
    "    print('='*65)"
   ]
  },
  {
   "cell_type": "markdown",
   "id": "0be61e5c",
   "metadata": {},
   "source": [
    "1. The probility of a customer with some balance being credit worthy is higher than those with no account balance\n",
    "2. On average, those who have some problems with the bank are usually Non-Creditworthy.\n",
    "3. majority of customers borrow money for home related purposes, and have lowest chance of being considered credit worthy than  Other purpose \n",
    "4. Customers with Value-Savings-Stocks of £100-£1000 have highest chance of being creditworthy. \n",
    "5. majority of the customers who spent < 1yr at their current employment. However, those who have spent 1-4 yrs at their current employment have highest chance of being credit worthy \n"
   ]
  },
  {
   "cell_type": "markdown",
   "id": "2e1fe863",
   "metadata": {},
   "source": [
    "#### Exploring Relationship among categorical variables"
   ]
  },
  {
   "cell_type": "code",
   "execution_count": 209,
   "id": "91d7f8f9",
   "metadata": {},
   "outputs": [],
   "source": [
    "def testing_cat(data, i, j):\n",
    "    table = pd.crosstab(data[i], data[j])\n",
    "    test = stat()\n",
    "    test.chisq(table)\n",
    "    print('\\nResults:')\n",
    "    print('='*65)\n",
    "    print(table)\n",
    "    print('-'*65)\n",
    "    print(test.expected_df)\n",
    "    print('='*65)\n",
    "    print(test.summary)\n"
   ]
  },
  {
   "cell_type": "code",
   "execution_count": 210,
   "id": "720cdef2",
   "metadata": {},
   "outputs": [
    {
     "name": "stdout",
     "output_type": "stream",
     "text": [
      "\n",
      "Results:\n",
      "=================================================================\n",
      "Account-Balance            No Account  Some Balance\n",
      "Credit-Application-Result                          \n",
      "Creditworthy                      152           206\n",
      "Non-Creditworthy                  110            32\n",
      "-----------------------------------------------------------------\n",
      "\n",
      "Expected frequency counts\n",
      "\n",
      "      No Account    Some Balance\n",
      "--  ------------  --------------\n",
      " 0       187.592         170.408\n",
      " 1        74.408          67.592\n",
      "\n",
      "=================================================================\n",
      "\n",
      "Chi-squared test for independence\n",
      "\n",
      "Test              Df    Chi-square      P-value\n",
      "--------------  ----  ------------  -----------\n",
      "Pearson            1       48.5598  3.20374e-12\n",
      "Log-likelihood     1       50.8098  1.01762e-12\n",
      "\n"
     ]
    }
   ],
   "source": [
    "#1. 'Credit-Application-Result' and 'Account-Balance'\n",
    "testing_cat(train, 'Credit-Application-Result', 'Account-Balance')\n"
   ]
  },
  {
   "cell_type": "markdown",
   "id": "7a61d729",
   "metadata": {},
   "source": [
    "We fail to accept the hypothesis that **'Credit-Application-Result'** and **'Account-Balance'** are independent since the p-value < 0.05"
   ]
  },
  {
   "cell_type": "code",
   "execution_count": 211,
   "id": "d69d2f15",
   "metadata": {},
   "outputs": [
    {
     "name": "stdout",
     "output_type": "stream",
     "text": [
      "\n",
      "Results:\n",
      "=================================================================\n",
      "Payment-Status-of-Previous-Credit  No Problems (in this bank)  Paid Up  \\\n",
      "Credit-Application-Result                                                \n",
      "Creditworthy                                              162      185   \n",
      "Non-Creditworthy                                           42       75   \n",
      "\n",
      "Payment-Status-of-Previous-Credit  Some Problems  \n",
      "Credit-Application-Result                         \n",
      "Creditworthy                                  11  \n",
      "Non-Creditworthy                              25  \n",
      "-----------------------------------------------------------------\n",
      "\n",
      "Expected frequency counts\n",
      "\n",
      "      No Problems (in this bank)    Paid Up    Some Problems\n",
      "--  ----------------------------  ---------  ---------------\n",
      " 0                       146.064     186.16           25.776\n",
      " 1                        57.936      73.84           10.224\n",
      "\n",
      "=================================================================\n",
      "\n",
      "Chi-squared test for independence\n",
      "\n",
      "Test              Df    Chi-square      P-value\n",
      "--------------  ----  ------------  -----------\n",
      "Pearson            2       35.9725  1.54411e-08\n",
      "Log-likelihood     2       32.5286  8.63961e-08\n",
      "\n"
     ]
    }
   ],
   "source": [
    "#2. 'Credit-Application-Result' and 'Account-Balance'\n",
    "testing_cat(train, 'Credit-Application-Result', 'Payment-Status-of-Previous-Credit')\n"
   ]
  },
  {
   "cell_type": "markdown",
   "id": "e6a27296",
   "metadata": {},
   "source": [
    "We fail to accept the hypothesis that **'Credit-Application-Result'** and **'Payment-Status-of-Previous-Credit'** are independent since the p-value < 0.05"
   ]
  },
  {
   "cell_type": "code",
   "execution_count": 212,
   "id": "27de71f1",
   "metadata": {},
   "outputs": [
    {
     "name": "stdout",
     "output_type": "stream",
     "text": [
      "\n",
      "Results:\n",
      "=================================================================\n",
      "Purpose                    Home Related  Other\n",
      "Credit-Application-Result                     \n",
      "Creditworthy                        244    114\n",
      "Non-Creditworthy                    111     31\n",
      "-----------------------------------------------------------------\n",
      "\n",
      "Expected frequency counts\n",
      "\n",
      "      Home Related    Other\n",
      "--  --------------  -------\n",
      " 0          254.18   103.82\n",
      " 1          100.82    41.18\n",
      "\n",
      "=================================================================\n",
      "\n",
      "Chi-squared test for independence\n",
      "\n",
      "Test              Df    Chi-square    P-value\n",
      "--------------  ----  ------------  ---------\n",
      "Pearson            1       4.47603  0.0343735\n",
      "Log-likelihood     1       4.62836  0.0314477\n",
      "\n"
     ]
    }
   ],
   "source": [
    "#3. 'Credit-Application-Result' and 'Purpose'\n",
    "testing_cat(train, 'Credit-Application-Result', 'Purpose')\n"
   ]
  },
  {
   "cell_type": "markdown",
   "id": "fb7f933e",
   "metadata": {},
   "source": [
    "Fail to reject the hypothesis that **'Credit-Application-Result'** and **'Purpose'** are independent since the p-value < 0.05. <br><br>\n"
   ]
  },
  {
   "cell_type": "code",
   "execution_count": 213,
   "id": "8684a209",
   "metadata": {},
   "outputs": [
    {
     "name": "stdout",
     "output_type": "stream",
     "text": [
      "\n",
      "Results:\n",
      "=================================================================\n",
      "Value-Savings-Stocks       < £100  None  £100-£1000\n",
      "Credit-Application-Result                          \n",
      "Creditworthy                   36   195         127\n",
      "Non-Creditworthy               12   103          27\n",
      "-----------------------------------------------------------------\n",
      "\n",
      "Expected frequency counts\n",
      "\n",
      "      < £100     None    £100-£1000\n",
      "--  --------  -------  ------------\n",
      " 0    34.368  213.368       110.264\n",
      " 1    13.632   84.632        43.736\n",
      "\n",
      "=================================================================\n",
      "\n",
      "Chi-squared test for independence\n",
      "\n",
      "Test              Df    Chi-square      P-value\n",
      "--------------  ----  ------------  -----------\n",
      "Pearson            2        14.785  0.00061586\n",
      "Log-likelihood     2        15.481  0.000434851\n",
      "\n"
     ]
    }
   ],
   "source": [
    "#4. 'Credit-Application-Result' and 'Value-Savings-Stocks'\n",
    "testing_cat(train, 'Credit-Application-Result', 'Value-Savings-Stocks')"
   ]
  },
  {
   "cell_type": "markdown",
   "id": "ab3db75a",
   "metadata": {},
   "source": [
    "We fail to accept the hypothesis that **'Credit-Application-Result'** and **'Value-Savings-Stocks'** are independent since the p-value < 0.05"
   ]
  },
  {
   "cell_type": "code",
   "execution_count": 214,
   "id": "f93d14fc",
   "metadata": {},
   "outputs": [
    {
     "name": "stdout",
     "output_type": "stream",
     "text": [
      "\n",
      "Results:\n",
      "=================================================================\n",
      "Length-of-current-employment  1-4 yrs  4-7 yrs  < 1yr\n",
      "Credit-Application-Result                            \n",
      "Creditworthy                       76       94    188\n",
      "Non-Creditworthy                   21       30     91\n",
      "-----------------------------------------------------------------\n",
      "\n",
      "Expected frequency counts\n",
      "\n",
      "      1-4 yrs    4-7 yrs    < 1yr\n",
      "--  ---------  ---------  -------\n",
      " 0     69.452     88.784  199.764\n",
      " 1     27.548     35.216   79.236\n",
      "\n",
      "=================================================================\n",
      "\n",
      "Chi-squared test for independence\n",
      "\n",
      "Test              Df    Chi-square    P-value\n",
      "--------------  ----  ------------  ---------\n",
      "Pearson            2       5.69213  0.0580725\n",
      "Log-likelihood     2       5.78294  0.0554945\n",
      "\n"
     ]
    }
   ],
   "source": [
    "#5. 'Credit-Application-Result' and 'Length-of-current-employment'\n",
    "testing_cat(train, 'Credit-Application-Result', 'Length-of-current-employment')"
   ]
  },
  {
   "cell_type": "markdown",
   "id": "3cd58b10",
   "metadata": {},
   "source": [
    "Though We failed to reject the hypothesis that **'Credit-Application-Result'** and **'Length-of-current-employment'** are independent since the p-value > 0.05,  <br><br>\n",
    "**Length-of-current-employment (is maintained)**"
   ]
  },
  {
   "cell_type": "code",
   "execution_count": 215,
   "id": "47313f44",
   "metadata": {},
   "outputs": [],
   "source": [
    "#Drop the following categorical variables in both train and test:\n",
    "#1. Guarantors\n",
    "#2. Concurrent-Credits\n"
   ]
  },
  {
   "cell_type": "code",
   "execution_count": 216,
   "id": "1f6df265",
   "metadata": {},
   "outputs": [],
   "source": [
    "categorical_train = categorical_train.drop(columns=['Guarantors', 'Concurrent-Credits'])"
   ]
  },
  {
   "cell_type": "code",
   "execution_count": 217,
   "id": "1f07e3d9",
   "metadata": {},
   "outputs": [],
   "source": [
    "train = train.drop(columns=['Guarantors', 'Concurrent-Credits'])\n"
   ]
  },
  {
   "cell_type": "code",
   "execution_count": 218,
   "id": "33fd6434",
   "metadata": {},
   "outputs": [],
   "source": [
    "test = test.drop(columns=['Guarantors', 'Concurrent-Credits'])\n"
   ]
  },
  {
   "cell_type": "markdown",
   "id": "4eacb53d",
   "metadata": {},
   "source": [
    "#### Exploring Numerical variables"
   ]
  },
  {
   "cell_type": "code",
   "execution_count": 219,
   "id": "e1b9c43d",
   "metadata": {},
   "outputs": [
    {
     "data": {
      "text/html": [
       "<div>\n",
       "<style scoped>\n",
       "    .dataframe tbody tr th:only-of-type {\n",
       "        vertical-align: middle;\n",
       "    }\n",
       "\n",
       "    .dataframe tbody tr th {\n",
       "        vertical-align: top;\n",
       "    }\n",
       "\n",
       "    .dataframe thead th {\n",
       "        text-align: right;\n",
       "    }\n",
       "</style>\n",
       "<table border=\"1\" class=\"dataframe\">\n",
       "  <thead>\n",
       "    <tr style=\"text-align: right;\">\n",
       "      <th></th>\n",
       "      <th>Duration-of-Credit-Month</th>\n",
       "      <th>Credit-Amount</th>\n",
       "      <th>Instalment-per-cent</th>\n",
       "      <th>Duration-in-Current-address</th>\n",
       "      <th>Most-valuable-available-asset</th>\n",
       "      <th>Age-years</th>\n",
       "      <th>Type-of-apartment</th>\n",
       "      <th>Occupation</th>\n",
       "      <th>No-of-dependents</th>\n",
       "      <th>Telephone</th>\n",
       "      <th>Foreign-Worker</th>\n",
       "    </tr>\n",
       "  </thead>\n",
       "  <tbody>\n",
       "    <tr>\n",
       "      <th>0</th>\n",
       "      <td>4</td>\n",
       "      <td>1494</td>\n",
       "      <td>1</td>\n",
       "      <td>2.0</td>\n",
       "      <td>1</td>\n",
       "      <td>NaN</td>\n",
       "      <td>2</td>\n",
       "      <td>1</td>\n",
       "      <td>2</td>\n",
       "      <td>1</td>\n",
       "      <td>2</td>\n",
       "    </tr>\n",
       "    <tr>\n",
       "      <th>1</th>\n",
       "      <td>4</td>\n",
       "      <td>1494</td>\n",
       "      <td>1</td>\n",
       "      <td>2.0</td>\n",
       "      <td>1</td>\n",
       "      <td>29.0</td>\n",
       "      <td>2</td>\n",
       "      <td>1</td>\n",
       "      <td>2</td>\n",
       "      <td>1</td>\n",
       "      <td>2</td>\n",
       "    </tr>\n",
       "    <tr>\n",
       "      <th>2</th>\n",
       "      <td>4</td>\n",
       "      <td>1544</td>\n",
       "      <td>2</td>\n",
       "      <td>1.0</td>\n",
       "      <td>1</td>\n",
       "      <td>42.0</td>\n",
       "      <td>2</td>\n",
       "      <td>1</td>\n",
       "      <td>2</td>\n",
       "      <td>1</td>\n",
       "      <td>1</td>\n",
       "    </tr>\n",
       "    <tr>\n",
       "      <th>3</th>\n",
       "      <td>4</td>\n",
       "      <td>3380</td>\n",
       "      <td>1</td>\n",
       "      <td>1.0</td>\n",
       "      <td>1</td>\n",
       "      <td>37.0</td>\n",
       "      <td>2</td>\n",
       "      <td>1</td>\n",
       "      <td>2</td>\n",
       "      <td>1</td>\n",
       "      <td>1</td>\n",
       "    </tr>\n",
       "    <tr>\n",
       "      <th>4</th>\n",
       "      <td>6</td>\n",
       "      <td>343</td>\n",
       "      <td>4</td>\n",
       "      <td>1.0</td>\n",
       "      <td>1</td>\n",
       "      <td>27.0</td>\n",
       "      <td>2</td>\n",
       "      <td>1</td>\n",
       "      <td>1</td>\n",
       "      <td>1</td>\n",
       "      <td>1</td>\n",
       "    </tr>\n",
       "  </tbody>\n",
       "</table>\n",
       "</div>"
      ],
      "text/plain": [
       "   Duration-of-Credit-Month  Credit-Amount  Instalment-per-cent  \\\n",
       "0                         4           1494                    1   \n",
       "1                         4           1494                    1   \n",
       "2                         4           1544                    2   \n",
       "3                         4           3380                    1   \n",
       "4                         6            343                    4   \n",
       "\n",
       "   Duration-in-Current-address  Most-valuable-available-asset  Age-years  \\\n",
       "0                          2.0                              1        NaN   \n",
       "1                          2.0                              1       29.0   \n",
       "2                          1.0                              1       42.0   \n",
       "3                          1.0                              1       37.0   \n",
       "4                          1.0                              1       27.0   \n",
       "\n",
       "   Type-of-apartment  Occupation  No-of-dependents  Telephone  Foreign-Worker  \n",
       "0                  2           1                 2          1               2  \n",
       "1                  2           1                 2          1               2  \n",
       "2                  2           1                 2          1               1  \n",
       "3                  2           1                 2          1               1  \n",
       "4                  2           1                 1          1               1  "
      ]
     },
     "execution_count": 219,
     "metadata": {},
     "output_type": "execute_result"
    }
   ],
   "source": [
    "numeric_train.head()"
   ]
  },
  {
   "cell_type": "markdown",
   "id": "b6d952f0",
   "metadata": {},
   "source": [
    "**feature addition:**\n",
    "- Credit-Amount-per-dependant = credit-Amount / No-of-dependents\n",
    "This is is a useful information that could determine how a customer is likely to be credit worthy"
   ]
  },
  {
   "cell_type": "code",
   "execution_count": null,
   "id": "9bc805e2",
   "metadata": {},
   "outputs": [],
   "source": []
  },
  {
   "cell_type": "code",
   "execution_count": 220,
   "id": "76053780",
   "metadata": {},
   "outputs": [],
   "source": [
    "def numeric_var_explore(df, i):\n",
    "    print (\"Summary:\")\n",
    "    print('-'*65)\n",
    "    print(df[i].describe())\n",
    "    print('-'*65)\n",
    "    print(\"Missing values: {}\".format(df[i].isnull().sum()))\n",
    "    #Fill missing value with median if not zero\n",
    "    \n",
    "\n",
    "    #Histogram\n",
    "    plt.subplot(1,2,1)\n",
    "    plt.hist(df[i])\n",
    "\n",
    "    plt.title('Histogram')\n",
    "    \n",
    "    #Boxplot of numeric variables\n",
    "    plt.figsize=(5,5)\n",
    "    plt.subplot(1,2,2)\n",
    "    plt.boxplot(df[i], vert=True, patch_artist=True, notch=True, showmeans=True)\n",
    "    plt.xlabel(df[i].name)\n",
    "    plt.title('Boxplot')\n",
    "    plt.tight_layout()\n",
    "\n",
    "    plt.show()"
   ]
  },
  {
   "cell_type": "code",
   "execution_count": 221,
   "id": "43e7499b",
   "metadata": {
    "scrolled": false
   },
   "outputs": [
    {
     "name": "stdout",
     "output_type": "stream",
     "text": [
      "Summary:\n",
      "-----------------------------------------------------------------\n",
      "count    500.00000\n",
      "mean      21.43400\n",
      "std       12.30742\n",
      "min        4.00000\n",
      "25%       12.00000\n",
      "50%       18.00000\n",
      "75%       24.00000\n",
      "max       60.00000\n",
      "Name: Duration-of-Credit-Month, dtype: float64\n",
      "-----------------------------------------------------------------\n",
      "Missing values: 0\n"
     ]
    },
    {
     "data": {
      "image/png": "[encoded data removed]",
      "text/plain": [
       "<Figure size 432x288 with 2 Axes>"
      ]
     },
     "metadata": {
      "needs_background": "light"
     },
     "output_type": "display_data"
    },
    {
     "name": "stdout",
     "output_type": "stream",
     "text": [
      "Summary:\n",
      "-----------------------------------------------------------------\n",
      "count      500.000000\n",
      "mean      3199.980000\n",
      "std       2831.386861\n",
      "min        276.000000\n",
      "25%       1357.250000\n",
      "50%       2236.500000\n",
      "75%       3941.500000\n",
      "max      18424.000000\n",
      "Name: Credit-Amount, dtype: float64\n",
      "-----------------------------------------------------------------\n",
      "Missing values: 0\n"
     ]
    },
    {
     "data": {
      "image/png": "[encoded data removed]",
      "text/plain": [
       "<Figure size 432x288 with 2 Axes>"
      ]
     },
     "metadata": {
      "needs_background": "light"
     },
     "output_type": "display_data"
    },
    {
     "name": "stdout",
     "output_type": "stream",
     "text": [
      "Summary:\n",
      "-----------------------------------------------------------------\n",
      "count    500.000000\n",
      "mean       3.010000\n",
      "std        1.113724\n",
      "min        1.000000\n",
      "25%        2.000000\n",
      "50%        3.000000\n",
      "75%        4.000000\n",
      "max        4.000000\n",
      "Name: Instalment-per-cent, dtype: float64\n",
      "-----------------------------------------------------------------\n",
      "Missing values: 0\n"
     ]
    },
    {
     "data": {
      "image/png": "[encoded data removed]",
      "text/plain": [
       "<Figure size 432x288 with 2 Axes>"
      ]
     },
     "metadata": {
      "needs_background": "light"
     },
     "output_type": "display_data"
    },
    {
     "name": "stdout",
     "output_type": "stream",
     "text": [
      "Summary:\n",
      "-----------------------------------------------------------------\n",
      "count    156.000000\n",
      "mean       2.660256\n",
      "std        1.150017\n",
      "min        1.000000\n",
      "25%        2.000000\n",
      "50%        2.000000\n",
      "75%        4.000000\n",
      "max        4.000000\n",
      "Name: Duration-in-Current-address, dtype: float64\n",
      "-----------------------------------------------------------------\n",
      "Missing values: 344\n"
     ]
    },
    {
     "data": {
      "image/png": "[encoded data removed]",
      "text/plain": [
       "<Figure size 432x288 with 2 Axes>"
      ]
     },
     "metadata": {
      "needs_background": "light"
     },
     "output_type": "display_data"
    },
    {
     "name": "stdout",
     "output_type": "stream",
     "text": [
      "Summary:\n",
      "-----------------------------------------------------------------\n",
      "count    500.000000\n",
      "mean       2.360000\n",
      "std        1.064268\n",
      "min        1.000000\n",
      "25%        1.000000\n",
      "50%        3.000000\n",
      "75%        3.000000\n",
      "max        4.000000\n",
      "Name: Most-valuable-available-asset, dtype: float64\n",
      "-----------------------------------------------------------------\n",
      "Missing values: 0\n"
     ]
    },
    {
     "data": {
      "image/png": "[encoded data removed]",
      "text/plain": [
       "<Figure size 432x288 with 2 Axes>"
      ]
     },
     "metadata": {
      "needs_background": "light"
     },
     "output_type": "display_data"
    },
    {
     "name": "stdout",
     "output_type": "stream",
     "text": [
      "Summary:\n",
      "-----------------------------------------------------------------\n",
      "count    488.000000\n",
      "mean      35.637295\n",
      "std       11.501522\n",
      "min       19.000000\n",
      "25%       27.000000\n",
      "50%       33.000000\n",
      "75%       42.000000\n",
      "max       75.000000\n",
      "Name: Age-years, dtype: float64\n",
      "-----------------------------------------------------------------\n",
      "Missing values: 12\n"
     ]
    },
    {
     "data": {
      "image/png": "[encoded data removed]",
      "text/plain": [
       "<Figure size 432x288 with 2 Axes>"
      ]
     },
     "metadata": {
      "needs_background": "light"
     },
     "output_type": "display_data"
    },
    {
     "name": "stdout",
     "output_type": "stream",
     "text": [
      "Summary:\n",
      "-----------------------------------------------------------------\n",
      "count    500.000000\n",
      "mean       1.928000\n",
      "std        0.539814\n",
      "min        1.000000\n",
      "25%        2.000000\n",
      "50%        2.000000\n",
      "75%        2.000000\n",
      "max        3.000000\n",
      "Name: Type-of-apartment, dtype: float64\n",
      "-----------------------------------------------------------------\n",
      "Missing values: 0\n"
     ]
    },
    {
     "data": {
      "image/png": "[encoded data removed]",
      "text/plain": [
       "<Figure size 432x288 with 2 Axes>"
      ]
     },
     "metadata": {
      "needs_background": "light"
     },
     "output_type": "display_data"
    },
    {
     "name": "stdout",
     "output_type": "stream",
     "text": [
      "Summary:\n",
      "-----------------------------------------------------------------\n",
      "count    500.0\n",
      "mean       1.0\n",
      "std        0.0\n",
      "min        1.0\n",
      "25%        1.0\n",
      "50%        1.0\n",
      "75%        1.0\n",
      "max        1.0\n",
      "Name: Occupation, dtype: float64\n",
      "-----------------------------------------------------------------\n",
      "Missing values: 0\n"
     ]
    },
    {
     "data": {
      "image/png": "[encoded data removed]",
      "text/plain": [
       "<Figure size 432x288 with 2 Axes>"
      ]
     },
     "metadata": {
      "needs_background": "light"
     },
     "output_type": "display_data"
    },
    {
     "name": "stdout",
     "output_type": "stream",
     "text": [
      "Summary:\n",
      "-----------------------------------------------------------------\n",
      "count    500.00000\n",
      "mean       1.14600\n",
      "std        0.35346\n",
      "min        1.00000\n",
      "25%        1.00000\n",
      "50%        1.00000\n",
      "75%        1.00000\n",
      "max        2.00000\n",
      "Name: No-of-dependents, dtype: float64\n",
      "-----------------------------------------------------------------\n",
      "Missing values: 0\n"
     ]
    },
    {
     "data": {
      "image/png": "[encoded data removed]",
      "text/plain": [
       "<Figure size 432x288 with 2 Axes>"
      ]
     },
     "metadata": {
      "needs_background": "light"
     },
     "output_type": "display_data"
    },
    {
     "name": "stdout",
     "output_type": "stream",
     "text": [
      "Summary:\n",
      "-----------------------------------------------------------------\n",
      "count    500.000000\n",
      "mean       1.400000\n",
      "std        0.490389\n",
      "min        1.000000\n",
      "25%        1.000000\n",
      "50%        1.000000\n",
      "75%        2.000000\n",
      "max        2.000000\n",
      "Name: Telephone, dtype: float64\n",
      "-----------------------------------------------------------------\n",
      "Missing values: 0\n"
     ]
    },
    {
     "data": {
      "image/png": "[encoded data removed]",
      "text/plain": [
       "<Figure size 432x288 with 2 Axes>"
      ]
     },
     "metadata": {
      "needs_background": "light"
     },
     "output_type": "display_data"
    },
    {
     "name": "stdout",
     "output_type": "stream",
     "text": [
      "Summary:\n",
      "-----------------------------------------------------------------\n",
      "count    500.000000\n",
      "mean       1.038000\n",
      "std        0.191388\n",
      "min        1.000000\n",
      "25%        1.000000\n",
      "50%        1.000000\n",
      "75%        1.000000\n",
      "max        2.000000\n",
      "Name: Foreign-Worker, dtype: float64\n",
      "-----------------------------------------------------------------\n",
      "Missing values: 0\n"
     ]
    },
    {
     "data": {
      "image/png": "[encoded data removed]",
      "text/plain": [
       "<Figure size 432x288 with 2 Axes>"
      ]
     },
     "metadata": {
      "needs_background": "light"
     },
     "output_type": "display_data"
    }
   ],
   "source": [
    "for i in numeric_train.columns:\n",
    "    numeric_var_explore(numeric_train,i)"
   ]
  },
  {
   "cell_type": "markdown",
   "id": "edabc831",
   "metadata": {},
   "source": [
    "**Drop:**\n",
    "- Duration-in-Current-address (lot of missing values)\n",
    "- Occupation (Single vaue causing uniformity)\n",
    "- Foriegn worker (low variance)\n",
    "\n",
    "**replace Missing values**\n",
    "- Age-years"
   ]
  },
  {
   "cell_type": "markdown",
   "id": "d904fc89",
   "metadata": {},
   "source": [
    "#### Correlation among the numeric variables"
   ]
  },
  {
   "cell_type": "code",
   "execution_count": 222,
   "id": "f651140f",
   "metadata": {},
   "outputs": [
    {
     "data": {
      "image/png": "[encoded data removed]",
      "text/plain": [
       "<Figure size 576x288 with 2 Axes>"
      ]
     },
     "metadata": {
      "needs_background": "light"
     },
     "output_type": "display_data"
    }
   ],
   "source": [
    "\n",
    "corr = numeric_train.corr().abs()\n",
    "matrix = np.triu(corr)\n",
    "plt.figure(figsize = [8, 4])\n",
    "sns.heatmap(corr,annot = True, cmap='jet', mask=matrix) #zero discount included\n",
    "plt.xlabel('zero discount included')\n",
    "\n",
    "plt.show()"
   ]
  },
  {
   "cell_type": "markdown",
   "id": "621acf32",
   "metadata": {},
   "source": [
    "Non of the correlations exceed 0.70. Occupation still needs to be dropped"
   ]
  },
  {
   "cell_type": "code",
   "execution_count": 223,
   "id": "dee88bd4",
   "metadata": {},
   "outputs": [
    {
     "data": {
      "text/plain": [
       "12"
      ]
     },
     "execution_count": 223,
     "metadata": {},
     "output_type": "execute_result"
    }
   ],
   "source": [
    "# replacing missing values in Age-years\n",
    "numeric_train['Age-years'].isnull().sum()"
   ]
  },
  {
   "cell_type": "code",
   "execution_count": 224,
   "id": "8a93abc2",
   "metadata": {},
   "outputs": [
    {
     "data": {
      "text/plain": [
       "0"
      ]
     },
     "execution_count": 224,
     "metadata": {},
     "output_type": "execute_result"
    }
   ],
   "source": [
    "median = numeric_train['Age-years'].median()\n",
    "train['Age-years'] = train['Age-years'].fillna(median)\n",
    "\n",
    "train['Age-years'].isnull().sum()"
   ]
  },
  {
   "cell_type": "code",
   "execution_count": 225,
   "id": "c5867bec",
   "metadata": {},
   "outputs": [
    {
     "data": {
      "text/plain": [
       "0"
      ]
     },
     "execution_count": 225,
     "metadata": {},
     "output_type": "execute_result"
    }
   ],
   "source": [
    "test['Age-years'].isnull().sum()"
   ]
  },
  {
   "cell_type": "code",
   "execution_count": 226,
   "id": "967fc7c3",
   "metadata": {},
   "outputs": [],
   "source": [
    "#Deop the following numeric variables in train and test\n",
    "#1. Duration-in-Current-address \n",
    "#2. Occupation \n",
    "#3. Foriegn worker "
   ]
  },
  {
   "cell_type": "code",
   "execution_count": 227,
   "id": "57839d7b",
   "metadata": {},
   "outputs": [],
   "source": [
    "numeric_train = numeric_train.drop(columns=['Duration-in-Current-address', 'Occupation', 'Foreign-Worker'])"
   ]
  },
  {
   "cell_type": "code",
   "execution_count": 228,
   "id": "8417f01f",
   "metadata": {},
   "outputs": [],
   "source": [
    "train = train.drop(columns=['Duration-in-Current-address', 'Occupation', 'Foreign-Worker'])\n"
   ]
  },
  {
   "cell_type": "code",
   "execution_count": 229,
   "id": "bcc653b6",
   "metadata": {},
   "outputs": [],
   "source": [
    "test = test.drop(columns=['Duration-in-Current-address', 'Occupation', 'Foreign-Worker'])\n"
   ]
  },
  {
   "cell_type": "code",
   "execution_count": 230,
   "id": "4358e4ea",
   "metadata": {},
   "outputs": [
    {
     "name": "stdout",
     "output_type": "stream",
     "text": [
      "<class 'pandas.core.frame.DataFrame'>\n",
      "RangeIndex: 500 entries, 0 to 499\n",
      "Data columns (total 15 columns):\n",
      " #   Column                             Non-Null Count  Dtype  \n",
      "---  ------                             --------------  -----  \n",
      " 0   Credit-Application-Result          500 non-null    object \n",
      " 1   Account-Balance                    500 non-null    object \n",
      " 2   Duration-of-Credit-Month           500 non-null    int64  \n",
      " 3   Payment-Status-of-Previous-Credit  500 non-null    object \n",
      " 4   Purpose                            500 non-null    object \n",
      " 5   Credit-Amount                      500 non-null    int64  \n",
      " 6   Value-Savings-Stocks               500 non-null    object \n",
      " 7   Length-of-current-employment       500 non-null    object \n",
      " 8   Instalment-per-cent                500 non-null    int64  \n",
      " 9   Most-valuable-available-asset      500 non-null    int64  \n",
      " 10  Age-years                          500 non-null    float64\n",
      " 11  Type-of-apartment                  500 non-null    int64  \n",
      " 12  No-of-Credits-at-this-Bank         500 non-null    object \n",
      " 13  No-of-dependents                   500 non-null    int64  \n",
      " 14  Telephone                          500 non-null    int64  \n",
      "dtypes: float64(1), int64(7), object(7)\n",
      "memory usage: 58.7+ KB\n"
     ]
    }
   ],
   "source": [
    "#Final inspection of categorical and numerical variables\n",
    "\n",
    "train.info()"
   ]
  },
  {
   "cell_type": "code",
   "execution_count": 231,
   "id": "ec327c5c",
   "metadata": {},
   "outputs": [
    {
     "name": "stdout",
     "output_type": "stream",
     "text": [
      "<class 'pandas.core.frame.DataFrame'>\n",
      "RangeIndex: 500 entries, 0 to 499\n",
      "Data columns (total 14 columns):\n",
      " #   Column                             Non-Null Count  Dtype \n",
      "---  ------                             --------------  ----- \n",
      " 0   Account-Balance                    500 non-null    object\n",
      " 1   Duration-of-Credit-Month           500 non-null    int64 \n",
      " 2   Payment-Status-of-Previous-Credit  500 non-null    object\n",
      " 3   Purpose                            500 non-null    object\n",
      " 4   Credit-Amount                      500 non-null    int64 \n",
      " 5   Value-Savings-Stocks               500 non-null    object\n",
      " 6   Length-of-current-employment       500 non-null    object\n",
      " 7   Instalment-per-cent                500 non-null    int64 \n",
      " 8   Most-valuable-available-asset      500 non-null    int64 \n",
      " 9   Age-years                          500 non-null    int64 \n",
      " 10  Type-of-apartment                  500 non-null    int64 \n",
      " 11  No-of-Credits-at-this-Bank         500 non-null    object\n",
      " 12  No-of-dependents                   500 non-null    int64 \n",
      " 13  Telephone                          500 non-null    int64 \n",
      "dtypes: int64(8), object(6)\n",
      "memory usage: 54.8+ KB\n"
     ]
    }
   ],
   "source": [
    "test.info()"
   ]
  },
  {
   "cell_type": "markdown",
   "id": "b5456c4b",
   "metadata": {},
   "source": [
    "## Data Preprocessing "
   ]
  },
  {
   "cell_type": "markdown",
   "id": "10109afc",
   "metadata": {},
   "source": [
    "1. Encoding Categorical variables\n"
   ]
  },
  {
   "cell_type": "code",
   "execution_count": null,
   "id": "909075fd",
   "metadata": {},
   "outputs": [],
   "source": []
  },
  {
   "cell_type": "code",
   "execution_count": 232,
   "id": "52d665f3",
   "metadata": {},
   "outputs": [
    {
     "data": {
      "text/html": [
       "<div>\n",
       "<style scoped>\n",
       "    .dataframe tbody tr th:only-of-type {\n",
       "        vertical-align: middle;\n",
       "    }\n",
       "\n",
       "    .dataframe tbody tr th {\n",
       "        vertical-align: top;\n",
       "    }\n",
       "\n",
       "    .dataframe thead th {\n",
       "        text-align: right;\n",
       "    }\n",
       "</style>\n",
       "<table border=\"1\" class=\"dataframe\">\n",
       "  <thead>\n",
       "    <tr style=\"text-align: right;\">\n",
       "      <th></th>\n",
       "      <th>Credit-Application-Result</th>\n",
       "      <th>Account-Balance</th>\n",
       "      <th>Duration-of-Credit-Month</th>\n",
       "      <th>Payment-Status-of-Previous-Credit</th>\n",
       "      <th>Purpose</th>\n",
       "      <th>Credit-Amount</th>\n",
       "      <th>Value-Savings-Stocks</th>\n",
       "      <th>Length-of-current-employment</th>\n",
       "      <th>Instalment-per-cent</th>\n",
       "      <th>Most-valuable-available-asset</th>\n",
       "      <th>Age-years</th>\n",
       "      <th>Type-of-apartment</th>\n",
       "      <th>No-of-Credits-at-this-Bank</th>\n",
       "      <th>No-of-dependents</th>\n",
       "      <th>Telephone</th>\n",
       "    </tr>\n",
       "  </thead>\n",
       "  <tbody>\n",
       "    <tr>\n",
       "      <th>0</th>\n",
       "      <td>0</td>\n",
       "      <td>Some Balance</td>\n",
       "      <td>4</td>\n",
       "      <td>Paid Up</td>\n",
       "      <td>Other</td>\n",
       "      <td>1494</td>\n",
       "      <td>£100-£1000</td>\n",
       "      <td>&lt; 1yr</td>\n",
       "      <td>1</td>\n",
       "      <td>1</td>\n",
       "      <td>33.0</td>\n",
       "      <td>2</td>\n",
       "      <td>1</td>\n",
       "      <td>2</td>\n",
       "      <td>1</td>\n",
       "    </tr>\n",
       "    <tr>\n",
       "      <th>1</th>\n",
       "      <td>0</td>\n",
       "      <td>Some Balance</td>\n",
       "      <td>4</td>\n",
       "      <td>Paid Up</td>\n",
       "      <td>Home Related</td>\n",
       "      <td>1494</td>\n",
       "      <td>£100-£1000</td>\n",
       "      <td>&lt; 1yr</td>\n",
       "      <td>1</td>\n",
       "      <td>1</td>\n",
       "      <td>29.0</td>\n",
       "      <td>2</td>\n",
       "      <td>1</td>\n",
       "      <td>2</td>\n",
       "      <td>1</td>\n",
       "    </tr>\n",
       "    <tr>\n",
       "      <th>2</th>\n",
       "      <td>0</td>\n",
       "      <td>Some Balance</td>\n",
       "      <td>4</td>\n",
       "      <td>No Problems (in this bank)</td>\n",
       "      <td>Home Related</td>\n",
       "      <td>1544</td>\n",
       "      <td>None</td>\n",
       "      <td>1-4 yrs</td>\n",
       "      <td>2</td>\n",
       "      <td>1</td>\n",
       "      <td>42.0</td>\n",
       "      <td>2</td>\n",
       "      <td>More than 1</td>\n",
       "      <td>2</td>\n",
       "      <td>1</td>\n",
       "    </tr>\n",
       "    <tr>\n",
       "      <th>3</th>\n",
       "      <td>0</td>\n",
       "      <td>Some Balance</td>\n",
       "      <td>4</td>\n",
       "      <td>No Problems (in this bank)</td>\n",
       "      <td>Home Related</td>\n",
       "      <td>3380</td>\n",
       "      <td>None</td>\n",
       "      <td>1-4 yrs</td>\n",
       "      <td>1</td>\n",
       "      <td>1</td>\n",
       "      <td>37.0</td>\n",
       "      <td>2</td>\n",
       "      <td>1</td>\n",
       "      <td>2</td>\n",
       "      <td>1</td>\n",
       "    </tr>\n",
       "    <tr>\n",
       "      <th>4</th>\n",
       "      <td>0</td>\n",
       "      <td>No Account</td>\n",
       "      <td>6</td>\n",
       "      <td>Paid Up</td>\n",
       "      <td>Home Related</td>\n",
       "      <td>343</td>\n",
       "      <td>None</td>\n",
       "      <td>&lt; 1yr</td>\n",
       "      <td>4</td>\n",
       "      <td>1</td>\n",
       "      <td>27.0</td>\n",
       "      <td>2</td>\n",
       "      <td>1</td>\n",
       "      <td>1</td>\n",
       "      <td>1</td>\n",
       "    </tr>\n",
       "    <tr>\n",
       "      <th>...</th>\n",
       "      <td>...</td>\n",
       "      <td>...</td>\n",
       "      <td>...</td>\n",
       "      <td>...</td>\n",
       "      <td>...</td>\n",
       "      <td>...</td>\n",
       "      <td>...</td>\n",
       "      <td>...</td>\n",
       "      <td>...</td>\n",
       "      <td>...</td>\n",
       "      <td>...</td>\n",
       "      <td>...</td>\n",
       "      <td>...</td>\n",
       "      <td>...</td>\n",
       "      <td>...</td>\n",
       "    </tr>\n",
       "    <tr>\n",
       "      <th>495</th>\n",
       "      <td>0</td>\n",
       "      <td>No Account</td>\n",
       "      <td>60</td>\n",
       "      <td>No Problems (in this bank)</td>\n",
       "      <td>Other</td>\n",
       "      <td>7418</td>\n",
       "      <td>£100-£1000</td>\n",
       "      <td>&lt; 1yr</td>\n",
       "      <td>1</td>\n",
       "      <td>1</td>\n",
       "      <td>33.0</td>\n",
       "      <td>2</td>\n",
       "      <td>1</td>\n",
       "      <td>1</td>\n",
       "      <td>1</td>\n",
       "    </tr>\n",
       "    <tr>\n",
       "      <th>496</th>\n",
       "      <td>0</td>\n",
       "      <td>No Account</td>\n",
       "      <td>60</td>\n",
       "      <td>No Problems (in this bank)</td>\n",
       "      <td>Home Related</td>\n",
       "      <td>7418</td>\n",
       "      <td>£100-£1000</td>\n",
       "      <td>&lt; 1yr</td>\n",
       "      <td>1</td>\n",
       "      <td>1</td>\n",
       "      <td>27.0</td>\n",
       "      <td>2</td>\n",
       "      <td>1</td>\n",
       "      <td>1</td>\n",
       "      <td>1</td>\n",
       "    </tr>\n",
       "    <tr>\n",
       "      <th>497</th>\n",
       "      <td>0</td>\n",
       "      <td>No Account</td>\n",
       "      <td>60</td>\n",
       "      <td>No Problems (in this bank)</td>\n",
       "      <td>Home Related</td>\n",
       "      <td>9157</td>\n",
       "      <td>£100-£1000</td>\n",
       "      <td>&lt; 1yr</td>\n",
       "      <td>2</td>\n",
       "      <td>4</td>\n",
       "      <td>27.0</td>\n",
       "      <td>3</td>\n",
       "      <td>1</td>\n",
       "      <td>1</td>\n",
       "      <td>1</td>\n",
       "    </tr>\n",
       "    <tr>\n",
       "      <th>498</th>\n",
       "      <td>0</td>\n",
       "      <td>Some Balance</td>\n",
       "      <td>60</td>\n",
       "      <td>No Problems (in this bank)</td>\n",
       "      <td>Home Related</td>\n",
       "      <td>13756</td>\n",
       "      <td>£100-£1000</td>\n",
       "      <td>4-7 yrs</td>\n",
       "      <td>2</td>\n",
       "      <td>4</td>\n",
       "      <td>63.0</td>\n",
       "      <td>3</td>\n",
       "      <td>1</td>\n",
       "      <td>1</td>\n",
       "      <td>2</td>\n",
       "    </tr>\n",
       "    <tr>\n",
       "      <th>499</th>\n",
       "      <td>1</td>\n",
       "      <td>No Account</td>\n",
       "      <td>60</td>\n",
       "      <td>Paid Up</td>\n",
       "      <td>Home Related</td>\n",
       "      <td>14027</td>\n",
       "      <td>None</td>\n",
       "      <td>1-4 yrs</td>\n",
       "      <td>4</td>\n",
       "      <td>4</td>\n",
       "      <td>27.0</td>\n",
       "      <td>2</td>\n",
       "      <td>1</td>\n",
       "      <td>1</td>\n",
       "      <td>2</td>\n",
       "    </tr>\n",
       "  </tbody>\n",
       "</table>\n",
       "<p>500 rows × 15 columns</p>\n",
       "</div>"
      ],
      "text/plain": [
       "     Credit-Application-Result Account-Balance  Duration-of-Credit-Month  \\\n",
       "0                            0    Some Balance                         4   \n",
       "1                            0    Some Balance                         4   \n",
       "2                            0    Some Balance                         4   \n",
       "3                            0    Some Balance                         4   \n",
       "4                            0      No Account                         6   \n",
       "..                         ...             ...                       ...   \n",
       "495                          0      No Account                        60   \n",
       "496                          0      No Account                        60   \n",
       "497                          0      No Account                        60   \n",
       "498                          0    Some Balance                        60   \n",
       "499                          1      No Account                        60   \n",
       "\n",
       "    Payment-Status-of-Previous-Credit       Purpose  Credit-Amount  \\\n",
       "0                             Paid Up         Other           1494   \n",
       "1                             Paid Up  Home Related           1494   \n",
       "2          No Problems (in this bank)  Home Related           1544   \n",
       "3          No Problems (in this bank)  Home Related           3380   \n",
       "4                             Paid Up  Home Related            343   \n",
       "..                                ...           ...            ...   \n",
       "495        No Problems (in this bank)         Other           7418   \n",
       "496        No Problems (in this bank)  Home Related           7418   \n",
       "497        No Problems (in this bank)  Home Related           9157   \n",
       "498        No Problems (in this bank)  Home Related          13756   \n",
       "499                           Paid Up  Home Related          14027   \n",
       "\n",
       "    Value-Savings-Stocks Length-of-current-employment  Instalment-per-cent  \\\n",
       "0             £100-£1000                        < 1yr                    1   \n",
       "1             £100-£1000                        < 1yr                    1   \n",
       "2                   None                      1-4 yrs                    2   \n",
       "3                   None                      1-4 yrs                    1   \n",
       "4                   None                        < 1yr                    4   \n",
       "..                   ...                          ...                  ...   \n",
       "495           £100-£1000                        < 1yr                    1   \n",
       "496           £100-£1000                        < 1yr                    1   \n",
       "497           £100-£1000                        < 1yr                    2   \n",
       "498           £100-£1000                      4-7 yrs                    2   \n",
       "499                 None                      1-4 yrs                    4   \n",
       "\n",
       "     Most-valuable-available-asset  Age-years  Type-of-apartment  \\\n",
       "0                                1       33.0                  2   \n",
       "1                                1       29.0                  2   \n",
       "2                                1       42.0                  2   \n",
       "3                                1       37.0                  2   \n",
       "4                                1       27.0                  2   \n",
       "..                             ...        ...                ...   \n",
       "495                              1       33.0                  2   \n",
       "496                              1       27.0                  2   \n",
       "497                              4       27.0                  3   \n",
       "498                              4       63.0                  3   \n",
       "499                              4       27.0                  2   \n",
       "\n",
       "    No-of-Credits-at-this-Bank  No-of-dependents  Telephone  \n",
       "0                            1                 2          1  \n",
       "1                            1                 2          1  \n",
       "2                  More than 1                 2          1  \n",
       "3                            1                 2          1  \n",
       "4                            1                 1          1  \n",
       "..                         ...               ...        ...  \n",
       "495                          1                 1          1  \n",
       "496                          1                 1          1  \n",
       "497                          1                 1          1  \n",
       "498                          1                 1          2  \n",
       "499                          1                 1          2  \n",
       "\n",
       "[500 rows x 15 columns]"
      ]
     },
     "execution_count": 232,
     "metadata": {},
     "output_type": "execute_result"
    }
   ],
   "source": [
    "#label encoding target variable\n",
    "\n",
    "from sklearn.preprocessing import LabelEncoder\n",
    "le = LabelEncoder()\n",
    "\n",
    "train['Credit-Application-Result']=le.fit_transform(train['Credit-Application-Result']) \n",
    "train"
   ]
  },
  {
   "cell_type": "code",
   "execution_count": 233,
   "id": "5f66c47b",
   "metadata": {},
   "outputs": [
    {
     "data": {
      "image/png": "[encoded data removed]",
      "text/plain": [
       "<Figure size 432x288 with 1 Axes>"
      ]
     },
     "metadata": {
      "needs_background": "light"
     },
     "output_type": "display_data"
    }
   ],
   "source": [
    "#Inspect target variable after encoding\n",
    "sns.countplot(train['Credit-Application-Result'])\n",
    "plt.show()"
   ]
  },
  {
   "cell_type": "markdown",
   "id": "f197aead",
   "metadata": {},
   "source": [
    "**0 = Creditworthy, 1 = Non-creditworthy**"
   ]
  },
  {
   "cell_type": "code",
   "execution_count": 234,
   "id": "2ca08c0c",
   "metadata": {},
   "outputs": [
    {
     "data": {
      "text/html": [
       "<div>\n",
       "<style scoped>\n",
       "    .dataframe tbody tr th:only-of-type {\n",
       "        vertical-align: middle;\n",
       "    }\n",
       "\n",
       "    .dataframe tbody tr th {\n",
       "        vertical-align: top;\n",
       "    }\n",
       "\n",
       "    .dataframe thead th {\n",
       "        text-align: right;\n",
       "    }\n",
       "</style>\n",
       "<table border=\"1\" class=\"dataframe\">\n",
       "  <thead>\n",
       "    <tr style=\"text-align: right;\">\n",
       "      <th></th>\n",
       "      <th>Credit-Application-Result</th>\n",
       "      <th>Account-Balance</th>\n",
       "      <th>Payment-Status-of-Previous-Credit</th>\n",
       "      <th>Purpose</th>\n",
       "      <th>Value-Savings-Stocks</th>\n",
       "      <th>Length-of-current-employment</th>\n",
       "      <th>No-of-Credits-at-this-Bank</th>\n",
       "    </tr>\n",
       "  </thead>\n",
       "  <tbody>\n",
       "    <tr>\n",
       "      <th>0</th>\n",
       "      <td>Creditworthy</td>\n",
       "      <td>Some Balance</td>\n",
       "      <td>Paid Up</td>\n",
       "      <td>Other</td>\n",
       "      <td>£100-£1000</td>\n",
       "      <td>&lt; 1yr</td>\n",
       "      <td>1</td>\n",
       "    </tr>\n",
       "  </tbody>\n",
       "</table>\n",
       "</div>"
      ],
      "text/plain": [
       "  Credit-Application-Result Account-Balance Payment-Status-of-Previous-Credit  \\\n",
       "0              Creditworthy    Some Balance                           Paid Up   \n",
       "\n",
       "  Purpose Value-Savings-Stocks Length-of-current-employment  \\\n",
       "0   Other           £100-£1000                        < 1yr   \n",
       "\n",
       "  No-of-Credits-at-this-Bank  \n",
       "0                          1  "
      ]
     },
     "execution_count": 234,
     "metadata": {},
     "output_type": "execute_result"
    }
   ],
   "source": [
    "categorical_train.head(1)"
   ]
  },
  {
   "cell_type": "code",
   "execution_count": 235,
   "id": "46cc2d82",
   "metadata": {},
   "outputs": [],
   "source": [
    "#convert other categorical variables using get_dummies\n",
    "\n",
    "train = pd.get_dummies(train, columns=['Account-Balance', 'Payment-Status-of-Previous-Credit', 'Purpose',\n",
    "                                       'Value-Savings-Stocks', 'Length-of-current-employment', 'No-of-Credits-at-this-Bank'], drop_first=True)\n"
   ]
  },
  {
   "cell_type": "code",
   "execution_count": 236,
   "id": "eeded2b2",
   "metadata": {},
   "outputs": [],
   "source": [
    "test = pd.get_dummies(test, columns=['Account-Balance', 'Payment-Status-of-Previous-Credit', 'Purpose',\n",
    "                                       'Value-Savings-Stocks', 'Length-of-current-employment', 'No-of-Credits-at-this-Bank'], drop_first=True)\n"
   ]
  },
  {
   "cell_type": "code",
   "execution_count": 237,
   "id": "fb046b73",
   "metadata": {},
   "outputs": [
    {
     "data": {
      "text/html": [
       "<div>\n",
       "<style scoped>\n",
       "    .dataframe tbody tr th:only-of-type {\n",
       "        vertical-align: middle;\n",
       "    }\n",
       "\n",
       "    .dataframe tbody tr th {\n",
       "        vertical-align: top;\n",
       "    }\n",
       "\n",
       "    .dataframe thead th {\n",
       "        text-align: right;\n",
       "    }\n",
       "</style>\n",
       "<table border=\"1\" class=\"dataframe\">\n",
       "  <thead>\n",
       "    <tr style=\"text-align: right;\">\n",
       "      <th></th>\n",
       "      <th>Credit-Application-Result</th>\n",
       "      <th>Duration-of-Credit-Month</th>\n",
       "      <th>Credit-Amount</th>\n",
       "      <th>Instalment-per-cent</th>\n",
       "      <th>Most-valuable-available-asset</th>\n",
       "      <th>Age-years</th>\n",
       "      <th>Type-of-apartment</th>\n",
       "      <th>No-of-dependents</th>\n",
       "      <th>Telephone</th>\n",
       "      <th>Account-Balance_Some Balance</th>\n",
       "      <th>Payment-Status-of-Previous-Credit_Paid Up</th>\n",
       "      <th>Payment-Status-of-Previous-Credit_Some Problems</th>\n",
       "      <th>Purpose_Other</th>\n",
       "      <th>Value-Savings-Stocks_None</th>\n",
       "      <th>Value-Savings-Stocks_£100-£1000</th>\n",
       "      <th>Length-of-current-employment_4-7 yrs</th>\n",
       "      <th>Length-of-current-employment_&lt; 1yr</th>\n",
       "      <th>No-of-Credits-at-this-Bank_More than 1</th>\n",
       "    </tr>\n",
       "  </thead>\n",
       "  <tbody>\n",
       "    <tr>\n",
       "      <th>0</th>\n",
       "      <td>0</td>\n",
       "      <td>4</td>\n",
       "      <td>1494</td>\n",
       "      <td>1</td>\n",
       "      <td>1</td>\n",
       "      <td>33.0</td>\n",
       "      <td>2</td>\n",
       "      <td>2</td>\n",
       "      <td>1</td>\n",
       "      <td>1</td>\n",
       "      <td>1</td>\n",
       "      <td>0</td>\n",
       "      <td>1</td>\n",
       "      <td>0</td>\n",
       "      <td>1</td>\n",
       "      <td>0</td>\n",
       "      <td>1</td>\n",
       "      <td>0</td>\n",
       "    </tr>\n",
       "  </tbody>\n",
       "</table>\n",
       "</div>"
      ],
      "text/plain": [
       "   Credit-Application-Result  Duration-of-Credit-Month  Credit-Amount  \\\n",
       "0                          0                         4           1494   \n",
       "\n",
       "   Instalment-per-cent  Most-valuable-available-asset  Age-years  \\\n",
       "0                    1                              1       33.0   \n",
       "\n",
       "   Type-of-apartment  No-of-dependents  Telephone  \\\n",
       "0                  2                 2          1   \n",
       "\n",
       "   Account-Balance_Some Balance  Payment-Status-of-Previous-Credit_Paid Up  \\\n",
       "0                             1                                          1   \n",
       "\n",
       "   Payment-Status-of-Previous-Credit_Some Problems  Purpose_Other  \\\n",
       "0                                                0              1   \n",
       "\n",
       "   Value-Savings-Stocks_None  Value-Savings-Stocks_£100-£1000  \\\n",
       "0                          0                                1   \n",
       "\n",
       "   Length-of-current-employment_4-7 yrs  Length-of-current-employment_< 1yr  \\\n",
       "0                                     0                                   1   \n",
       "\n",
       "   No-of-Credits-at-this-Bank_More than 1  \n",
       "0                                       0  "
      ]
     },
     "execution_count": 237,
     "metadata": {},
     "output_type": "execute_result"
    }
   ],
   "source": [
    "train.head(1)"
   ]
  },
  {
   "cell_type": "code",
   "execution_count": 238,
   "id": "07e58b1d",
   "metadata": {},
   "outputs": [
    {
     "data": {
      "text/html": [
       "<div>\n",
       "<style scoped>\n",
       "    .dataframe tbody tr th:only-of-type {\n",
       "        vertical-align: middle;\n",
       "    }\n",
       "\n",
       "    .dataframe tbody tr th {\n",
       "        vertical-align: top;\n",
       "    }\n",
       "\n",
       "    .dataframe thead th {\n",
       "        text-align: right;\n",
       "    }\n",
       "</style>\n",
       "<table border=\"1\" class=\"dataframe\">\n",
       "  <thead>\n",
       "    <tr style=\"text-align: right;\">\n",
       "      <th></th>\n",
       "      <th>Duration-of-Credit-Month</th>\n",
       "      <th>Credit-Amount</th>\n",
       "      <th>Instalment-per-cent</th>\n",
       "      <th>Most-valuable-available-asset</th>\n",
       "      <th>Age-years</th>\n",
       "      <th>Type-of-apartment</th>\n",
       "      <th>No-of-dependents</th>\n",
       "      <th>Telephone</th>\n",
       "      <th>Account-Balance_Some Balance</th>\n",
       "      <th>Payment-Status-of-Previous-Credit_Paid Up</th>\n",
       "      <th>Payment-Status-of-Previous-Credit_Some Problems</th>\n",
       "      <th>Purpose_Other</th>\n",
       "      <th>Value-Savings-Stocks_None</th>\n",
       "      <th>Value-Savings-Stocks_£100-£1000</th>\n",
       "      <th>Length-of-current-employment_4-7 yrs</th>\n",
       "      <th>Length-of-current-employment_&lt; 1yr</th>\n",
       "      <th>No-of-Credits-at-this-Bank_More than 1</th>\n",
       "    </tr>\n",
       "  </thead>\n",
       "  <tbody>\n",
       "    <tr>\n",
       "      <th>0</th>\n",
       "      <td>9</td>\n",
       "      <td>2799</td>\n",
       "      <td>2</td>\n",
       "      <td>1</td>\n",
       "      <td>36</td>\n",
       "      <td>1</td>\n",
       "      <td>2</td>\n",
       "      <td>1</td>\n",
       "      <td>0</td>\n",
       "      <td>0</td>\n",
       "      <td>0</td>\n",
       "      <td>0</td>\n",
       "      <td>1</td>\n",
       "      <td>0</td>\n",
       "      <td>0</td>\n",
       "      <td>1</td>\n",
       "      <td>1</td>\n",
       "    </tr>\n",
       "  </tbody>\n",
       "</table>\n",
       "</div>"
      ],
      "text/plain": [
       "   Duration-of-Credit-Month  Credit-Amount  Instalment-per-cent  \\\n",
       "0                         9           2799                    2   \n",
       "\n",
       "   Most-valuable-available-asset  Age-years  Type-of-apartment  \\\n",
       "0                              1         36                  1   \n",
       "\n",
       "   No-of-dependents  Telephone  Account-Balance_Some Balance  \\\n",
       "0                 2          1                             0   \n",
       "\n",
       "   Payment-Status-of-Previous-Credit_Paid Up  \\\n",
       "0                                          0   \n",
       "\n",
       "   Payment-Status-of-Previous-Credit_Some Problems  Purpose_Other  \\\n",
       "0                                                0              0   \n",
       "\n",
       "   Value-Savings-Stocks_None  Value-Savings-Stocks_£100-£1000  \\\n",
       "0                          1                                0   \n",
       "\n",
       "   Length-of-current-employment_4-7 yrs  Length-of-current-employment_< 1yr  \\\n",
       "0                                     0                                   1   \n",
       "\n",
       "   No-of-Credits-at-this-Bank_More than 1  \n",
       "0                                       1  "
      ]
     },
     "execution_count": 238,
     "metadata": {},
     "output_type": "execute_result"
    }
   ],
   "source": [
    "test.head(1)"
   ]
  },
  {
   "cell_type": "code",
   "execution_count": 239,
   "id": "cd043906",
   "metadata": {},
   "outputs": [
    {
     "data": {
      "text/html": [
       "<div>\n",
       "<style scoped>\n",
       "    .dataframe tbody tr th:only-of-type {\n",
       "        vertical-align: middle;\n",
       "    }\n",
       "\n",
       "    .dataframe tbody tr th {\n",
       "        vertical-align: top;\n",
       "    }\n",
       "\n",
       "    .dataframe thead th {\n",
       "        text-align: right;\n",
       "    }\n",
       "</style>\n",
       "<table border=\"1\" class=\"dataframe\">\n",
       "  <thead>\n",
       "    <tr style=\"text-align: right;\">\n",
       "      <th></th>\n",
       "      <th>Credit-Application-Result</th>\n",
       "      <th>Duration-of-Credit-Month</th>\n",
       "      <th>Credit-Amount</th>\n",
       "      <th>Instalment-per-cent</th>\n",
       "      <th>Most-valuable-available-asset</th>\n",
       "      <th>Age-years</th>\n",
       "      <th>Type-of-apartment</th>\n",
       "      <th>No-of-dependents</th>\n",
       "      <th>Telephone</th>\n",
       "      <th>Account-Balance_Some Balance</th>\n",
       "      <th>Payment-Status-of-Previous-Credit_Paid Up</th>\n",
       "      <th>Payment-Status-of-Previous-Credit_Some Problems</th>\n",
       "      <th>Purpose_Other</th>\n",
       "      <th>Value-Savings-Stocks_None</th>\n",
       "      <th>Value-Savings-Stocks_£100-£1000</th>\n",
       "      <th>Length-of-current-employment_4-7 yrs</th>\n",
       "      <th>Length-of-current-employment_&lt; 1yr</th>\n",
       "      <th>No-of-Credits-at-this-Bank_More than 1</th>\n",
       "    </tr>\n",
       "  </thead>\n",
       "  <tbody>\n",
       "    <tr>\n",
       "      <th>count</th>\n",
       "      <td>500.000000</td>\n",
       "      <td>500.00000</td>\n",
       "      <td>500.000000</td>\n",
       "      <td>500.000000</td>\n",
       "      <td>500.000000</td>\n",
       "      <td>500.000000</td>\n",
       "      <td>500.000000</td>\n",
       "      <td>500.00000</td>\n",
       "      <td>500.000000</td>\n",
       "      <td>500.000000</td>\n",
       "      <td>500.0000</td>\n",
       "      <td>500.000000</td>\n",
       "      <td>500.000000</td>\n",
       "      <td>500.000000</td>\n",
       "      <td>500.000000</td>\n",
       "      <td>500.000000</td>\n",
       "      <td>500.000000</td>\n",
       "      <td>500.000000</td>\n",
       "    </tr>\n",
       "    <tr>\n",
       "      <th>mean</th>\n",
       "      <td>0.284000</td>\n",
       "      <td>21.43400</td>\n",
       "      <td>3199.980000</td>\n",
       "      <td>3.010000</td>\n",
       "      <td>2.360000</td>\n",
       "      <td>35.574000</td>\n",
       "      <td>1.928000</td>\n",
       "      <td>1.14600</td>\n",
       "      <td>1.400000</td>\n",
       "      <td>0.476000</td>\n",
       "      <td>0.5200</td>\n",
       "      <td>0.072000</td>\n",
       "      <td>0.290000</td>\n",
       "      <td>0.596000</td>\n",
       "      <td>0.308000</td>\n",
       "      <td>0.248000</td>\n",
       "      <td>0.558000</td>\n",
       "      <td>0.360000</td>\n",
       "    </tr>\n",
       "    <tr>\n",
       "      <th>std</th>\n",
       "      <td>0.451388</td>\n",
       "      <td>12.30742</td>\n",
       "      <td>2831.386861</td>\n",
       "      <td>1.113724</td>\n",
       "      <td>1.064268</td>\n",
       "      <td>11.369567</td>\n",
       "      <td>0.539814</td>\n",
       "      <td>0.35346</td>\n",
       "      <td>0.490389</td>\n",
       "      <td>0.499924</td>\n",
       "      <td>0.5001</td>\n",
       "      <td>0.258747</td>\n",
       "      <td>0.454216</td>\n",
       "      <td>0.491189</td>\n",
       "      <td>0.462129</td>\n",
       "      <td>0.432284</td>\n",
       "      <td>0.497122</td>\n",
       "      <td>0.480481</td>\n",
       "    </tr>\n",
       "    <tr>\n",
       "      <th>min</th>\n",
       "      <td>0.000000</td>\n",
       "      <td>4.00000</td>\n",
       "      <td>276.000000</td>\n",
       "      <td>1.000000</td>\n",
       "      <td>1.000000</td>\n",
       "      <td>19.000000</td>\n",
       "      <td>1.000000</td>\n",
       "      <td>1.00000</td>\n",
       "      <td>1.000000</td>\n",
       "      <td>0.000000</td>\n",
       "      <td>0.0000</td>\n",
       "      <td>0.000000</td>\n",
       "      <td>0.000000</td>\n",
       "      <td>0.000000</td>\n",
       "      <td>0.000000</td>\n",
       "      <td>0.000000</td>\n",
       "      <td>0.000000</td>\n",
       "      <td>0.000000</td>\n",
       "    </tr>\n",
       "    <tr>\n",
       "      <th>25%</th>\n",
       "      <td>0.000000</td>\n",
       "      <td>12.00000</td>\n",
       "      <td>1357.250000</td>\n",
       "      <td>2.000000</td>\n",
       "      <td>1.000000</td>\n",
       "      <td>27.000000</td>\n",
       "      <td>2.000000</td>\n",
       "      <td>1.00000</td>\n",
       "      <td>1.000000</td>\n",
       "      <td>0.000000</td>\n",
       "      <td>0.0000</td>\n",
       "      <td>0.000000</td>\n",
       "      <td>0.000000</td>\n",
       "      <td>0.000000</td>\n",
       "      <td>0.000000</td>\n",
       "      <td>0.000000</td>\n",
       "      <td>0.000000</td>\n",
       "      <td>0.000000</td>\n",
       "    </tr>\n",
       "    <tr>\n",
       "      <th>50%</th>\n",
       "      <td>0.000000</td>\n",
       "      <td>18.00000</td>\n",
       "      <td>2236.500000</td>\n",
       "      <td>3.000000</td>\n",
       "      <td>3.000000</td>\n",
       "      <td>33.000000</td>\n",
       "      <td>2.000000</td>\n",
       "      <td>1.00000</td>\n",
       "      <td>1.000000</td>\n",
       "      <td>0.000000</td>\n",
       "      <td>1.0000</td>\n",
       "      <td>0.000000</td>\n",
       "      <td>0.000000</td>\n",
       "      <td>1.000000</td>\n",
       "      <td>0.000000</td>\n",
       "      <td>0.000000</td>\n",
       "      <td>1.000000</td>\n",
       "      <td>0.000000</td>\n",
       "    </tr>\n",
       "    <tr>\n",
       "      <th>75%</th>\n",
       "      <td>1.000000</td>\n",
       "      <td>24.00000</td>\n",
       "      <td>3941.500000</td>\n",
       "      <td>4.000000</td>\n",
       "      <td>3.000000</td>\n",
       "      <td>41.000000</td>\n",
       "      <td>2.000000</td>\n",
       "      <td>1.00000</td>\n",
       "      <td>2.000000</td>\n",
       "      <td>1.000000</td>\n",
       "      <td>1.0000</td>\n",
       "      <td>0.000000</td>\n",
       "      <td>1.000000</td>\n",
       "      <td>1.000000</td>\n",
       "      <td>1.000000</td>\n",
       "      <td>0.000000</td>\n",
       "      <td>1.000000</td>\n",
       "      <td>1.000000</td>\n",
       "    </tr>\n",
       "    <tr>\n",
       "      <th>max</th>\n",
       "      <td>1.000000</td>\n",
       "      <td>60.00000</td>\n",
       "      <td>18424.000000</td>\n",
       "      <td>4.000000</td>\n",
       "      <td>4.000000</td>\n",
       "      <td>75.000000</td>\n",
       "      <td>3.000000</td>\n",
       "      <td>2.00000</td>\n",
       "      <td>2.000000</td>\n",
       "      <td>1.000000</td>\n",
       "      <td>1.0000</td>\n",
       "      <td>1.000000</td>\n",
       "      <td>1.000000</td>\n",
       "      <td>1.000000</td>\n",
       "      <td>1.000000</td>\n",
       "      <td>1.000000</td>\n",
       "      <td>1.000000</td>\n",
       "      <td>1.000000</td>\n",
       "    </tr>\n",
       "  </tbody>\n",
       "</table>\n",
       "</div>"
      ],
      "text/plain": [
       "       Credit-Application-Result  Duration-of-Credit-Month  Credit-Amount  \\\n",
       "count                 500.000000                 500.00000     500.000000   \n",
       "mean                    0.284000                  21.43400    3199.980000   \n",
       "std                     0.451388                  12.30742    2831.386861   \n",
       "min                     0.000000                   4.00000     276.000000   \n",
       "25%                     0.000000                  12.00000    1357.250000   \n",
       "50%                     0.000000                  18.00000    2236.500000   \n",
       "75%                     1.000000                  24.00000    3941.500000   \n",
       "max                     1.000000                  60.00000   18424.000000   \n",
       "\n",
       "       Instalment-per-cent  Most-valuable-available-asset   Age-years  \\\n",
       "count           500.000000                     500.000000  500.000000   \n",
       "mean              3.010000                       2.360000   35.574000   \n",
       "std               1.113724                       1.064268   11.369567   \n",
       "min               1.000000                       1.000000   19.000000   \n",
       "25%               2.000000                       1.000000   27.000000   \n",
       "50%               3.000000                       3.000000   33.000000   \n",
       "75%               4.000000                       3.000000   41.000000   \n",
       "max               4.000000                       4.000000   75.000000   \n",
       "\n",
       "       Type-of-apartment  No-of-dependents   Telephone  \\\n",
       "count         500.000000         500.00000  500.000000   \n",
       "mean            1.928000           1.14600    1.400000   \n",
       "std             0.539814           0.35346    0.490389   \n",
       "min             1.000000           1.00000    1.000000   \n",
       "25%             2.000000           1.00000    1.000000   \n",
       "50%             2.000000           1.00000    1.000000   \n",
       "75%             2.000000           1.00000    2.000000   \n",
       "max             3.000000           2.00000    2.000000   \n",
       "\n",
       "       Account-Balance_Some Balance  \\\n",
       "count                    500.000000   \n",
       "mean                       0.476000   \n",
       "std                        0.499924   \n",
       "min                        0.000000   \n",
       "25%                        0.000000   \n",
       "50%                        0.000000   \n",
       "75%                        1.000000   \n",
       "max                        1.000000   \n",
       "\n",
       "       Payment-Status-of-Previous-Credit_Paid Up  \\\n",
       "count                                   500.0000   \n",
       "mean                                      0.5200   \n",
       "std                                       0.5001   \n",
       "min                                       0.0000   \n",
       "25%                                       0.0000   \n",
       "50%                                       1.0000   \n",
       "75%                                       1.0000   \n",
       "max                                       1.0000   \n",
       "\n",
       "       Payment-Status-of-Previous-Credit_Some Problems  Purpose_Other  \\\n",
       "count                                       500.000000     500.000000   \n",
       "mean                                          0.072000       0.290000   \n",
       "std                                           0.258747       0.454216   \n",
       "min                                           0.000000       0.000000   \n",
       "25%                                           0.000000       0.000000   \n",
       "50%                                           0.000000       0.000000   \n",
       "75%                                           0.000000       1.000000   \n",
       "max                                           1.000000       1.000000   \n",
       "\n",
       "       Value-Savings-Stocks_None  Value-Savings-Stocks_£100-£1000  \\\n",
       "count                 500.000000                       500.000000   \n",
       "mean                    0.596000                         0.308000   \n",
       "std                     0.491189                         0.462129   \n",
       "min                     0.000000                         0.000000   \n",
       "25%                     0.000000                         0.000000   \n",
       "50%                     1.000000                         0.000000   \n",
       "75%                     1.000000                         1.000000   \n",
       "max                     1.000000                         1.000000   \n",
       "\n",
       "       Length-of-current-employment_4-7 yrs  \\\n",
       "count                            500.000000   \n",
       "mean                               0.248000   \n",
       "std                                0.432284   \n",
       "min                                0.000000   \n",
       "25%                                0.000000   \n",
       "50%                                0.000000   \n",
       "75%                                0.000000   \n",
       "max                                1.000000   \n",
       "\n",
       "       Length-of-current-employment_< 1yr  \\\n",
       "count                          500.000000   \n",
       "mean                             0.558000   \n",
       "std                              0.497122   \n",
       "min                              0.000000   \n",
       "25%                              0.000000   \n",
       "50%                              1.000000   \n",
       "75%                              1.000000   \n",
       "max                              1.000000   \n",
       "\n",
       "       No-of-Credits-at-this-Bank_More than 1  \n",
       "count                              500.000000  \n",
       "mean                                 0.360000  \n",
       "std                                  0.480481  \n",
       "min                                  0.000000  \n",
       "25%                                  0.000000  \n",
       "50%                                  0.000000  \n",
       "75%                                  1.000000  \n",
       "max                                  1.000000  "
      ]
     },
     "execution_count": 239,
     "metadata": {},
     "output_type": "execute_result"
    }
   ],
   "source": [
    "train.describe()"
   ]
  },
  {
   "cell_type": "markdown",
   "id": "a99801f2",
   "metadata": {},
   "source": [
    "###  Correlation Inspection"
   ]
  },
  {
   "cell_type": "code",
   "execution_count": 240,
   "id": "87adf7ae",
   "metadata": {},
   "outputs": [
    {
     "data": {
      "text/plain": [
       "Credit-Application-Result                          1.000000\n",
       "Account-Balance_Some Balance                       0.316080\n",
       "Payment-Status-of-Previous-Credit_Some Problems    0.253531\n",
       "Duration-of-Credit-Month                           0.202504\n",
       "Credit-Amount                                      0.201946\n",
       "Value-Savings-Stocks_None                          0.166021\n",
       "Value-Savings-Stocks_£100-£1000                    0.160782\n",
       "Most-valuable-available-asset                      0.141332\n",
       "Length-of-current-employment_< 1yr                 0.105061\n",
       "Purpose_Other                                      0.099502\n",
       "Instalment-per-cent                                0.062107\n",
       "No-of-Credits-at-this-Bank_More than 1             0.056549\n",
       "Length-of-current-employment_4-7 yrs               0.053569\n",
       "Age-years                                          0.052914\n",
       "No-of-dependents                                   0.041048\n",
       "Telephone                                          0.028971\n",
       "Type-of-apartment                                  0.026516\n",
       "Payment-Status-of-Previous-Credit_Paid Up          0.010298\n",
       "Name: Credit-Application-Result, dtype: float64"
      ]
     },
     "execution_count": 240,
     "metadata": {},
     "output_type": "execute_result"
    }
   ],
   "source": [
    "corr_matrix = train.corr().abs()\n",
    "corr_matrix['Credit-Application-Result'].sort_values(ascending = False)"
   ]
  },
  {
   "cell_type": "markdown",
   "id": "b773091f",
   "metadata": {},
   "source": [
    "**feature addition:**\n",
    "\n",
    "- Credit-Amount-per-age = credit-Amount / Age-years \n",
    "\n",
    "This is a useful information that could determine how a customer is likely to be credit worthy based on his/her age. It is being added at this stage to enable me compare its correlatioin with 'Credit-Application-Result' to the correlation of 'credit-Amount' and 'Age-years'  with 'Credit-Application-Result'. "
   ]
  },
  {
   "cell_type": "code",
   "execution_count": 241,
   "id": "b15f1c08",
   "metadata": {},
   "outputs": [],
   "source": [
    "train['Credit-Amount-per-age'] = train['Credit-Amount']/train['Age-years']"
   ]
  },
  {
   "cell_type": "code",
   "execution_count": 242,
   "id": "7b4b68ec",
   "metadata": {},
   "outputs": [],
   "source": [
    "test['Credit-Amount-per-age'] = test['Credit-Amount']/test['Age-years']"
   ]
  },
  {
   "cell_type": "markdown",
   "id": "c0cb5a91",
   "metadata": {},
   "source": [
    "### Final Correlation Inspection"
   ]
  },
  {
   "cell_type": "code",
   "execution_count": 243,
   "id": "8d180dd2",
   "metadata": {},
   "outputs": [
    {
     "data": {
      "text/plain": [
       "Credit-Application-Result                          1.000000\n",
       "Account-Balance_Some Balance                       0.316080\n",
       "Payment-Status-of-Previous-Credit_Some Problems    0.253531\n",
       "Credit-Amount-per-age                              0.210263\n",
       "Duration-of-Credit-Month                           0.202504\n",
       "Credit-Amount                                      0.201946\n",
       "Value-Savings-Stocks_None                          0.166021\n",
       "Value-Savings-Stocks_£100-£1000                    0.160782\n",
       "Most-valuable-available-asset                      0.141332\n",
       "Length-of-current-employment_< 1yr                 0.105061\n",
       "Purpose_Other                                      0.099502\n",
       "Instalment-per-cent                                0.062107\n",
       "No-of-Credits-at-this-Bank_More than 1             0.056549\n",
       "Length-of-current-employment_4-7 yrs               0.053569\n",
       "Age-years                                          0.052914\n",
       "No-of-dependents                                   0.041048\n",
       "Telephone                                          0.028971\n",
       "Type-of-apartment                                  0.026516\n",
       "Payment-Status-of-Previous-Credit_Paid Up          0.010298\n",
       "Name: Credit-Application-Result, dtype: float64"
      ]
     },
     "execution_count": 243,
     "metadata": {},
     "output_type": "execute_result"
    }
   ],
   "source": [
    "corr_matrix = train.corr().abs()\n",
    "corr_matrix['Credit-Application-Result'].sort_values(ascending = False)"
   ]
  },
  {
   "cell_type": "code",
   "execution_count": null,
   "id": "d3651865",
   "metadata": {},
   "outputs": [],
   "source": []
  },
  {
   "cell_type": "markdown",
   "id": "56d8d9df",
   "metadata": {},
   "source": [
    "##### Final Observations\n",
    "- **'Credit-Amount-per-age' is having higher correlation with 'Credit-Application-Result' than the correlation between 'Credit-Application-Result' and 'Credit-Amount', and 'Age-years'**\n",
    "- **'Account-Balance_Some Balance'  has the highest correlation with 'Credit-Application-Result'. 'Payment-Status-of-Previous-Credit_Paid Up', however, showed least correlation with 'Credit-Application-Result'**"
   ]
  },
  {
   "cell_type": "code",
   "execution_count": null,
   "id": "0fd60cc0",
   "metadata": {},
   "outputs": [],
   "source": []
  },
  {
   "cell_type": "code",
   "execution_count": 244,
   "id": "60f9b5b7",
   "metadata": {},
   "outputs": [
    {
     "data": {
      "text/html": [
       "<div>\n",
       "<style scoped>\n",
       "    .dataframe tbody tr th:only-of-type {\n",
       "        vertical-align: middle;\n",
       "    }\n",
       "\n",
       "    .dataframe tbody tr th {\n",
       "        vertical-align: top;\n",
       "    }\n",
       "\n",
       "    .dataframe thead th {\n",
       "        text-align: right;\n",
       "    }\n",
       "</style>\n",
       "<table border=\"1\" class=\"dataframe\">\n",
       "  <thead>\n",
       "    <tr style=\"text-align: right;\">\n",
       "      <th>Credit-Application-Result</th>\n",
       "      <th>0</th>\n",
       "      <th>1</th>\n",
       "    </tr>\n",
       "    <tr>\n",
       "      <th>Account-Balance_Some Balance</th>\n",
       "      <th></th>\n",
       "      <th></th>\n",
       "    </tr>\n",
       "  </thead>\n",
       "  <tbody>\n",
       "    <tr>\n",
       "      <th>0</th>\n",
       "      <td>152</td>\n",
       "      <td>110</td>\n",
       "    </tr>\n",
       "    <tr>\n",
       "      <th>1</th>\n",
       "      <td>206</td>\n",
       "      <td>32</td>\n",
       "    </tr>\n",
       "  </tbody>\n",
       "</table>\n",
       "</div>"
      ],
      "text/plain": [
       "Credit-Application-Result       0    1\n",
       "Account-Balance_Some Balance          \n",
       "0                             152  110\n",
       "1                             206   32"
      ]
     },
     "execution_count": 244,
     "metadata": {},
     "output_type": "execute_result"
    }
   ],
   "source": [
    "#Inspecting Account-Balance_Some Balance and Credit-Application-Result\n",
    "pd.crosstab(train['Account-Balance_Some Balance'], train['Credit-Application-Result'])\n"
   ]
  },
  {
   "cell_type": "markdown",
   "id": "cac94192",
   "metadata": {},
   "source": [
    "**while customers with some account balance (1) stand at a 87% chance of being consideredare considered credit worthy (0), those without some balane (0) stand at only 58% chance of being considered credit worthy (0). Thus, having some account balance gives you high chance of being credit worthy. This could be the reason why 'Account-Balance_Some Balance' has highest correlation with Credit-Application-Result**\n"
   ]
  },
  {
   "cell_type": "code",
   "execution_count": 245,
   "id": "a468a1a2",
   "metadata": {},
   "outputs": [
    {
     "data": {
      "text/html": [
       "<div>\n",
       "<style scoped>\n",
       "    .dataframe tbody tr th:only-of-type {\n",
       "        vertical-align: middle;\n",
       "    }\n",
       "\n",
       "    .dataframe tbody tr th {\n",
       "        vertical-align: top;\n",
       "    }\n",
       "\n",
       "    .dataframe thead th {\n",
       "        text-align: right;\n",
       "    }\n",
       "</style>\n",
       "<table border=\"1\" class=\"dataframe\">\n",
       "  <thead>\n",
       "    <tr style=\"text-align: right;\">\n",
       "      <th>Credit-Application-Result</th>\n",
       "      <th>0</th>\n",
       "      <th>1</th>\n",
       "    </tr>\n",
       "    <tr>\n",
       "      <th>Payment-Status-of-Previous-Credit_Paid Up</th>\n",
       "      <th></th>\n",
       "      <th></th>\n",
       "    </tr>\n",
       "  </thead>\n",
       "  <tbody>\n",
       "    <tr>\n",
       "      <th>0</th>\n",
       "      <td>173</td>\n",
       "      <td>67</td>\n",
       "    </tr>\n",
       "    <tr>\n",
       "      <th>1</th>\n",
       "      <td>185</td>\n",
       "      <td>75</td>\n",
       "    </tr>\n",
       "  </tbody>\n",
       "</table>\n",
       "</div>"
      ],
      "text/plain": [
       "Credit-Application-Result                    0   1\n",
       "Payment-Status-of-Previous-Credit_Paid Up         \n",
       "0                                          173  67\n",
       "1                                          185  75"
      ]
     },
     "execution_count": 245,
     "metadata": {},
     "output_type": "execute_result"
    }
   ],
   "source": [
    "#Inspecting Payment-Status-of-Previous-Credit_Paid Up and Credit-Application-Result\n",
    "pd.crosstab(train['Payment-Status-of-Previous-Credit_Paid Up'], train['Credit-Application-Result'])\n"
   ]
  },
  {
   "cell_type": "markdown",
   "id": "cdf29d39",
   "metadata": {},
   "source": [
    "**while Customers who previously paid up their credit (1) stand at a 71% chance of being considered credit worthy (0), those who do not pay up previous credit or have some issues (0) also stand at 72% chance of being considered credit worthy (0). They almost have similar chances of getting loans. This could be the reason why 'Payment-Status-of-Previous-Credit_Paid Up' does not have much correlation with Credit-Application-Result**"
   ]
  },
  {
   "cell_type": "code",
   "execution_count": 246,
   "id": "97343ece",
   "metadata": {},
   "outputs": [
    {
     "data": {
      "image/png": "[encoded data removed]",
      "text/plain": [
       "<Figure size 1080x432 with 2 Axes>"
      ]
     },
     "metadata": {
      "needs_background": "light"
     },
     "output_type": "display_data"
    }
   ],
   "source": [
    "#Heatmap Showing Correlation among variables\n",
    "corr = train.corr().abs()\n",
    "matrix = np.triu(corr)\n",
    "plt.figure(figsize = [15, 6])\n",
    "sns.heatmap(corr,annot = True, cmap='jet', mask=matrix) #zero discount included\n",
    "plt.title('Heatmap showing correlation of all Variables (categorical and numeric)')\n",
    "\n",
    "plt.show()"
   ]
  },
  {
   "cell_type": "code",
   "execution_count": 247,
   "id": "310044b7",
   "metadata": {},
   "outputs": [],
   "source": [
    "#Drop Credit-Amount. This is to eliminate the strong correlation with 'Credit-Amount-per-age'\n",
    "train = train.drop(columns=['Credit-Amount', 'Age-years'])"
   ]
  },
  {
   "cell_type": "code",
   "execution_count": 248,
   "id": "099f1b73",
   "metadata": {},
   "outputs": [],
   "source": [
    "test = test.drop(columns=['Credit-Amount', 'Age-years'])"
   ]
  },
  {
   "cell_type": "code",
   "execution_count": 249,
   "id": "2a84bd54",
   "metadata": {},
   "outputs": [
    {
     "data": {
      "image/png": "[encoded data removed]",
      "text/plain": [
       "<Figure size 1080x432 with 2 Axes>"
      ]
     },
     "metadata": {
      "needs_background": "light"
     },
     "output_type": "display_data"
    }
   ],
   "source": [
    "#Heatmap Showing Correlation among variables\n",
    "corr = train.corr().abs()\n",
    "matrix = np.triu(corr)\n",
    "plt.figure(figsize = [15, 6])\n",
    "sns.heatmap(corr,annot = True, cmap='jet', mask=matrix) #zero discount included\n",
    "plt.title('Heatmap showing correlation of all Variables (categorical and numeric)')\n",
    "\n",
    "plt.show()"
   ]
  },
  {
   "cell_type": "code",
   "execution_count": null,
   "id": "272788ae",
   "metadata": {},
   "outputs": [],
   "source": [
    "    "
   ]
  },
  {
   "cell_type": "markdown",
   "id": "ac2307ba",
   "metadata": {},
   "source": [
    "#### Split data into label and features"
   ]
  },
  {
   "cell_type": "code",
   "execution_count": 250,
   "id": "23d5e53c",
   "metadata": {},
   "outputs": [],
   "source": [
    "X = train.drop(columns='Credit-Application-Result', axis=1)\n",
    "y = train['Credit-Application-Result'].copy()"
   ]
  },
  {
   "cell_type": "code",
   "execution_count": 251,
   "id": "579cd58b",
   "metadata": {},
   "outputs": [
    {
     "data": {
      "text/html": [
       "<div>\n",
       "<style scoped>\n",
       "    .dataframe tbody tr th:only-of-type {\n",
       "        vertical-align: middle;\n",
       "    }\n",
       "\n",
       "    .dataframe tbody tr th {\n",
       "        vertical-align: top;\n",
       "    }\n",
       "\n",
       "    .dataframe thead th {\n",
       "        text-align: right;\n",
       "    }\n",
       "</style>\n",
       "<table border=\"1\" class=\"dataframe\">\n",
       "  <thead>\n",
       "    <tr style=\"text-align: right;\">\n",
       "      <th></th>\n",
       "      <th>Duration-of-Credit-Month</th>\n",
       "      <th>Instalment-per-cent</th>\n",
       "      <th>Most-valuable-available-asset</th>\n",
       "      <th>Type-of-apartment</th>\n",
       "      <th>No-of-dependents</th>\n",
       "      <th>Telephone</th>\n",
       "      <th>Account-Balance_Some Balance</th>\n",
       "      <th>Payment-Status-of-Previous-Credit_Paid Up</th>\n",
       "      <th>Payment-Status-of-Previous-Credit_Some Problems</th>\n",
       "      <th>Purpose_Other</th>\n",
       "      <th>Value-Savings-Stocks_None</th>\n",
       "      <th>Value-Savings-Stocks_£100-£1000</th>\n",
       "      <th>Length-of-current-employment_4-7 yrs</th>\n",
       "      <th>Length-of-current-employment_&lt; 1yr</th>\n",
       "      <th>No-of-Credits-at-this-Bank_More than 1</th>\n",
       "      <th>Credit-Amount-per-age</th>\n",
       "    </tr>\n",
       "  </thead>\n",
       "  <tbody>\n",
       "    <tr>\n",
       "      <th>0</th>\n",
       "      <td>4</td>\n",
       "      <td>1</td>\n",
       "      <td>1</td>\n",
       "      <td>2</td>\n",
       "      <td>2</td>\n",
       "      <td>1</td>\n",
       "      <td>1</td>\n",
       "      <td>1</td>\n",
       "      <td>0</td>\n",
       "      <td>1</td>\n",
       "      <td>0</td>\n",
       "      <td>1</td>\n",
       "      <td>0</td>\n",
       "      <td>1</td>\n",
       "      <td>0</td>\n",
       "      <td>45.272727</td>\n",
       "    </tr>\n",
       "  </tbody>\n",
       "</table>\n",
       "</div>"
      ],
      "text/plain": [
       "   Duration-of-Credit-Month  Instalment-per-cent  \\\n",
       "0                         4                    1   \n",
       "\n",
       "   Most-valuable-available-asset  Type-of-apartment  No-of-dependents  \\\n",
       "0                              1                  2                 2   \n",
       "\n",
       "   Telephone  Account-Balance_Some Balance  \\\n",
       "0          1                             1   \n",
       "\n",
       "   Payment-Status-of-Previous-Credit_Paid Up  \\\n",
       "0                                          1   \n",
       "\n",
       "   Payment-Status-of-Previous-Credit_Some Problems  Purpose_Other  \\\n",
       "0                                                0              1   \n",
       "\n",
       "   Value-Savings-Stocks_None  Value-Savings-Stocks_£100-£1000  \\\n",
       "0                          0                                1   \n",
       "\n",
       "   Length-of-current-employment_4-7 yrs  Length-of-current-employment_< 1yr  \\\n",
       "0                                     0                                   1   \n",
       "\n",
       "   No-of-Credits-at-this-Bank_More than 1  Credit-Amount-per-age  \n",
       "0                                       0              45.272727  "
      ]
     },
     "execution_count": 251,
     "metadata": {},
     "output_type": "execute_result"
    }
   ],
   "source": [
    "X.head(1)"
   ]
  },
  {
   "cell_type": "code",
   "execution_count": 252,
   "id": "741834fe",
   "metadata": {},
   "outputs": [
    {
     "data": {
      "text/plain": [
       "0    0\n",
       "1    0\n",
       "2    0\n",
       "3    0\n",
       "4    0\n",
       "Name: Credit-Application-Result, dtype: int32"
      ]
     },
     "execution_count": 252,
     "metadata": {},
     "output_type": "execute_result"
    }
   ],
   "source": [
    "y.head()"
   ]
  },
  {
   "cell_type": "code",
   "execution_count": 253,
   "id": "05d0a502",
   "metadata": {},
   "outputs": [
    {
     "data": {
      "text/plain": [
       "((500, 16), (500,))"
      ]
     },
     "execution_count": 253,
     "metadata": {},
     "output_type": "execute_result"
    }
   ],
   "source": [
    "X.shape, y.shape"
   ]
  },
  {
   "cell_type": "markdown",
   "id": "ed1cb099",
   "metadata": {},
   "source": [
    "### Splitting data sets into train and test"
   ]
  },
  {
   "cell_type": "code",
   "execution_count": 254,
   "id": "b2f050e2",
   "metadata": {},
   "outputs": [],
   "source": [
    "from sklearn.model_selection import train_test_split\n"
   ]
  },
  {
   "cell_type": "code",
   "execution_count": 255,
   "id": "b1767646",
   "metadata": {},
   "outputs": [],
   "source": [
    "X_train, X_test, y_train, y_test = train_test_split(X,y, test_size = 0.3, stratify = y, random_state = 41)"
   ]
  },
  {
   "cell_type": "markdown",
   "id": "09aac20c",
   "metadata": {},
   "source": [
    "##### Inspection of target variable after split (both train and test)"
   ]
  },
  {
   "cell_type": "code",
   "execution_count": 256,
   "id": "1e8c69e6",
   "metadata": {},
   "outputs": [
    {
     "data": {
      "image/png": "[encoded data removed]",
      "text/plain": [
       "<Figure size 432x288 with 2 Axes>"
      ]
     },
     "metadata": {
      "needs_background": "light"
     },
     "output_type": "display_data"
    }
   ],
   "source": [
    "plt.subplot(1,2,1)\n",
    "sns.countplot(y_train)\n",
    "plt.title ('y_train: 0-Creditworthy, \\n1-Noncreditworthy')\n",
    "\n",
    "plt.subplot(1,2,2)\n",
    "sns.countplot(y_test)\n",
    "plt.title ('y_test: 0-Creditworthy, \\n1-Noncreditworthy')\n",
    "plt.tight_layout()"
   ]
  },
  {
   "cell_type": "markdown",
   "id": "39694580",
   "metadata": {},
   "source": [
    "**The train and test data are still biased towards Creditworthy. This indicates that the model is likely to predict more of Creditworthy**"
   ]
  },
  {
   "cell_type": "markdown",
   "id": "cf88c0d2",
   "metadata": {},
   "source": [
    "## Modeling \n"
   ]
  },
  {
   "cell_type": "markdown",
   "id": "06438ada",
   "metadata": {},
   "source": [
    "- Naive Bayes\n",
    "- Logistic Regression\n",
    "- K-NearestNeighbors\n",
    "- Support Vector Classifier"
   ]
  },
  {
   "cell_type": "markdown",
   "id": "db1ab67b",
   "metadata": {},
   "source": [
    "#### INITIAL COMPARISON OF MODELS WITHOUT PARAMETER TUNING"
   ]
  },
  {
   "cell_type": "code",
   "execution_count": 257,
   "id": "0405d8e0",
   "metadata": {},
   "outputs": [],
   "source": [
    "# This function takes a model and splitted data sets, train and test of X and y. It returns the model's score together \n",
    "# Fitting assessments (Overfitting or underfitting)\n",
    "\n",
    "def models_no_tuning (model,X_train, X_test, y_train, y_test):\n",
    "    from sklearn.preprocessing import StandardScaler\n",
    "    \n",
    "    if model == 'Naive Bayes':\n",
    "        from sklearn.naive_bayes import GaussianNB\n",
    "        \n",
    "        typ = GaussianNB()\n",
    "        # Fit the model\n",
    "        model = typ\n",
    "        clf = model.fit(X_train, y_train)\n",
    "        train_score = model.score(X_train, y_train)\n",
    "        test_score = model.score(X_test, y_test)\n",
    "        print(\"Naive Bayes Model\")\n",
    "        print('-'*45)\n",
    "        \n",
    "    elif model == 'KNN':\n",
    "            from sklearn.neighbors import KNeighborsClassifier\n",
    "            knn = KNeighborsClassifier()\n",
    "            knn.fit(X_train, y_train)\n",
    "            train_score = knn.score(X_train, y_train) #Train score\n",
    "            test_score = knn.score(X_test, y_test) #  Test score\n",
    "            print(\"KNN Model\")\n",
    "            print('-'*45)            \n",
    "\n",
    "    elif model == 'SVM':\n",
    "        from sklearn.svm import LinearSVC\n",
    "        \n",
    "        sc_X = StandardScaler()\n",
    "        X_train = sc_X.fit_transform(X_train)\n",
    "        X_test = sc_X.transform(X_test)\n",
    "\n",
    "        svc =  LinearSVC()\n",
    "        svc.fit(X_train, y_train)\n",
    "        train_score = svc.score(X_train, y_train)\n",
    "        test_score = svc.score(X_test, y_test)\n",
    "        print(\"SVM Model\")\n",
    "        print('-'*45)\n",
    "        \n",
    "    elif model == 'Logistic Regression':\n",
    "        from sklearn.linear_model import LogisticRegression\n",
    "        \n",
    "        sc_X = StandardScaler()\n",
    "        X_train = sc_X.fit_transform(X_train)\n",
    "        X_test = sc_X.transform(X_test)\n",
    "\n",
    "        logreg = LogisticRegression(solver='sag').fit(X_train, y_train)\n",
    "        train_score = logreg.score(X_train, y_train)\n",
    "        test_score = logreg.score(X_test, y_test)\n",
    "        print(\"Logistic Regression Model\")\n",
    "        print('-'*45)\n",
    "    \n",
    "    #Print the scores of the requested model\n",
    "    \n",
    "    print(\"Training set score: {:.3f}\".format(train_score))\n",
    "    print(\"Test set score: {:.3f}\".format(test_score))\n",
    "    if train_score > test_score:\n",
    "        print('Percentage of overfitting: {:.2f}%'.format((train_score-\n",
    "                                         test_score)/train_score *100))\n",
    "    elif test_score > train_score:\n",
    "        print('Percentage of underfiting: {:.2f}%'.format((test_score-\n",
    "                                         train_score)/test_score *100))\n",
    "    print('='*45)\n"
   ]
  },
  {
   "cell_type": "markdown",
   "id": "f5b2e104",
   "metadata": {},
   "source": [
    "#### Comoparing Initial models without hyperparameter tuning"
   ]
  },
  {
   "cell_type": "code",
   "execution_count": 259,
   "id": "ea2efe61",
   "metadata": {
    "scrolled": true
   },
   "outputs": [
    {
     "name": "stdout",
     "output_type": "stream",
     "text": [
      "Naive Bayes Model\n",
      "---------------------------------------------\n",
      "Training set score: 0.771\n",
      "Test set score: 0.780\n",
      "Percentage of underfiting: 1.10%\n",
      "=============================================\n",
      "KNN Model\n",
      "---------------------------------------------\n",
      "Training set score: 0.771\n",
      "Test set score: 0.687\n",
      "Percentage of overfitting: 10.99%\n",
      "=============================================\n",
      "SVM Model\n",
      "---------------------------------------------\n",
      "Training set score: 0.777\n",
      "Test set score: 0.813\n",
      "Percentage of underfiting: 4.45%\n",
      "=============================================\n",
      "Logistic Regression Model\n",
      "---------------------------------------------\n",
      "Training set score: 0.786\n",
      "Test set score: 0.800\n",
      "Percentage of underfiting: 1.79%\n",
      "=============================================\n"
     ]
    }
   ],
   "source": [
    "model_list = ['Naive Bayes','KNN','SVM','Logistic Regression']\n",
    "\n",
    "for i in model_list:\n",
    "    models_no_tuning (i,X_train, X_test, y_train, y_test)"
   ]
  },
  {
   "cell_type": "markdown",
   "id": "bf70a7b6",
   "metadata": {},
   "source": [
    "# Finding Best Model (Hyperparameter tuning and GridSearch)"
   ]
  },
  {
   "cell_type": "markdown",
   "id": "30f2be0f",
   "metadata": {},
   "source": [
    "#### Generate Scores"
   ]
  },
  {
   "cell_type": "code",
   "execution_count": 260,
   "id": "8caf5d04",
   "metadata": {},
   "outputs": [],
   "source": [
    "#print scores of the model: cross-validation, train and test scores\n",
    "\n",
    "def score_report_grid (grid, X_train, y_train, X_test, y_test,):\n",
    "    \n",
    "    #Print the scores of the model\n",
    "    print('-'*40)\n",
    "    print(\"Best cross-validation score: {:.2f}\".format(grid.best_score_))\n",
    "    print(\"Best Train score: {:.2f}\".format(grid.score(X_train, y_train)))\n",
    "    print(\"Best Test score: {:.2f}\".format(grid.score(X_test, y_test)))\n",
    "\n",
    "    if grid.score(X_train, y_train) > grid.score(X_test, y_test):\n",
    "            print('Percentage of overfitting: {:.2f}%'.format((grid.score(X_train, y_train)-\n",
    "                                             grid.score(X_test, y_test))/grid.score(X_train, y_train) *100))\n",
    "    elif grid.score(X_test, y_test) > grid.score(X_train, y_train):\n",
    "        print('Percentage of underfiting: {:.2f}%'.format((grid.score(X_test, y_test)-\n",
    "                                         grid.score(X_train, y_train))/grid.score(X_test, y_test) *100), '\\n')\n",
    "    # Print best parameters\n",
    "    print('-'*40)\n",
    "    print('Best parameters:', grid.best_params_)\n",
    "    print('='*40)\n",
    "\n",
    "#\"\"\"\"\"\"\"\"\"\"\"\"\"\"\"\"\"\"\"\"\"\"\"\"\"\"\"\"\"\"\"\"\"\"\"\"\"\"\"\"\"\"\"\"\"\"\"\"\"\"\"\"\"\"\"\"\"\"\"\"\"\"\"\"\"\"\"\"\"\"\"\"\"\"\"\"\"\"\"\"\"\"\"\"\"\"\"\"\"\"\"\"\"\"\"\"\"\"\"\"\"\"\"\"\"\"\"\"\"\"\"\"\"\"\"\"\"\"\"\"\n",
    "    \n",
    "#print scores of the model: train and test scores\n",
    "\n",
    "def score_report (model, X_train, y_train, X_test, y_test,):\n",
    "    \n",
    "    #Print the scores of the model\n",
    "    print('-'*40)\n",
    "    print(\"Best Train score: {:.2f}\".format(model.score(X_train, y_train)))\n",
    "    print(\"Best Test score: {:.2f}\".format(model.score(X_test, y_test)))\n",
    "\n",
    "    if model.score(X_train, y_train) > model.score(X_test, y_test):\n",
    "            print('Percentage of overfitting: {:.2f}%'.format((model.score(X_train, y_train)-\n",
    "                                             model.score(X_test, y_test))/model.score(X_train, y_train) *100))\n",
    "    elif model.score(X_test, y_test) > model.score(X_train, y_train):\n",
    "        print('Percentage of underfiting: {:.2f}%'.format((model.score(X_test, y_test)-\n",
    "                                         model.score(X_train, y_train))/model.score(X_test, y_test) *100), '\\n')\n",
    "    print('='*40)\n"
   ]
  },
  {
   "cell_type": "markdown",
   "id": "df0c268c",
   "metadata": {},
   "source": [
    "### 1. Decision Tree -  (Cross-validation)"
   ]
  },
  {
   "cell_type": "code",
   "execution_count": 276,
   "id": "641d40e5",
   "metadata": {},
   "outputs": [],
   "source": [
    "def tuned_dtree (X_train, y_train, X_test, y_test):\n",
    "    from sklearn.tree import DecisionTreeClassifier\n",
    "    from sklearn.metrics import accuracy_score\n",
    "    dtree = DecisionTreeClassifier(random_state=41)\n",
    "\n",
    "    param_grid = {'max_features': [1,2,3,4,5,6,7,8,9,10],\n",
    "                  'max_leaf_nodes': [1,2,3,4,5,6,7,8,9,10],\n",
    "                  }\n",
    "\n",
    "    grid = GridSearchCV(dtree, param_grid=param_grid, cv=5)\n",
    "    grid.fit(X_train, y_train) \n",
    "    \n",
    "    #get final model\n",
    "    dtr_model = grid.best_estimator_\n",
    "    dtr_pred = dtr_model.predict(X_test)\n",
    "    \n",
    "    #return model scores and the final predicted values\n",
    "    return score_report_grid (grid, X_train, y_train, X_test, y_test)"
   ]
  },
  {
   "cell_type": "markdown",
   "id": "dac173e8",
   "metadata": {},
   "source": [
    "### 2. Logistic Regression - (Cross-validation)"
   ]
  },
  {
   "cell_type": "code",
   "execution_count": 277,
   "id": "862b4b82",
   "metadata": {},
   "outputs": [],
   "source": [
    "def tuned_logistic_reg (X_train, y_train, X_test, y_test):\n",
    "    from sklearn.preprocessing import StandardScaler\n",
    "    from sklearn.preprocessing import MinMaxScaler\n",
    "\n",
    "    pipe = Pipeline([('scaler', StandardScaler()),('loreg', LogisticRegression())])   # without scaling\n",
    "    param_grid = {'loreg__C': [ 0.001,0.01, 0.1, 1, 10, 100]}\n",
    "\n",
    "    grid = GridSearchCV(pipe, param_grid=param_grid, cv=5)\n",
    "    grid.fit(X_train, y_train)\n",
    "    \n",
    "    #print scores of the model: cross-validation, train and test scores\n",
    "    \n",
    "    \n",
    "    #get final model\n",
    "    logreg_model = grid.best_estimator_\n",
    "    logreg_pred = logreg_model.predict(X_test)\n",
    "    \n",
    "    #return model scores and the final predicted values   \n",
    "    return score_report_grid (grid, X_train, y_train, X_test, y_test)"
   ]
  },
  {
   "cell_type": "markdown",
   "id": "57bff5a5",
   "metadata": {},
   "source": [
    "### 3. SVM - (Cross-validation)"
   ]
  },
  {
   "cell_type": "code",
   "execution_count": 278,
   "id": "b76c2b41",
   "metadata": {},
   "outputs": [],
   "source": [
    "def tuned_SVM (X_train, y_train, X_test, y_test):\n",
    "    from sklearn.svm import LinearSVC\n",
    "    # creating a pipe to scale the data for the SVM\n",
    "    pipe = Pipeline([('scaler', StandardScaler()), ('svm', SVC())])\n",
    "    param_grid = {'svm__C': [ 0.001,0.01, 0.1, 1, 10, 100],\n",
    "                  'svm__gamma': [0.001,0.01, 0.1, 1, 10, 100]}\n",
    "    grid = GridSearchCV(pipe, param_grid=param_grid, cv=5)\n",
    "    grid.fit(X_train, y_train)    \n",
    "    \n",
    "    #get final model\n",
    "    svm_model = grid.best_estimator_\n",
    "    svm_pred = svm_model.predict(X_test)\n",
    "\n",
    "    #return model scores and the final predicted values       \n",
    "    return score_report_grid (grid, X_train, y_train, X_test, y_test)"
   ]
  },
  {
   "cell_type": "markdown",
   "id": "9a43895b",
   "metadata": {},
   "source": [
    "### 4. KNN- (Cross-validation)"
   ]
  },
  {
   "cell_type": "code",
   "execution_count": 279,
   "id": "c0c155f5",
   "metadata": {},
   "outputs": [],
   "source": [
    "def tuned_KNN (X_train, y_train, X_test, y_test):\n",
    "    from sklearn.neighbors import KNeighborsClassifier\n",
    "\n",
    "    knn = KNeighborsClassifier()\n",
    "    param_grid = {'n_neighbors': [ 3,5,11,19],\n",
    "                 'weights': ['uniform', 'distance'],\n",
    "                 'metric': ['euclidean', 'manhattan']\n",
    "                 }\n",
    "\n",
    "    grid = GridSearchCV(knn, param_grid=param_grid, cv=5)\n",
    "    grid.fit(X_train, y_train)  \n",
    "    \n",
    "    #get final model\n",
    "    knn_model = grid.best_estimator_\n",
    "    knn_pred = knn_model.predict(X_test)\n",
    "    \n",
    "    #return model scores and the final predicted values\n",
    "    return score_report_grid (grid, X_train, y_train, X_test, y_test)"
   ]
  },
  {
   "cell_type": "markdown",
   "id": "d2c9ad67",
   "metadata": {},
   "source": [
    "### 5. NaiveBayes "
   ]
  },
  {
   "cell_type": "code",
   "execution_count": 280,
   "id": "37173185",
   "metadata": {},
   "outputs": [],
   "source": [
    "def naive_bayes (X_train, y_train, X_test, y_test):\n",
    "    from sklearn.naive_bayes import GaussianNB\n",
    "\n",
    "    typ = GaussianNB()\n",
    "    # Fit the model\n",
    "    model = typ\n",
    "    model.fit(X_train, y_train)\n",
    "    \n",
    "    #get final model\n",
    "    naive_pred = model.predict(X_test)\n",
    "    \n",
    "    #return model scores and the final predicted values\n",
    "    return score_report (model, X_train, y_train, X_test, y_test)  "
   ]
  },
  {
   "cell_type": "code",
   "execution_count": null,
   "id": "f605eff5",
   "metadata": {},
   "outputs": [],
   "source": []
  },
  {
   "cell_type": "markdown",
   "id": "bc887e90",
   "metadata": {},
   "source": [
    "### 6. Random Forest- (Cross-validation)"
   ]
  },
  {
   "cell_type": "code",
   "execution_count": 281,
   "id": "67b5e880",
   "metadata": {},
   "outputs": [],
   "source": [
    "def tuned_random_forest(X_train, y_train, X_test, y_test):\n",
    "    from sklearn.ensemble import RandomForestClassifier\n",
    "    # creating a pipe to scale the data for the RandomdomForest\n",
    "    rf = RandomForestClassifier(random_state=41)\n",
    "\n",
    "    param_grid = {\n",
    "                'max_features': [1, 2, 3, 4, 5, 6, 7, 8, 9, 10],\n",
    "                'max_leaf_nodes': [1,2,3,4,5,6,7,8,9,10]\n",
    "\n",
    "                    }\n",
    "\n",
    "    grid = GridSearchCV(rf, param_grid=param_grid, verbose =1, n_jobs =-1, cv=5)\n",
    "    grid.fit(X_train, y_train)\n",
    "    \n",
    "    #get final model\n",
    "    rf_model = grid.best_estimator_\n",
    "    rf_pred = rf_model.predict(X_test)\n",
    "    \n",
    "    #return model scores and the final predicted values\n",
    "    return score_report_grid (grid, X_train, y_train, X_test, y_test)   "
   ]
  },
  {
   "cell_type": "markdown",
   "id": "fbd69143",
   "metadata": {},
   "source": [
    "### 7. Gradient Boosting- (Cross-validation)"
   ]
  },
  {
   "cell_type": "code",
   "execution_count": 350,
   "id": "82b776ba",
   "metadata": {},
   "outputs": [],
   "source": [
    "def tuned_gradient_boosting(X_train, y_train, X_test, y_test):\n",
    "    from sklearn.ensemble import GradientBoostingClassifier\n",
    "    gbc = GradientBoostingClassifier(n_estimators=300, max_depth=1, random_state=41)\n",
    "    param_grid = {\n",
    "                 'max_leaf_nodes': [1,2,3,4,5,6,7,8,9,10]\n",
    "                 }\n",
    "\n",
    "    grid = GridSearchCV(gbc, param_grid=param_grid, verbose =1, n_jobs =-1, cv=5)\n",
    "    grid.fit(X_train, y_train)\n",
    "    \n",
    "    #get final model\n",
    "    gbc_model = grid.best_estimator_\n",
    "    gbc_pred = gbc_model.predict(X_test)\n",
    "\n",
    "    #return model scores and the final predicted values\n",
    "    return score_report_grid (grid, X_train, y_train, X_test, y_test)   "
   ]
  },
  {
   "cell_type": "markdown",
   "id": "dd43df21",
   "metadata": {},
   "source": [
    "### 8. AdaBoost (No need for parameter tuning)"
   ]
  },
  {
   "cell_type": "code",
   "execution_count": 351,
   "id": "27ad6790",
   "metadata": {},
   "outputs": [],
   "source": [
    "def adaboos(X_train, y_train, X_test, y_test):\n",
    "    from sklearn.ensemble import AdaBoostClassifier\n",
    "    #Instantiate DecisionTree\n",
    "    dtr = DecisionTreeClassifier(max_depth=1, max_features=5, max_leaf_nodes=10, random_state=41)\n",
    "\n",
    "    #AdaboostClassifier\n",
    "    adc = AdaBoostClassifier(base_estimator=dtr, n_estimators=80, random_state=41)\n",
    "    #fit AdaBoost\n",
    "    adc.fit(X_train,y_train)\n",
    "    \n",
    "    #get final model\n",
    "    adcl_pred = adc.predict(X_test)\n",
    "    \n",
    "    #return model scores and the final predicted values\n",
    "    return score_report (adc, X_train, y_train, X_test, y_test)   "
   ]
  },
  {
   "cell_type": "markdown",
   "id": "a367395a",
   "metadata": {},
   "source": [
    "## Get the Scores of all the 8 models and store their predicted y \n"
   ]
  },
  {
   "cell_type": "code",
   "execution_count": 352,
   "id": "316aaeee",
   "metadata": {},
   "outputs": [],
   "source": [
    "\n",
    "def all_models (X_train, y_train, X_test, y_test):\n",
    "    #prints model scores \n",
    "    \n",
    "    print('1. DecisionTree:')\n",
    "    tuned_dtree (X_train, y_train, X_test, y_test) \n",
    "    \n",
    "    print('2. LogisticRegression:')\n",
    "    logreg_pred = tuned_logistic_reg (X_train, y_train, X_test, y_test)\n",
    "    \n",
    "    print('3. SVM:')    \n",
    "    svm_pred = tuned_SVM (X_train, y_train, X_test, y_test)\n",
    "    \n",
    "    print('4. KNN:')\n",
    "    knn_pred = tuned_KNN (X_train, y_train, X_test, y_test) \n",
    "    \n",
    "    print('5. NaiveBayes:')    \n",
    "    naive_pred = naive_bayes (X_train, y_train, X_test, y_test)\n",
    "    \n",
    "    print('6. RandomForest:')    \n",
    "    rf_pred = tuned_random_forest(X_train, y_train, X_test, y_test) \n",
    "    \n",
    "    print('7. GradientBoosting:')    \n",
    "    gbc_pred = tuned_gradient_boosting(X_train, y_train, X_test, y_test) \n",
    "    \n",
    "    print('8. AdaBoost:')    \n",
    "    adcl_pred = adaboos(X_train, y_train, X_test, y_test)"
   ]
  },
  {
   "cell_type": "code",
   "execution_count": 353,
   "id": "081f2892",
   "metadata": {},
   "outputs": [
    {
     "name": "stdout",
     "output_type": "stream",
     "text": [
      "1. DecisionTree:\n",
      "----------------------------------------\n",
      "Best cross-validation score: 0.76\n",
      "Best Train score: 0.79\n",
      "Best Test score: 0.73\n",
      "Percentage of overfitting: 7.00%\n",
      "----------------------------------------\n",
      "Best parameters: {'max_features': 8, 'max_leaf_nodes': 6}\n",
      "========================================\n",
      "2. LogisticRegression:\n",
      "----------------------------------------\n",
      "Best cross-validation score: 0.76\n",
      "Best Train score: 0.79\n",
      "Best Test score: 0.80\n",
      "Percentage of underfiting: 1.79% \n",
      "\n",
      "----------------------------------------\n",
      "Best parameters: {'loreg__C': 1}\n",
      "========================================\n",
      "3. SVM:\n",
      "----------------------------------------\n",
      "Best cross-validation score: 0.78\n",
      "Best Train score: 0.83\n",
      "Best Test score: 0.77\n",
      "Percentage of overfitting: 7.79%\n",
      "----------------------------------------\n",
      "Best parameters: {'svm__C': 10, 'svm__gamma': 0.01}\n",
      "========================================\n",
      "4. KNN:\n",
      "----------------------------------------\n",
      "Best cross-validation score: 0.73\n",
      "Best Train score: 0.75\n",
      "Best Test score: 0.71\n",
      "Percentage of overfitting: 5.96%\n",
      "----------------------------------------\n",
      "Best parameters: {'metric': 'manhattan', 'n_neighbors': 11, 'weights': 'uniform'}\n",
      "========================================\n",
      "5. NaiveBayes:\n",
      "----------------------------------------\n",
      "Best Train score: 0.77\n",
      "Best Test score: 0.78\n",
      "Percentage of underfiting: 1.10% \n",
      "\n",
      "========================================\n",
      "6. RandomForest:\n",
      "Fitting 5 folds for each of 100 candidates, totalling 500 fits\n",
      "----------------------------------------\n",
      "Best cross-validation score: 0.78\n",
      "Best Train score: 0.81\n",
      "Best Test score: 0.77\n",
      "Percentage of overfitting: 4.36%\n",
      "----------------------------------------\n",
      "Best parameters: {'max_features': 8, 'max_leaf_nodes': 9}\n",
      "========================================\n",
      "7. GradientBoosting:\n",
      "Fitting 5 folds for each of 10 candidates, totalling 50 fits\n",
      "----------------------------------------\n",
      "Best cross-validation score: 0.73\n",
      "Best Train score: 0.81\n",
      "Best Test score: 0.76\n",
      "Percentage of overfitting: 6.34%\n",
      "----------------------------------------\n",
      "Best parameters: {'max_leaf_nodes': 2}\n",
      "========================================\n",
      "8. AdaBoost:\n",
      "----------------------------------------\n",
      "Best Train score: 0.82\n",
      "Best Test score: 0.71\n",
      "Percentage of overfitting: 13.82%\n",
      "========================================\n"
     ]
    }
   ],
   "source": [
    "all_models (X_train, y_train, X_test, y_test)"
   ]
  },
  {
   "cell_type": "markdown",
   "id": "3970aea4",
   "metadata": {},
   "source": []
  },
  {
   "cell_type": "markdown",
   "id": "eb8ce0d2",
   "metadata": {},
   "source": [
    "# Selection of Best features \n",
    "**- Idendity important Features**"
   ]
  },
  {
   "cell_type": "code",
   "execution_count": 286,
   "id": "8a5192c1",
   "metadata": {},
   "outputs": [
    {
     "data": {
      "text/plain": [
       "Text(0.5, 1.0, 'Feature Importance in Random Forest')"
      ]
     },
     "execution_count": 286,
     "metadata": {},
     "output_type": "execute_result"
    },
    {
     "data": {
      "image/png": "[encoded data removed]",
      "text/plain": [
       "<Figure size 432x288 with 1 Axes>"
      ]
     },
     "metadata": {
      "needs_background": "light"
     },
     "output_type": "display_data"
    }
   ],
   "source": [
    "# Feature importance in Random Forest, and Decision Tree  \n",
    "\n",
    "feature_name = train.columns[train.columns!='Credit-Application-Result']\n",
    "classifier_name = train.columns[train.columns=='Credit-Application-Result']\n",
    "\n",
    "#Random Forest\n",
    "from sklearn.ensemble import RandomForestClassifier\n",
    "\n",
    "forest = RandomForestClassifier(max_features=2, max_leaf_nodes=7, n_estimators=100, random_state=0)\n",
    "forest.fit(X_train, y_train)\n",
    "df_rf = pd.DataFrame({'feature':list(feature_name),'importance': forest.feature_importances_}).sort_values('importance')\n",
    "# plt.barh(list(df_rf.feature), df_rf['importance'])\n",
    "\n",
    "\n",
    "plt.figsize=(15, 5)\n",
    "\n",
    "\n",
    "plt.barh(list(df_rf.feature), df_rf['importance'])\n",
    "plt.xlabel('Feature Importance')\n",
    "plt.ylabel('Feature')\n",
    "plt.title('Feature Importance in Random Forest')\n"
   ]
  },
  {
   "cell_type": "code",
   "execution_count": null,
   "id": "33c6e7c3",
   "metadata": {},
   "outputs": [],
   "source": []
  },
  {
   "cell_type": "code",
   "execution_count": null,
   "id": "39fc2a16",
   "metadata": {},
   "outputs": [],
   "source": [
    "\n"
   ]
  },
  {
   "cell_type": "markdown",
   "id": "5ebe9b3e",
   "metadata": {},
   "source": [
    "**- Select Important Features by Recursive Feature Elimination (RFE)**"
   ]
  },
  {
   "cell_type": "code",
   "execution_count": 308,
   "id": "d872cd22",
   "metadata": {},
   "outputs": [
    {
     "data": {
      "text/plain": [
       "RFE(estimator=RandomForestClassifier(n_jobs=-1))"
      ]
     },
     "execution_count": 308,
     "metadata": {},
     "output_type": "execute_result"
    }
   ],
   "source": [
    "from sklearn.feature_selection import RFE\n",
    "rfe = RFE(estimator=RandomForestClassifier(n_estimators=100, n_jobs=-1))\n",
    "rfe.fit(X_train, y_train)\n"
   ]
  },
  {
   "cell_type": "code",
   "execution_count": 309,
   "id": "e54daf21",
   "metadata": {},
   "outputs": [
    {
     "data": {
      "text/plain": [
       "array([ True,  True,  True,  True, False, False,  True, False,  True,\n",
       "       False,  True, False, False, False, False,  True])"
      ]
     },
     "execution_count": 309,
     "metadata": {},
     "output_type": "execute_result"
    }
   ],
   "source": [
    "rfe.support_"
   ]
  },
  {
   "cell_type": "code",
   "execution_count": 310,
   "id": "d6a249c0",
   "metadata": {},
   "outputs": [
    {
     "data": {
      "text/plain": [
       "16"
      ]
     },
     "execution_count": 310,
     "metadata": {},
     "output_type": "execute_result"
    }
   ],
   "source": [
    "len(X.columns)"
   ]
  },
  {
   "cell_type": "code",
   "execution_count": 311,
   "id": "6e717525",
   "metadata": {},
   "outputs": [
    {
     "data": {
      "text/plain": [
       "8"
      ]
     },
     "execution_count": 311,
     "metadata": {},
     "output_type": "execute_result"
    }
   ],
   "source": [
    "len(X.columns[rfe.support_])"
   ]
  },
  {
   "cell_type": "code",
   "execution_count": 312,
   "id": "de61026d",
   "metadata": {},
   "outputs": [
    {
     "data": {
      "text/plain": [
       "0.125"
      ]
     },
     "execution_count": 312,
     "metadata": {},
     "output_type": "execute_result"
    }
   ],
   "source": [
    "#Mean of feature importances\n",
    "#Values below this mean are considered unimportant\n",
    "\n",
    "np.mean(rfe.estimator_.feature_importances_)"
   ]
  },
  {
   "cell_type": "markdown",
   "id": "a5838d70",
   "metadata": {},
   "source": [
    "#### - Final important features selected by RFE"
   ]
  },
  {
   "cell_type": "code",
   "execution_count": 313,
   "id": "02fa0b82",
   "metadata": {},
   "outputs": [
    {
     "data": {
      "text/html": [
       "<div>\n",
       "<style scoped>\n",
       "    .dataframe tbody tr th:only-of-type {\n",
       "        vertical-align: middle;\n",
       "    }\n",
       "\n",
       "    .dataframe tbody tr th {\n",
       "        vertical-align: top;\n",
       "    }\n",
       "\n",
       "    .dataframe thead th {\n",
       "        text-align: right;\n",
       "    }\n",
       "</style>\n",
       "<table border=\"1\" class=\"dataframe\">\n",
       "  <thead>\n",
       "    <tr style=\"text-align: right;\">\n",
       "      <th></th>\n",
       "      <th>rank</th>\n",
       "    </tr>\n",
       "    <tr>\n",
       "      <th>Feature</th>\n",
       "      <th></th>\n",
       "    </tr>\n",
       "  </thead>\n",
       "  <tbody>\n",
       "    <tr>\n",
       "      <th>Duration-of-Credit-Month</th>\n",
       "      <td>1</td>\n",
       "    </tr>\n",
       "    <tr>\n",
       "      <th>Instalment-per-cent</th>\n",
       "      <td>1</td>\n",
       "    </tr>\n",
       "    <tr>\n",
       "      <th>Most-valuable-available-asset</th>\n",
       "      <td>1</td>\n",
       "    </tr>\n",
       "    <tr>\n",
       "      <th>Type-of-apartment</th>\n",
       "      <td>1</td>\n",
       "    </tr>\n",
       "    <tr>\n",
       "      <th>Value-Savings-Stocks_None</th>\n",
       "      <td>1</td>\n",
       "    </tr>\n",
       "    <tr>\n",
       "      <th>Payment-Status-of-Previous-Credit_Some Problems</th>\n",
       "      <td>2</td>\n",
       "    </tr>\n",
       "    <tr>\n",
       "      <th>Account-Balance_Some Balance</th>\n",
       "      <td>5</td>\n",
       "    </tr>\n",
       "    <tr>\n",
       "      <th>Credit-Amount-per-age</th>\n",
       "      <td>6</td>\n",
       "    </tr>\n",
       "  </tbody>\n",
       "</table>\n",
       "</div>"
      ],
      "text/plain": [
       "                                                 rank\n",
       "Feature                                              \n",
       "Duration-of-Credit-Month                            1\n",
       "Instalment-per-cent                                 1\n",
       "Most-valuable-available-asset                       1\n",
       "Type-of-apartment                                   1\n",
       "Value-Savings-Stocks_None                           1\n",
       "Payment-Status-of-Previous-Credit_Some Problems     2\n",
       "Account-Balance_Some Balance                        5\n",
       "Credit-Amount-per-age                               6"
      ]
     },
     "execution_count": 313,
     "metadata": {},
     "output_type": "execute_result"
    }
   ],
   "source": [
    "columns=[]\n",
    "rank=[]          \n",
    "for i, j in zip(X.columns[rfe.support_], rfe.ranking_):\n",
    "    columns.append(i), rank.append(j)\n",
    "di = {'Feature': columns,\n",
    "     'rank': rank}    \n",
    "df_rank_columns = pd.DataFrame(di) # Create a data frame that will contain\n",
    "                                   # Important features and their rank\n",
    "df_rank_columns.set_index('Feature').sort_values('rank')"
   ]
  },
  {
   "cell_type": "markdown",
   "id": "17b2bde2",
   "metadata": {},
   "source": [
    "- All those features ranked 1 are the ones that strongly predict the label \n",
    "- The 6th ranked feature 'Payment-Status-of-Previous-Credit_Some Problems', is the last important feature maintained."
   ]
  },
  {
   "cell_type": "markdown",
   "id": "e2bfc496",
   "metadata": {},
   "source": [
    "### Determine the Performance of RandomForest using new training and testing data sets with reduced features\n",
    "1. Get new train and test data sets with the new features "
   ]
  },
  {
   "cell_type": "code",
   "execution_count": 314,
   "id": "53590928",
   "metadata": {},
   "outputs": [],
   "source": [
    "X_train_rfe = rfe.transform(X_train)\n",
    "X_test_rfe = rfe.transform(X_test)"
   ]
  },
  {
   "cell_type": "code",
   "execution_count": 315,
   "id": "dd2cc658",
   "metadata": {},
   "outputs": [
    {
     "data": {
      "text/plain": [
       "((350, 8), (150, 8))"
      ]
     },
     "execution_count": 315,
     "metadata": {},
     "output_type": "execute_result"
    }
   ],
   "source": [
    "X_train_rfe.shape, X_test_rfe.shape"
   ]
  },
  {
   "cell_type": "markdown",
   "id": "f04cbc36",
   "metadata": {},
   "source": [
    "2. Compare the RandomForest, Before and After "
   ]
  },
  {
   "cell_type": "code",
   "execution_count": 332,
   "id": "68d7fe45",
   "metadata": {},
   "outputs": [],
   "source": [
    "# Define a random forest model using the optimised parameters\n",
    "def rf_tuned_parameters(X_train, y_train, X_test, y_test):\n",
    "    rfc = RandomForestClassifier(max_leaf_nodes=9, n_estimators=80, random_state = 41, n_jobs=-1)\n",
    "    rfc.fit(X_train,y_train)\n",
    "    rf_pred = rfc.predict(X_test)\n",
    "    print('Accuracy: ', accuracy_score(y_test,rf_pred))\n",
    "    "
   ]
  },
  {
   "cell_type": "code",
   "execution_count": 333,
   "id": "0e6b7fcc",
   "metadata": {},
   "outputs": [],
   "source": [
    "#Beofre feature reduction"
   ]
  },
  {
   "cell_type": "code",
   "execution_count": 334,
   "id": "85f2c615",
   "metadata": {
    "scrolled": false
   },
   "outputs": [
    {
     "name": "stdout",
     "output_type": "stream",
     "text": [
      "Accuracy:  0.74\n",
      "Wall time: 244 ms\n"
     ]
    }
   ],
   "source": [
    "%%time\n",
    "rf_tuned_parameters(X_train, y_train, X_test, y_test)"
   ]
  },
  {
   "cell_type": "code",
   "execution_count": 335,
   "id": "cf8c948e",
   "metadata": {},
   "outputs": [],
   "source": [
    "#After feature reduction using RFE"
   ]
  },
  {
   "cell_type": "code",
   "execution_count": 336,
   "id": "21057bca",
   "metadata": {},
   "outputs": [
    {
     "name": "stdout",
     "output_type": "stream",
     "text": [
      "Accuracy:  0.7933333333333333\n",
      "Wall time: 238 ms\n"
     ]
    }
   ],
   "source": [
    "%%time    \n",
    "rf_tuned_parameters(X_train_rfe, y_train, X_test_rfe, y_test)"
   ]
  },
  {
   "cell_type": "code",
   "execution_count": 337,
   "id": "cb70b503",
   "metadata": {},
   "outputs": [
    {
     "name": "stdout",
     "output_type": "stream",
     "text": [
      "Fitting 5 folds for each of 100 candidates, totalling 500 fits\n",
      "----------------------------------------\n",
      "Best cross-validation score: 0.78\n",
      "Best Train score: 0.81\n",
      "Best Test score: 0.77\n",
      "Percentage of overfitting: 4.36%\n",
      "----------------------------------------\n",
      "Best parameters: {'max_features': 8, 'max_leaf_nodes': 9}\n",
      "========================================\n"
     ]
    }
   ],
   "source": [
    "tuned_random_forest(X_train, y_train, X_test, y_test)"
   ]
  },
  {
   "cell_type": "markdown",
   "id": "e0069829",
   "metadata": {},
   "source": [
    "- **The RFE returned better accuracy (0.793) than the tuned RandomForest (0.77) and Full features (0.74)**\n",
    "- **Both RFE and tuned RandomForest returned 8 max_features**"
   ]
  },
  {
   "cell_type": "markdown",
   "id": "4ad445df",
   "metadata": {},
   "source": [
    "3. feature Selection by GradientBoost"
   ]
  },
  {
   "cell_type": "code",
   "execution_count": 338,
   "id": "151e04ca",
   "metadata": {},
   "outputs": [],
   "source": [
    "from sklearn.ensemble import GradientBoostingClassifier"
   ]
  },
  {
   "cell_type": "code",
   "execution_count": 339,
   "id": "b7c0d642",
   "metadata": {},
   "outputs": [
    {
     "data": {
      "text/plain": [
       "RFE(estimator=GradientBoostingClassifier(random_state=0))"
      ]
     },
     "execution_count": 339,
     "metadata": {},
     "output_type": "execute_result"
    }
   ],
   "source": [
    "from sklearn.feature_selection import RFE\n",
    "rfe_gbc = RFE(estimator=GradientBoostingClassifier(n_estimators=100, random_state=0))\n",
    "rfe_gbc.fit(X_train, y_train)\n"
   ]
  },
  {
   "cell_type": "code",
   "execution_count": 340,
   "id": "9a28fe26",
   "metadata": {},
   "outputs": [
    {
     "data": {
      "text/plain": [
       "array([ True, False, False, False,  True,  True,  True, False,  True,\n",
       "       False,  True,  True, False, False, False,  True])"
      ]
     },
     "execution_count": 340,
     "metadata": {},
     "output_type": "execute_result"
    }
   ],
   "source": [
    "rfe_gbc.support_"
   ]
  },
  {
   "cell_type": "code",
   "execution_count": 341,
   "id": "7816738f",
   "metadata": {},
   "outputs": [
    {
     "data": {
      "text/plain": [
       "16"
      ]
     },
     "execution_count": 341,
     "metadata": {},
     "output_type": "execute_result"
    }
   ],
   "source": [
    "len(X.columns)"
   ]
  },
  {
   "cell_type": "code",
   "execution_count": 342,
   "id": "6ae3cf23",
   "metadata": {},
   "outputs": [
    {
     "data": {
      "text/plain": [
       "8"
      ]
     },
     "execution_count": 342,
     "metadata": {},
     "output_type": "execute_result"
    }
   ],
   "source": [
    "len(X.columns[rfe_gbc.support_])"
   ]
  },
  {
   "cell_type": "code",
   "execution_count": 344,
   "id": "75510c8f",
   "metadata": {},
   "outputs": [],
   "source": [
    "X_train_rfe = rfe_gbc.transform(X_train)\n",
    "X_test_rfe = rfe_gbc.transform(X_test)"
   ]
  },
  {
   "cell_type": "code",
   "execution_count": 345,
   "id": "00a9f5fe",
   "metadata": {},
   "outputs": [],
   "source": [
    "#Beofre feature reduction"
   ]
  },
  {
   "cell_type": "code",
   "execution_count": 346,
   "id": "8922125b",
   "metadata": {},
   "outputs": [
    {
     "name": "stdout",
     "output_type": "stream",
     "text": [
      "Accuracy:  0.74\n",
      "Wall time: 240 ms\n"
     ]
    }
   ],
   "source": [
    "%%time\n",
    "rf_tuned_parameters(X_train, y_train, X_test, y_test)"
   ]
  },
  {
   "cell_type": "code",
   "execution_count": 347,
   "id": "10f0a086",
   "metadata": {},
   "outputs": [],
   "source": [
    "#After feature reduction using RFE and GradientBoosting"
   ]
  },
  {
   "cell_type": "code",
   "execution_count": 348,
   "id": "512d4c83",
   "metadata": {},
   "outputs": [
    {
     "name": "stdout",
     "output_type": "stream",
     "text": [
      "Accuracy:  0.7333333333333333\n",
      "Wall time: 232 ms\n"
     ]
    }
   ],
   "source": [
    "%%time    \n",
    "rf_tuned_parameters(X_train_rfe, y_train, X_test_rfe, y_test)"
   ]
  },
  {
   "cell_type": "markdown",
   "id": "8fe7cc6f",
   "metadata": {},
   "source": [
    "- **The RFE using RandomForest (07933) performs better than RFE using gradientBoosting (0.733), both using max_leaf of 8"
   ]
  },
  {
   "cell_type": "code",
   "execution_count": 349,
   "id": "80ee9d46",
   "metadata": {},
   "outputs": [],
   "source": [
    "#Using for loop to select the number of features while \n",
    "#racking model accuracy"
   ]
  },
  {
   "cell_type": "code",
   "execution_count": null,
   "id": "08f8184c",
   "metadata": {},
   "outputs": [],
   "source": []
  },
  {
   "cell_type": "code",
   "execution_count": null,
   "id": "0b1030e1",
   "metadata": {},
   "outputs": [],
   "source": []
  },
  {
   "cell_type": "code",
   "execution_count": null,
   "id": "9cf2885c",
   "metadata": {},
   "outputs": [],
   "source": []
  },
  {
   "cell_type": "code",
   "execution_count": null,
   "id": "9801c17b",
   "metadata": {},
   "outputs": [],
   "source": []
  },
  {
   "cell_type": "code",
   "execution_count": null,
   "id": "2f1819b9",
   "metadata": {},
   "outputs": [],
   "source": []
  },
  {
   "cell_type": "code",
   "execution_count": 385,
   "id": "9643bf12",
   "metadata": {},
   "outputs": [
    {
     "name": "stdout",
     "output_type": "stream",
     "text": [
      "RFE\n",
      "----------------------------------------\n",
      "Training accuracy: 0.803\n",
      "Test accuracy: 0.753\n",
      "Percentage of overfitting: 6.17%\n",
      "========================================\n"
     ]
    }
   ],
   "source": [
    "from sklearn.feature_selection import RFE\n",
    "rfe = RFE (estimator=RandomForestClassifier(max_features=10,\n",
    "                                           max_leaf_nodes=7,\n",
    "                                           max_depth=3),\n",
    "          n_features_to_select=18, verbose=1)\n",
    "rfe.fit(X_train,y_train)\n",
    "\n",
    "\n",
    "\n",
    "train_score = rfe.score(X_train, y_train)\n",
    "test_score = rfe.score(X_test, y_test)\n",
    "\n",
    "#Print the scores of the model\n",
    "print(\"RFE\")\n",
    "print('-'*40)\n",
    "print(\"Training accuracy: {:.3f}\".format(train_score))\n",
    "print(\"Test accuracy: {:.3f}\".format(test_score))\n",
    "if train_score > test_score:\n",
    "    print('Percentage of overfitting: {:.2f}%'.format((train_score-\n",
    "                                     test_score)/train_score *100))\n",
    "elif test_score > train_score:\n",
    "    print('Percentage of underfiting: {:.2f}%'.format((test_score-\n",
    "                                     train_score)/test_score *100))\n",
    "print('='*40)\n",
    "\n"
   ]
  },
  {
   "cell_type": "markdown",
   "id": "77365100",
   "metadata": {},
   "source": [
    "# Dealing with the unbalanced target variable"
   ]
  },
  {
   "cell_type": "code",
   "execution_count": 78,
   "id": "a8d8c116",
   "metadata": {},
   "outputs": [],
   "source": [
    "from imblearn.over_sampling import SMOTE\n",
    "ovs = SMOTE(random_state=0)\n",
    "smote_X_train, smote_y_train = ovs.fit_resample(X_train, y_train)"
   ]
  },
  {
   "cell_type": "code",
   "execution_count": 79,
   "id": "e6b2f660",
   "metadata": {},
   "outputs": [
    {
     "data": {
      "image/png": "[encoded data removed]",
      "text/plain": [
       "<Figure size 432x288 with 1 Axes>"
      ]
     },
     "metadata": {
      "needs_background": "light"
     },
     "output_type": "display_data"
    }
   ],
   "source": [
    "sns.countplot(smote_y_train)\n",
    "plt.show()"
   ]
  },
  {
   "cell_type": "code",
   "execution_count": 80,
   "id": "a263cea7",
   "metadata": {},
   "outputs": [],
   "source": [
    "# 1. Decision Tree"
   ]
  },
  {
   "cell_type": "code",
   "execution_count": 81,
   "id": "d2d796d0",
   "metadata": {},
   "outputs": [
    {
     "name": "stdout",
     "output_type": "stream",
     "text": [
      "Decision Tree - balanced data (cross validated)\n",
      "----------------------------------------\n",
      "done in 1637656038.2429664s \n",
      "\n",
      "Best cross-validation score: 0.76\n",
      "Best Train score: 0.76\n",
      "Best Test score: 0.67\n",
      "Percentage of overfitting: 11.93%\n",
      "----------------------------------------\n",
      "Best parameters: {'max_features': 10, 'max_leaf_nodes': 3}\n",
      "========================================\n"
     ]
    }
   ],
   "source": [
    "from sklearn.tree import DecisionTreeClassifier\n",
    "from sklearn.metrics import accuracy_score\n",
    "import os, json, codecs, nltk  \n",
    "from time import time \n",
    "\n",
    "dtree = DecisionTreeClassifier(random_state=41)\n",
    "\n",
    "param_grid = {'max_features': [1,2,3,4,5,6,7,8,9,10],\n",
    "              'max_leaf_nodes': [1,2,3,4,5,6,7,8,9,10],\n",
    "              }\n",
    "\n",
    "grid = GridSearchCV(dtree, param_grid=param_grid, cv=5)\n",
    "grid.fit(smote_X_train, smote_y_train)\n",
    "\n",
    "#Print the scores of the model\n",
    "print(\"Decision Tree - balanced data (cross validated)\")\n",
    "print('-'*40)\n",
    "print(\"done in {0}s\".format(time()), '\\n')  \n",
    "print(\"Best cross-validation score: {:.2f}\".format(grid.best_score_))\n",
    "\n",
    "print(\"Best Train score: {:.2f}\".format(grid.score(smote_X_train, smote_y_train)))\n",
    "print(\"Best Test score: {:.2f}\".format(grid.score(X_test, y_test)))\n",
    "\n",
    "if grid.score(smote_X_train, smote_y_train) > grid.score(X_test, y_test):\n",
    "        print('Percentage of overfitting: {:.2f}%'.format((grid.score(smote_X_train, smote_y_train)-\n",
    "                                         grid.score(X_test, y_test))/grid.score(smote_X_train, smote_y_train) *100))\n",
    "elif grid.score(X_test, y_test) > grid.score(smote_X_train, smote_y_train):\n",
    "    print('Percentage of underfiting: {:.2f}%'.format((grid.score(X_test, y_test)-\n",
    "                                     grid.score(smote_X_train, smote_y_train))/grid.score(X_test, y_test) *100), '\\n')\n",
    "# Print best parameters\n",
    "print('-'*40)\n",
    "print('Best parameters:', grid.best_params_)\n",
    "print('='*40)"
   ]
  },
  {
   "cell_type": "code",
   "execution_count": 82,
   "id": "43c00bcd",
   "metadata": {},
   "outputs": [],
   "source": [
    "dtr_model = grid.best_estimator_\n",
    "dtr_pred = dtr_model.predict(X_train)"
   ]
  },
  {
   "cell_type": "code",
   "execution_count": null,
   "id": "bd2a5f4a",
   "metadata": {},
   "outputs": [],
   "source": []
  },
  {
   "cell_type": "code",
   "execution_count": 83,
   "id": "6e5c0636",
   "metadata": {},
   "outputs": [],
   "source": [
    "# 2. Logistic Regression"
   ]
  },
  {
   "cell_type": "code",
   "execution_count": 84,
   "id": "b39703d0",
   "metadata": {},
   "outputs": [
    {
     "name": "stdout",
     "output_type": "stream",
     "text": [
      "Logistic Regression - Balanced data (cross validated)\n",
      "----------------------------------------\n",
      "done in 1637656041.2078626s \n",
      "\n",
      "Best cross-validation score: 0.75\n",
      "Best Train score: 0.76\n",
      "Best Test score: 0.71\n",
      "Percentage of overfitting: 7.38%\n",
      "----------------------------------------\n",
      "Best parameters: {'loreg__C': 1}\n",
      "========================================\n"
     ]
    }
   ],
   "source": [
    "pipe = Pipeline([('loreg', LogisticRegression())])   # without scaling\n",
    "param_grid = {'loreg__C': [ 0.001,0.01, 0.1, 1, 10, 100]}\n",
    "\n",
    "grid = GridSearchCV(pipe, param_grid=param_grid, cv=5)\n",
    "grid.fit(smote_X_train, smote_y_train)\n",
    "\n",
    "#Print the scores of the model\n",
    "print(\"Logistic Regression - Balanced data (cross validated)\")\n",
    "print('-'*40)\n",
    "print(\"done in {0}s\".format(time()), '\\n')  \n",
    "print(\"Best cross-validation score: {:.2f}\".format(grid.best_score_))\n",
    "\n",
    "print(\"Best Train score: {:.2f}\".format(grid.score(smote_X_train, smote_y_train)))\n",
    "print(\"Best Test score: {:.2f}\".format(grid.score(X_test, y_test)))\n",
    "\n",
    "if grid.score(smote_X_train, smote_y_train) > grid.score(X_test, y_test):\n",
    "        print('Percentage of overfitting: {:.2f}%'.format((grid.score(smote_X_train, smote_y_train)-\n",
    "                                         grid.score(X_test, y_test))/grid.score(smote_X_train, smote_y_train) *100))\n",
    "elif grid.score(X_test, y_test) > grid.score(smote_X_train, smote_y_train):\n",
    "    print('Percentage of underfiting: {:.2f}%'.format((grid.score(X_test, y_test)-\n",
    "                                     grid.score(smote_X_train, smote_y_train))/grid.score(X_test, y_test) *100), '\\n')\n",
    "# Print best parameters\n",
    "print('-'*40)\n",
    "print('Best parameters:', grid.best_params_)\n",
    "print('='*40)"
   ]
  },
  {
   "cell_type": "code",
   "execution_count": 85,
   "id": "8672f5b0",
   "metadata": {},
   "outputs": [],
   "source": [
    "logreg_model = grid.best_estimator_\n",
    "logreg_pred = logreg_model.predict(X_train)"
   ]
  },
  {
   "cell_type": "code",
   "execution_count": null,
   "id": "de2e34b1",
   "metadata": {},
   "outputs": [],
   "source": []
  },
  {
   "cell_type": "code",
   "execution_count": 86,
   "id": "1045e07e",
   "metadata": {},
   "outputs": [],
   "source": [
    "#3. SVM"
   ]
  },
  {
   "cell_type": "code",
   "execution_count": 87,
   "id": "d47d11bd",
   "metadata": {},
   "outputs": [
    {
     "name": "stdout",
     "output_type": "stream",
     "text": [
      "SVM - Balanced Data (cross validated)\n",
      "----------------------------------------\n",
      "done in 1637656883.9313803s \n",
      "\n",
      "Best cross-validation score: 0.81\n",
      "Best Train score: 0.92\n",
      "Best Test score: 0.73\n",
      "Percentage of overfitting: 21.04%\n",
      "----------------------------------------\n",
      "Best parameters: {'svm__C': 1, 'svm__gamma': 0.1}\n",
      "========================================\n"
     ]
    }
   ],
   "source": [
    "# creating a pipe to scale the data for the SVM\n",
    "\n",
    "pipe = Pipeline([('scaler', StandardScaler()), ('svm', SVC())])\n",
    "param_grid = {'svm__C': [ 0.001,0.01, 0.1, 1, 10, 100],\n",
    "              'svm__gamma': [0.001,0.01, 0.1, 1, 10, 100]}\n",
    "\n",
    "grid = GridSearchCV(pipe, param_grid=param_grid, cv=5)\n",
    "grid.fit(smote_X_train, smote_y_train)\n",
    "\n",
    "#Print the scores of the model\n",
    "print(\"SVM - Balanced Data (cross validated)\")\n",
    "print('-'*40)\n",
    "print(\"done in {0}s\".format(time()), '\\n')  \n",
    "print(\"Best cross-validation score: {:.2f}\".format(grid.best_score_))\n",
    "\n",
    "print(\"Best Train score: {:.2f}\".format(grid.score(smote_X_train, smote_y_train)))\n",
    "print(\"Best Test score: {:.2f}\".format(grid.score(X_test, y_test)))\n",
    "\n",
    "if grid.score(smote_X_train, smote_y_train) > grid.score(X_test, y_test):\n",
    "        print('Percentage of overfitting: {:.2f}%'.format((grid.score(smote_X_train, smote_y_train)-\n",
    "                                         grid.score(X_test, y_test))/grid.score(smote_X_train, smote_y_train) *100))\n",
    "elif grid.score(X_test, y_test) > grid.score(smote_X_train, smote_y_train):\n",
    "    print('Percentage of underfiting: {:.2f}%'.format((grid.score(X_test, y_test)-\n",
    "                                     grid.score(smote_X_train, smote_y_train))/grid.score(X_test, y_test) *100), '\\n')\n",
    "# Print best parameters\n",
    "print('-'*40)\n",
    "print('Best parameters:', grid.best_params_)\n",
    "print('='*40)"
   ]
  },
  {
   "cell_type": "code",
   "execution_count": 91,
   "id": "82e75126",
   "metadata": {},
   "outputs": [],
   "source": [
    "svm_model = grid.best_estimator_\n",
    "svm_pred = svm_model.predict(X_train)"
   ]
  },
  {
   "cell_type": "code",
   "execution_count": 92,
   "id": "9b37925c",
   "metadata": {},
   "outputs": [],
   "source": [
    "#4. KNN"
   ]
  },
  {
   "cell_type": "code",
   "execution_count": 93,
   "id": "812d8cc7",
   "metadata": {},
   "outputs": [
    {
     "name": "stdout",
     "output_type": "stream",
     "text": [
      "KNN - Balanced Data (cross validated)\n",
      "----------------------------------------\n",
      "done in 1637656917.0095508s \n",
      "\n",
      "Best cross-validation score: 0.68\n",
      "Best Train score: 1.00\n",
      "Best Test score: 0.61\n",
      "Percentage of overfitting: 38.67%\n",
      "----------------------------------------\n",
      "Best parameters: {'metric': 'manhattan', 'n_neighbors': 11, 'weights': 'distance'}\n",
      "========================================\n"
     ]
    }
   ],
   "source": [
    "from sklearn.neighbors import KNeighborsClassifier\n",
    "\n",
    "knn = KNeighborsClassifier()\n",
    "param_grid = {'n_neighbors': [ 3,5,11,19],\n",
    "             'weights': ['uniform', 'distance'],\n",
    "             'metric': ['euclidean', 'manhattan']\n",
    "             }\n",
    "\n",
    "grid = GridSearchCV(knn, param_grid=param_grid, cv=5)\n",
    "grid.fit(smote_X_train, smote_y_train)\n",
    "\n",
    "#Print the scores of the model\n",
    "print(\"KNN - Balanced Data (cross validated)\")\n",
    "print('-'*40)\n",
    "print(\"done in {0}s\".format(time()), '\\n')  \n",
    "print(\"Best cross-validation score: {:.2f}\".format(grid.best_score_))\n",
    "\n",
    "print(\"Best Train score: {:.2f}\".format(grid.score(smote_X_train, smote_y_train)))\n",
    "print(\"Best Test score: {:.2f}\".format(grid.score(X_test, y_test)))\n",
    "\n",
    "if grid.score(smote_X_train, smote_y_train) > grid.score(X_test, y_test):\n",
    "        print('Percentage of overfitting: {:.2f}%'.format((grid.score(smote_X_train, smote_y_train)-\n",
    "                                         grid.score(X_test, y_test))/grid.score(smote_X_train, smote_y_train) *100))\n",
    "elif grid.score(X_test, y_test) > grid.score(smote_X_train, smote_y_train):\n",
    "    print('Percentage of underfiting: {:.2f}%'.format((grid.score(X_test, y_test)-\n",
    "                                     grid.score(smote_X_train, smote_y_train))/grid.score(X_test, y_test) *100), '\\n')\n",
    "# Print best parameters\n",
    "print('-'*40)\n",
    "print('Best parameters:', grid.best_params_)\n",
    "print('='*40)"
   ]
  },
  {
   "cell_type": "code",
   "execution_count": 94,
   "id": "275c533b",
   "metadata": {},
   "outputs": [],
   "source": [
    "knn_model = grid.best_estimator_\n",
    "knn_pred = knn_model.predict(X_train)"
   ]
  },
  {
   "cell_type": "code",
   "execution_count": null,
   "id": "5d431b9a",
   "metadata": {},
   "outputs": [],
   "source": []
  },
  {
   "cell_type": "code",
   "execution_count": 95,
   "id": "81e4a513",
   "metadata": {},
   "outputs": [],
   "source": [
    "#4. Random Forest"
   ]
  },
  {
   "cell_type": "code",
   "execution_count": 96,
   "id": "14bb4aa4",
   "metadata": {},
   "outputs": [
    {
     "name": "stdout",
     "output_type": "stream",
     "text": [
      "Fitting 5 folds for each of 1000 candidates, totalling 5000 fits\n",
      "Random Forest - Balanced Data (cross validated)\n",
      "----------------------------------------\n",
      "done in 1637657493.0298934s \n",
      "\n",
      "Best cross-validation score: 0.80\n",
      "Best Train score: 0.83\n",
      "Best Test score: 0.72\n",
      "Percentage of overfitting: 13.53%\n",
      "----------------------------------------\n",
      "Best parameters: {'max_depth': 6, 'max_features': 2, 'max_leaf_nodes': 7}\n",
      "========================================\n"
     ]
    }
   ],
   "source": [
    "# creating a pipe to scale the data for the RandomdomForest\n",
    "rf = RandomForestClassifier(random_state=41)\n",
    "\n",
    "param_grid = {\n",
    "            'max_features': [1, 2, 3, 4, 5, 6, 7, 8, 9, 10],\n",
    "            'max_depth': [1,2,3,4,5,6,7,8,9,10],\n",
    "            'max_leaf_nodes': [1,2,3,4,5,6,7,8,9,10]\n",
    "\n",
    "                }\n",
    "                                            \n",
    "grid = GridSearchCV(rf, param_grid=param_grid, verbose =1, n_jobs =-1, cv=5)\n",
    "grid.fit(smote_X_train, smote_y_train)\n",
    "\n",
    "#Print the scores of the model\n",
    "print(\"Random Forest - Balanced Data (cross validated)\")\n",
    "print('-'*40)\n",
    "print(\"done in {0}s\".format(time()), '\\n')  \n",
    "print(\"Best cross-validation score: {:.2f}\".format(grid.best_score_))\n",
    "\n",
    "print(\"Best Train score: {:.2f}\".format(grid.score(smote_X_train, smote_y_train)))\n",
    "print(\"Best Test score: {:.2f}\".format(grid.score(X_test, y_test)))\n",
    "\n",
    "if grid.score(smote_X_train, smote_y_train) > grid.score(X_test, y_test):\n",
    "        print('Percentage of overfitting: {:.2f}%'.format((grid.score(smote_X_train, smote_y_train)-\n",
    "                                         grid.score(X_test, y_test))/grid.score(smote_X_train, smote_y_train) *100))\n",
    "elif grid.score(X_test, y_test) > grid.score(smote_X_train, smote_y_train):\n",
    "    print('Percentage of underfiting: {:.2f}%'.format((grid.score(X_test, y_test)-\n",
    "                                     grid.score(smote_X_train, smote_y_train))/grid.score(X_test, y_test) *100), '\\n')\n",
    "# Print best parameters\n",
    "print('-'*40)\n",
    "print('Best parameters:', grid.best_params_)\n",
    "print('='*40)"
   ]
  },
  {
   "cell_type": "code",
   "execution_count": 98,
   "id": "35272007",
   "metadata": {},
   "outputs": [],
   "source": [
    "rf_model = grid.best_estimator_\n",
    "rf_pred = rf_model.predict(X_train)"
   ]
  },
  {
   "cell_type": "code",
   "execution_count": null,
   "id": "41bbb06d",
   "metadata": {},
   "outputs": [],
   "source": []
  },
  {
   "cell_type": "code",
   "execution_count": null,
   "id": "f2604aba",
   "metadata": {},
   "outputs": [],
   "source": []
  },
  {
   "cell_type": "code",
   "execution_count": 99,
   "id": "3bfeff7a",
   "metadata": {},
   "outputs": [],
   "source": [
    "#5. Voting Classifier"
   ]
  },
  {
   "cell_type": "code",
   "execution_count": 100,
   "id": "f61f7648",
   "metadata": {},
   "outputs": [],
   "source": [
    "from sklearn.tree import DecisionTreeClassifier\n",
    "from sklearn.neighbors import KNeighborsClassifier as KNN\n"
   ]
  },
  {
   "cell_type": "code",
   "execution_count": 101,
   "id": "5e0ccd2b",
   "metadata": {},
   "outputs": [],
   "source": [
    "#Inastantiating individual Classifiers\n",
    "\n",
    "logr = LogisticRegression(random_state=41, C=1)\n",
    "svc = SVC(C=1, gamma=0.1)\n",
    "dtr = DecisionTreeClassifier(max_features=10, max_leaf_nodes=3, random_state=41)\n",
    "\n",
    "\n",
    "classiifiers = [('logistic Regression', logr), ('SVC', svc), ('Decision Tree', dtr)]"
   ]
  },
  {
   "cell_type": "code",
   "execution_count": 102,
   "id": "ac43fd8e",
   "metadata": {},
   "outputs": [
    {
     "name": "stdout",
     "output_type": "stream",
     "text": [
      "logistic Regression: 0.707\n",
      "SVC: 0.727\n",
      "Decision Tree: 0.667\n"
     ]
    }
   ],
   "source": [
    "#Iterating over the classifiers list\n",
    "\n",
    "for i, j in classiifiers:\n",
    "    j.fit(smote_X_train, smote_y_train)\n",
    "    \n",
    "    #predict labels\n",
    "    y_pred = j.predict(X_test)\n",
    "    \n",
    "    #Accuracy\n",
    "    print('{}: {:.3f}'.format(i, accuracy_score(y_test,y_pred)))"
   ]
  },
  {
   "cell_type": "code",
   "execution_count": 103,
   "id": "e69ac672",
   "metadata": {},
   "outputs": [
    {
     "name": "stdout",
     "output_type": "stream",
     "text": [
      "Voting Classifier train score: 0.815\n",
      "Voting Classifier test score: 0.700\n",
      "----------------------------------------\n",
      "Percentage of overfitting: 14.08%\n",
      "========================================\n"
     ]
    }
   ],
   "source": [
    "#Voting Classifier\n",
    "\n",
    "vc = VotingClassifier(estimators=classiifiers)\n",
    "vc.fit(smote_X_train, smote_y_train)\n",
    "y_pred = vc.predict(X_test)\n",
    "\n",
    "#Train and Test Accuracy of Voting Classifier\n",
    "train_score = vc.score(smote_X_train, smote_y_train)\n",
    "test_score = accuracy_score(y_test, y_pred)\n",
    "\n",
    "#Print the scores of the model\n",
    "print('Voting Classifier train score: {:.3f}'.format(train_score))\n",
    "print('Voting Classifier test score: {:.3f}'.format(test_score))\n",
    "\n",
    "print('-'*40)\n",
    "\n",
    "if train_score > test_score:\n",
    "    print('Percentage of overfitting: {:.2f}%'.format((train_score-\n",
    "                                     test_score)/train_score *100))\n",
    "elif test_score > train_score:\n",
    "    print('Percentage of underfiting: {:.2f}%'.format((test_score-\n",
    "                                     train_score)/test_score *100))\n",
    "print('='*40)\n",
    "\n"
   ]
  },
  {
   "cell_type": "code",
   "execution_count": null,
   "id": "00fba368",
   "metadata": {},
   "outputs": [],
   "source": []
  },
  {
   "cell_type": "code",
   "execution_count": null,
   "id": "68d39d1a",
   "metadata": {},
   "outputs": [],
   "source": []
  },
  {
   "cell_type": "markdown",
   "id": "8b73fea2",
   "metadata": {},
   "source": [
    "# Bagging"
   ]
  },
  {
   "cell_type": "code",
   "execution_count": 104,
   "id": "d0ea55a2",
   "metadata": {},
   "outputs": [],
   "source": [
    "from sklearn.ensemble import BaggingClassifier"
   ]
  },
  {
   "cell_type": "code",
   "execution_count": 105,
   "id": "a78d9501",
   "metadata": {},
   "outputs": [
    {
     "name": "stdout",
     "output_type": "stream",
     "text": [
      "Accuracy of Bagging Classifier: 0.72\n",
      "Training accuracy: 0.831\n",
      "Test accuracy: 0.720\n",
      "Percentage of overfitting: 13.32%\n",
      "========================================\n"
     ]
    }
   ],
   "source": [
    "rfc = RandomForestClassifier(random_state=0, max_features=2, max_depth=4, max_leaf_nodes=7)\n",
    "bc = BaggingClassifier(base_estimator=rfc, n_estimators=80, n_jobs=-1)\n",
    "\n",
    "bc.fit(smote_X_train, smote_y_train)\n",
    "\n",
    "y_pred = bc.predict(X_test)\n",
    "acc_score = accuracy_score(y_test, y_pred)\n",
    "train_score = bc.score(smote_X_train, smote_y_train)\n",
    "test_score = bc.score(X_test, y_test)\n",
    "\n",
    "\n",
    "print('Accuracy of Bagging Classifier: {}'.format(acc_score))\n",
    "\n",
    "print(\"Training accuracy: {:.3f}\".format(train_score))\n",
    "print(\"Test accuracy: {:.3f}\".format(test_score))\n",
    "if train_score > test_score:\n",
    "    print('Percentage of overfitting: {:.2f}%'.format((train_score-\n",
    "                                     test_score)/train_score *100))\n",
    "elif test_score > train_score:\n",
    "    print('Percentage of underfiting: {:.2f}%'.format((test_score-\n",
    "                                     train_score)/test_score *100))\n",
    "print('='*40)\n"
   ]
  },
  {
   "cell_type": "code",
   "execution_count": null,
   "id": "f6063bd3",
   "metadata": {},
   "outputs": [],
   "source": []
  },
  {
   "cell_type": "code",
   "execution_count": 106,
   "id": "f47a40a1",
   "metadata": {},
   "outputs": [],
   "source": [
    "# AdaBoost"
   ]
  },
  {
   "cell_type": "code",
   "execution_count": 107,
   "id": "eafd9f58",
   "metadata": {},
   "outputs": [
    {
     "name": "stdout",
     "output_type": "stream",
     "text": [
      "AdaBoost - Balanced Data\n",
      "----------------------------------------\n",
      "Training accuracy: 0.869\n",
      "Test accuracy: 0.707\n",
      "Percentage of overfitting: 18.64%\n",
      "========================================\n"
     ]
    }
   ],
   "source": [
    "#Instantiate DecisionTree\n",
    "dtr = DecisionTreeClassifier(max_depth=1, max_features=10, max_leaf_nodes=3, random_state=41)\n",
    "\n",
    "#AdaboostClassifier\n",
    "adcl = AdaBoostClassifier(base_estimator=dtr, n_estimators=80, random_state=41)\n",
    "#fit AdaBoost\n",
    "adcl.fit(smote_X_train, smote_y_train)\n",
    "\n",
    "train_score = adcl.score(smote_X_train, smote_y_train)\n",
    "test_score = adcl.score(X_test, y_test)\n",
    "\n",
    "#Print the scores of the model\n",
    "print(\"AdaBoost - Balanced Data\")\n",
    "print('-'*40)\n",
    "print(\"Training accuracy: {:.3f}\".format(train_score))\n",
    "print(\"Test accuracy: {:.3f}\".format(test_score))\n",
    "if train_score > test_score:\n",
    "    print('Percentage of overfitting: {:.2f}%'.format((train_score-\n",
    "                                     test_score)/train_score *100))\n",
    "elif test_score > train_score:\n",
    "    print('Percentage of underfiting: {:.2f}%'.format((test_score-\n",
    "                                     train_score)/test_score *100))\n",
    "print('='*40)\n",
    "\n"
   ]
  },
  {
   "cell_type": "code",
   "execution_count": null,
   "id": "d8f57bea",
   "metadata": {},
   "outputs": [],
   "source": []
  },
  {
   "cell_type": "code",
   "execution_count": 108,
   "id": "d3582eb0",
   "metadata": {},
   "outputs": [],
   "source": [
    "# Gradient Boosting"
   ]
  },
  {
   "cell_type": "code",
   "execution_count": 109,
   "id": "5d4018b4",
   "metadata": {},
   "outputs": [
    {
     "name": "stdout",
     "output_type": "stream",
     "text": [
      "GradientBoost - Balanced Data\n",
      "----------------------------------------\n",
      "Training accuracy: 0.827\n",
      "Test accuracy: 0.700\n",
      "Percentage of overfitting: 15.33%\n",
      "========================================\n"
     ]
    }
   ],
   "source": [
    "gbc = GradientBoostingClassifier(n_estimators=300,max_features=1, max_depth=1, random_state=41)\n",
    "gbc.fit(smote_X_train, smote_y_train)\n",
    "\n",
    "y_pred = gbc.predict(X_test)\n",
    "train_score = gbc.score(smote_X_train, smote_y_train)\n",
    "test_score = gbc.score(X_test, y_test)\n",
    "\n",
    "#Print the scores of the model\n",
    "print(\"GradientBoost - Balanced Data\")\n",
    "print('-'*40)\n",
    "print(\"Training accuracy: {:.3f}\".format(train_score))\n",
    "print(\"Test accuracy: {:.3f}\".format(test_score))\n",
    "if train_score > test_score:\n",
    "    print('Percentage of overfitting: {:.2f}%'.format((train_score-\n",
    "                                     test_score)/train_score *100))\n",
    "elif test_score > train_score:\n",
    "    print('Percentage of underfiting: {:.2f}%'.format((test_score-\n",
    "                                     train_score)/test_score *100))\n",
    "print('='*40)\n"
   ]
  },
  {
   "cell_type": "code",
   "execution_count": null,
   "id": "97b01295",
   "metadata": {},
   "outputs": [],
   "source": []
  },
  {
   "cell_type": "markdown",
   "id": "6340f4ed",
   "metadata": {},
   "source": [
    "## Feature Importance"
   ]
  },
  {
   "cell_type": "code",
   "execution_count": 113,
   "id": "23b631ec",
   "metadata": {},
   "outputs": [
    {
     "data": {
      "text/plain": [
       "Text(0.5, 1.0, 'Feature Importance in Random Forest')"
      ]
     },
     "execution_count": 113,
     "metadata": {},
     "output_type": "execute_result"
    },
    {
     "data": {
      "image/png": "[encoded data removed]",
      "text/plain": [
       "<Figure size 432x288 with 1 Axes>"
      ]
     },
     "metadata": {
      "needs_background": "light"
     },
     "output_type": "display_data"
    }
   ],
   "source": [
    "# Feature importance in Random Forest, and Decision Tree  \n",
    "\n",
    "feature_name = train.columns[train.columns!='Credit-Application-Result']\n",
    "classifier_name = train.columns[train.columns=='Credit-Application-Result']\n",
    "\n",
    "#Random Forest\n",
    "from sklearn.ensemble import RandomForestClassifier\n",
    "\n",
    "forest = RandomForestClassifier(max_features=2, max_leaf_nodes=7, n_estimators=100, random_state=0)\n",
    "forest.fit(smote_X_train, smote_y_train)\n",
    "df_rf = pd.DataFrame({'feature':list(feature_name),'importance': forest.feature_importances_}).sort_values('importance')\n",
    "# plt.barh(list(df_rf.feature), df_rf['importance'])\n",
    "\n",
    "\n",
    "plt.figsize=(15, 5)\n",
    "\n",
    "\n",
    "plt.barh(list(df_rf.feature), df_rf['importance'])\n",
    "plt.xlabel('Feature Importance')\n",
    "plt.ylabel('Feature')\n",
    "plt.title('Feature Importance in Random Forest')\n",
    "\n"
   ]
  },
  {
   "cell_type": "code",
   "execution_count": null,
   "id": "ff089d8c",
   "metadata": {},
   "outputs": [],
   "source": []
  },
  {
   "cell_type": "markdown",
   "id": "a1972fc3",
   "metadata": {},
   "source": [
    "### Recursive feature Elimination"
   ]
  },
  {
   "cell_type": "code",
   "execution_count": 114,
   "id": "9ceda955",
   "metadata": {},
   "outputs": [
    {
     "data": {
      "text/plain": [
       "RFE(estimator=RandomForestClassifier(max_features=2, max_leaf_nodes=7))"
      ]
     },
     "execution_count": 114,
     "metadata": {},
     "output_type": "execute_result"
    }
   ],
   "source": [
    "from sklearn.feature_selection import RFE\n",
    "rfe = RFE(estimator=RandomForestClassifier(max_features=2, max_leaf_nodes=7))\n",
    "rfe.fit(smote_X_train, smote_y_train)"
   ]
  },
  {
   "cell_type": "code",
   "execution_count": 115,
   "id": "15ca8d65",
   "metadata": {},
   "outputs": [
    {
     "data": {
      "text/plain": [
       "array([ True,  True, False, False,  True,  True, False, False,  True,\n",
       "       False, False,  True, False, False, False,  True,  True,  True])"
      ]
     },
     "execution_count": 115,
     "metadata": {},
     "output_type": "execute_result"
    }
   ],
   "source": [
    "rfe.support_"
   ]
  },
  {
   "cell_type": "code",
   "execution_count": 116,
   "id": "b9700b21",
   "metadata": {},
   "outputs": [
    {
     "data": {
      "text/plain": [
       "Index(['Duration-of-Credit-Month', 'Credit-Amount', 'Age-years',\n",
       "       'Type-of-apartment', 'Account-Balance_Some Balance', 'Purpose_New car',\n",
       "       'Value-Savings-Stocks_£100-£1000',\n",
       "       'No-of-Credits-at-this-Bank_More than 1', 'Credit-Amount-per-age'],\n",
       "      dtype='object')"
      ]
     },
     "execution_count": 116,
     "metadata": {},
     "output_type": "execute_result"
    }
   ],
   "source": [
    "X.columns[rfe.support_]"
   ]
  },
  {
   "cell_type": "code",
   "execution_count": 157,
   "id": "8df58f5e",
   "metadata": {},
   "outputs": [
    {
     "data": {
      "text/html": [
       "<div>\n",
       "<style scoped>\n",
       "    .dataframe tbody tr th:only-of-type {\n",
       "        vertical-align: middle;\n",
       "    }\n",
       "\n",
       "    .dataframe tbody tr th {\n",
       "        vertical-align: top;\n",
       "    }\n",
       "\n",
       "    .dataframe thead th {\n",
       "        text-align: right;\n",
       "    }\n",
       "</style>\n",
       "<table border=\"1\" class=\"dataframe\">\n",
       "  <thead>\n",
       "    <tr style=\"text-align: right;\">\n",
       "      <th></th>\n",
       "      <th>rank</th>\n",
       "    </tr>\n",
       "    <tr>\n",
       "      <th>Feature</th>\n",
       "      <th></th>\n",
       "    </tr>\n",
       "  </thead>\n",
       "  <tbody>\n",
       "    <tr>\n",
       "      <th>Duration-of-Credit-Month</th>\n",
       "      <td>1</td>\n",
       "    </tr>\n",
       "    <tr>\n",
       "      <th>Value-Savings-Stocks_£100-£1000</th>\n",
       "      <td>1</td>\n",
       "    </tr>\n",
       "    <tr>\n",
       "      <th>Purpose_New car</th>\n",
       "      <td>1</td>\n",
       "    </tr>\n",
       "    <tr>\n",
       "      <th>No-of-Credits-at-this-Bank_More than 1</th>\n",
       "      <td>1</td>\n",
       "    </tr>\n",
       "    <tr>\n",
       "      <th>Type-of-apartment</th>\n",
       "      <td>1</td>\n",
       "    </tr>\n",
       "    <tr>\n",
       "      <th>Account-Balance_Some Balance</th>\n",
       "      <td>1</td>\n",
       "    </tr>\n",
       "    <tr>\n",
       "      <th>Credit-Amount</th>\n",
       "      <td>1</td>\n",
       "    </tr>\n",
       "    <tr>\n",
       "      <th>Age-years</th>\n",
       "      <td>1</td>\n",
       "    </tr>\n",
       "    <tr>\n",
       "      <th>Credit-Amount-per-age</th>\n",
       "      <td>1</td>\n",
       "    </tr>\n",
       "    <tr>\n",
       "      <th>Payment-Status-of-Previous-Credit_Paid Up</th>\n",
       "      <td>2</td>\n",
       "    </tr>\n",
       "    <tr>\n",
       "      <th>Purpose_Used car</th>\n",
       "      <td>3</td>\n",
       "    </tr>\n",
       "    <tr>\n",
       "      <th>No-of-dependents</th>\n",
       "      <td>4</td>\n",
       "    </tr>\n",
       "    <tr>\n",
       "      <th>Most-valuable-available-asset</th>\n",
       "      <td>5</td>\n",
       "    </tr>\n",
       "    <tr>\n",
       "      <th>Value-Savings-Stocks_None</th>\n",
       "      <td>6</td>\n",
       "    </tr>\n",
       "    <tr>\n",
       "      <th>Telephone</th>\n",
       "      <td>7</td>\n",
       "    </tr>\n",
       "    <tr>\n",
       "      <th>Payment-Status-of-Previous-Credit_Some Problems</th>\n",
       "      <td>8</td>\n",
       "    </tr>\n",
       "    <tr>\n",
       "      <th>Instalment-per-cent</th>\n",
       "      <td>9</td>\n",
       "    </tr>\n",
       "    <tr>\n",
       "      <th>Purpose_Other</th>\n",
       "      <td>10</td>\n",
       "    </tr>\n",
       "  </tbody>\n",
       "</table>\n",
       "</div>"
      ],
      "text/plain": [
       "                                                 rank\n",
       "Feature                                              \n",
       "Duration-of-Credit-Month                            1\n",
       "Value-Savings-Stocks_£100-£1000                     1\n",
       "Purpose_New car                                     1\n",
       "No-of-Credits-at-this-Bank_More than 1              1\n",
       "Type-of-apartment                                   1\n",
       "Account-Balance_Some Balance                        1\n",
       "Credit-Amount                                       1\n",
       "Age-years                                           1\n",
       "Credit-Amount-per-age                               1\n",
       "Payment-Status-of-Previous-Credit_Paid Up           2\n",
       "Purpose_Used car                                    3\n",
       "No-of-dependents                                    4\n",
       "Most-valuable-available-asset                       5\n",
       "Value-Savings-Stocks_None                           6\n",
       "Telephone                                           7\n",
       "Payment-Status-of-Previous-Credit_Some Problems     8\n",
       "Instalment-per-cent                                 9\n",
       "Purpose_Other                                      10"
      ]
     },
     "execution_count": 157,
     "metadata": {},
     "output_type": "execute_result"
    }
   ],
   "source": [
    "columns=[]\n",
    "rank=[]          \n",
    "for i, j in zip(X.columns, rfe.ranking_):\n",
    "    columns.append(i), rank.append(j)\n",
    "di = {'Feature': columns,\n",
    "     'rank': rank}    \n",
    "df_rank_columns = pd.DataFrame(di)\n",
    "df_rank_columns.set_index('Feature').sort_values('rank'"
   ]
  },
  {
   "cell_type": "code",
   "execution_count": 118,
   "id": "f376e2fb",
   "metadata": {},
   "outputs": [
    {
     "name": "stdout",
     "output_type": "stream",
     "text": [
      "----------------------------------------\n",
      "RFE Train accuracy: 0.817\n",
      "RFE Test accuracy: 0.700\n",
      "Percentage of overfitting: 14.29%\n",
      "========================================\n"
     ]
    }
   ],
   "source": [
    "#Scores\n",
    "y_pred = rfe.predict(X_test)\n",
    "\n",
    "train_score =  rfe.score(smote_X_train, smote_y_train)\n",
    "test_score = accuracy_score(y_test, y_pred)\n",
    "\n",
    "#Print the scores of the model\n",
    "print('-'*40)\n",
    "print(\"RFE Train accuracy: {:.3f}\".format(train_score))\n",
    "print(\"RFE Test accuracy: {:.3f}\".format(test_score))\n",
    "if train_score > test_score:\n",
    "    print('Percentage of overfitting: {:.2f}%'.format((train_score-\n",
    "                                     test_score)/train_score *100))\n",
    "elif test_score > train_score:\n",
    "    print('Percentage of underfiting: {:.2f}%'.format((test_score-\n",
    "                                     train_score)/test_score *100))\n",
    "print('='*40)\n"
   ]
  },
  {
   "cell_type": "code",
   "execution_count": null,
   "id": "47e3b956",
   "metadata": {},
   "outputs": [],
   "source": []
  },
  {
   "cell_type": "code",
   "execution_count": null,
   "id": "7ca5b4bd",
   "metadata": {},
   "outputs": [],
   "source": []
  },
  {
   "cell_type": "code",
   "execution_count": null,
   "id": "7c237a34",
   "metadata": {},
   "outputs": [],
   "source": []
  },
  {
   "cell_type": "markdown",
   "id": "81f79097",
   "metadata": {},
   "source": [
    "### Evaluation Metrics and Scoring of models Using the optimised Hyperparameters "
   ]
  },
  {
   "cell_type": "markdown",
   "id": "c47b5afa",
   "metadata": {},
   "source": [
    "# A. Confusion Metrix"
   ]
  },
  {
   "cell_type": "markdown",
   "id": "17d4d0ba",
   "metadata": {},
   "source": [
    "**1. Confusion Metrix for unbalanced data**"
   ]
  },
  {
   "cell_type": "code",
   "execution_count": 129,
   "id": "986ed5c9",
   "metadata": {},
   "outputs": [],
   "source": [
    "# KNN\n",
    "\n",
    "knn1_pred = knn_model1.predict(X_test)\n",
    "                 \n",
    "#\"\"\"\"\"\"\"\"\"\"\"\"\"\"\"\"\"\"\"\"\"\"\"\"\"\"\"\"\"\"\"\"\"\"\"\"\"\"\"\"\"\"\"\"\"\"\"      \n",
    "# SVM\n",
    "svm1_pred = svm_model1.predict(X_test)\n",
    "\n",
    "#\"\"\"\"\"\"\"\"\"\"\"\"\"\"\"\"\"\"\"\"\"\"\"\"\"\"\"\"\"\"\"\"\"\"\"\"\"\"\"\"\"\"\"\"\"\"\"   \n",
    "# Logistic Regression\n",
    "logreg1_pred = logreg_model1.predict(X_test)\n",
    "\n",
    "#\"\"\"\"\"\"\"\"\"\"\"\"\"\"\"\"\"\"\"\"\"\"\"\"\"\"\"\"\"\"\"\"\"\"\"\"\"\"\"\"\"\"\"\"\"\"\"          \n",
    "#RandomForest\n",
    "rf1_pred = rf_model1.predict(X_test)\n",
    "\n",
    "#\"\"\"\"\"\"\"\"\"\"\"\"\"\"\"\"\"\"\"\"\"\"\"\"\"\"\"\"\"\"\"\"\"\"\"\"\"\"\"\"\"\"\"\"\"\"\"\n",
    "# GradientBoosting\n",
    "gbc1_pred = gbc_model1.predict(X_test)\n",
    "\n",
    "#\"\"\"\"\"\"\"\"\"\"\"\"\"\"\"\"\"\"\"\"\"\"\"\"\"\"\"\"\"\"\"\"\"\"\"\"\"\"\"\"\"\"\"\"\"\"\"\n",
    "# AdaBoost\n",
    "adcl1_pred = adc_l.predict(X_test)"
   ]
  },
  {
   "cell_type": "code",
   "execution_count": 130,
   "id": "2a84cb7a",
   "metadata": {},
   "outputs": [
    {
     "name": "stdout",
     "output_type": "stream",
     "text": [
      "KNN:\n",
      "[[106   1]\n",
      " [ 40   3]]\n",
      "SVM:\n",
      "[[102   5]\n",
      " [ 28  15]]\n",
      "\n",
      "Logistic Regression\n",
      "[[92 15]\n",
      " [24 19]]\n",
      "\n",
      "Random Forest:\n",
      "[[103   4]\n",
      " [ 33  10]]\n",
      "\n",
      "GradientBoosting:\n",
      "[[93 14]\n",
      " [26 17]]\n",
      "\n",
      "AdaBoost:\n",
      "[[86 21]\n",
      " [22 21]]\n"
     ]
    }
   ],
   "source": [
    "#Confusion matrices\n",
    "from sklearn.metrics import confusion_matrix\n",
    "\n",
    "print(\"KNN:\")\n",
    "print(confusion_matrix(y_test, knn1_pred))\n",
    "print(\"SVM:\")\n",
    "print(confusion_matrix(y_test, svm1_pred))\n",
    "print(\"\\nLogistic Regression\")\n",
    "print(confusion_matrix(y_test, logreg1_pred))\n",
    "print(\"\\nRandom Forest:\")\n",
    "print(confusion_matrix(y_test, rf1_pred))\n",
    "print(\"\\nGradientBoosting:\")\n",
    "print(confusion_matrix(y_test, gbc1_pred))\n",
    "print(\"\\nAdaBoost:\")\n",
    "print(confusion_matrix(y_test, adcl1_pred))\n"
   ]
  },
  {
   "cell_type": "markdown",
   "id": "d32a4dc9",
   "metadata": {},
   "source": [
    "**2. Confusion Metrix for Balanced Data**"
   ]
  },
  {
   "cell_type": "code",
   "execution_count": 135,
   "id": "be445067",
   "metadata": {},
   "outputs": [],
   "source": [
    "# KNN\n",
    "\n",
    "knn_pred = knn_model.predict(X_test)\n",
    "                 \n",
    "#\"\"\"\"\"\"\"\"\"\"\"\"\"\"\"\"\"\"\"\"\"\"\"\"\"\"\"\"\"\"\"\"\"\"\"\"\"\"\"\"\"\"\"\"\"\"\"      \n",
    "# SVM\n",
    "svm_pred = svm_model.predict(X_test)\n",
    "\n",
    "#\"\"\"\"\"\"\"\"\"\"\"\"\"\"\"\"\"\"\"\"\"\"\"\"\"\"\"\"\"\"\"\"\"\"\"\"\"\"\"\"\"\"\"\"\"\"\"   \n",
    "# Logistic Regression\n",
    "logreg_pred = logreg_model.predict(X_test)\n",
    "\n",
    "#\"\"\"\"\"\"\"\"\"\"\"\"\"\"\"\"\"\"\"\"\"\"\"\"\"\"\"\"\"\"\"\"\"\"\"\"\"\"\"\"\"\"\"\"\"\"\"          \n",
    "#RandomForest\n",
    "rf_pred = rf_model.predict(X_test)\n",
    "\n",
    "#\"\"\"\"\"\"\"\"\"\"\"\"\"\"\"\"\"\"\"\"\"\"\"\"\"\"\"\"\"\"\"\"\"\"\"\"\"\"\"\"\"\"\"\"\"\"\"\n",
    "# RFE\n",
    "rfe_pred = rfe.predict(X_test)\n",
    "\n",
    "#\"\"\"\"\"\"\"\"\"\"\"\"\"\"\"\"\"\"\"\"\"\"\"\"\"\"\"\"\"\"\"\"\"\"\"\"\"\"\"\"\"\"\"\"\"\"\"\n",
    "# GradientBoosting\n",
    "gbc_pred = gbc.predict(X_test)\n",
    "\n",
    "#\"\"\"\"\"\"\"\"\"\"\"\"\"\"\"\"\"\"\"\"\"\"\"\"\"\"\"\"\"\"\"\"\"\"\"\"\"\"\"\"\"\"\"\"\"\"\"\n",
    "# AdaBoost\n",
    "adcl_pred = adcl.predict(X_test)\n",
    "\n",
    "#\"\"\"\"\"\"\"\"\"\"\"\"\"\"\"\"\"\"\"\"\"\"\"\"\"\"\"\"\"\"\"\"\"\"\"\"\"\"\"\"\"\"\"\"\"\"\"\n",
    "# Bagging\n",
    "bc_pred = bc.predict(X_test)\n",
    "\n",
    "#\"\"\"\"\"\"\"\"\"\"\"\"\"\"\"\"\"\"\"\"\"\"\"\"\"\"\"\"\"\"\"\"\"\"\"\"\"\"\"\"\"\"\"\"\"\"\"\"\"\"\"\"\"\"\"\"\"\"\"\"\"\"\"\"\"\"\"\"\"\"\"\"\"\"\n",
    "# VotingClassifier\n",
    "vc_pred = vc.predict(X_test)"
   ]
  },
  {
   "cell_type": "code",
   "execution_count": 136,
   "id": "1eec4285",
   "metadata": {},
   "outputs": [
    {
     "name": "stdout",
     "output_type": "stream",
     "text": [
      "KNN:\n",
      "[[72 35]\n",
      " [23 20]]\n",
      "SVM:\n",
      "[[72 35]\n",
      " [23 20]]\n",
      "\n",
      "Logistic Regression\n",
      "[[80 27]\n",
      " [17 26]]\n",
      "\n",
      "Random Forest:\n",
      "[[84 23]\n",
      " [19 24]]\n",
      "\n",
      "RFE:\n",
      "[[78 29]\n",
      " [16 27]]\n",
      "\n",
      "GradientBoosting:\n",
      "[[80 27]\n",
      " [18 25]]\n",
      "\n",
      "AdaBoost:\n",
      "[[81 26]\n",
      " [18 25]]\n",
      "\n",
      "Bagging:\n",
      "[[84 23]\n",
      " [19 24]]\n",
      "\n",
      "VotingClassifier:\n",
      "[[81 26]\n",
      " [19 24]]\n"
     ]
    }
   ],
   "source": [
    "#Confusion matrices\n",
    "from sklearn.metrics import confusion_matrix\n",
    "\n",
    "print(\"KNN:\")\n",
    "print(confusion_matrix(y_test, knn_pred))\n",
    "print(\"SVM:\")\n",
    "print(confusion_matrix(y_test, svm_pred))\n",
    "print(\"\\nLogistic Regression\")\n",
    "print(confusion_matrix(y_test, logreg_pred))\n",
    "print(\"\\nRandom Forest:\")\n",
    "print(confusion_matrix(y_test, rf_pred))\n",
    "print(\"\\nRFE:\")\n",
    "print(confusion_matrix(y_test, rfe_pred))\n",
    "print(\"\\nGradientBoosting:\")\n",
    "print(confusion_matrix(y_test, gbc_pred))\n",
    "print(\"\\nAdaBoost:\")\n",
    "print(confusion_matrix(y_test, adcl_pred))\n",
    "print(\"\\nBagging:\")\n",
    "print(confusion_matrix(y_test, bc_pred))\n",
    "print(\"\\nVotingClassifier:\")\n",
    "print(confusion_matrix(y_test, vc_pred))"
   ]
  },
  {
   "cell_type": "markdown",
   "id": "c95b444e",
   "metadata": {},
   "source": [
    "# B. F-Score"
   ]
  },
  {
   "cell_type": "markdown",
   "id": "3a80e66c",
   "metadata": {},
   "source": [
    "**1. F-Score for Unbalanced data**"
   ]
  },
  {
   "cell_type": "code",
   "execution_count": 137,
   "id": "e0e39350",
   "metadata": {},
   "outputs": [
    {
     "name": "stdout",
     "output_type": "stream",
     "text": [
      "f1 score (KNN): 0.13\n",
      "f1 score (SVM): 0.48\n",
      "f1 score (Logistic Regression): 0.49\n",
      "f1 score (Random Forest): 0.35\n",
      "f1 score (GradientBoosting): 0.46\n",
      "f1 score (AdaBoost): 0.49\n"
     ]
    }
   ],
   "source": [
    "# f-score\n",
    "from sklearn.metrics import f1_score\n",
    "\n",
    "print(\"f1 score (KNN): {:.2f}\".format(f1_score(y_test, knn1_pred)))\n",
    "print(\"f1 score (SVM): {:.2f}\".format(f1_score(y_test, svm1_pred)))\n",
    "print(\"f1 score (Logistic Regression): {:.2f}\".format(\n",
    "f1_score(y_test, logreg1_pred)))\n",
    "print(\"f1 score (Random Forest): {:.2f}\".format(f1_score(y_test, rf1_pred)))\n",
    "print(\"f1 score (GradientBoosting): {:.2f}\".format(f1_score(y_test, gbc1_pred)))\n",
    "print(\"f1 score (AdaBoost): {:.2f}\".format(f1_score(y_test, adcl1_pred)))\n",
    "\n"
   ]
  },
  {
   "cell_type": "code",
   "execution_count": null,
   "id": "0a70b785",
   "metadata": {},
   "outputs": [],
   "source": []
  },
  {
   "cell_type": "markdown",
   "id": "81c3be90",
   "metadata": {},
   "source": [
    "**2. F-Score for Balanced data**"
   ]
  },
  {
   "cell_type": "code",
   "execution_count": 139,
   "id": "38b86aae",
   "metadata": {},
   "outputs": [
    {
     "name": "stdout",
     "output_type": "stream",
     "text": [
      "f1 score (KNN): 0.41\n",
      "f1 score (SVM): 0.41\n",
      "f1 score (Logistic Regression): 0.54\n",
      "f1 score (Random Forest): 0.53\n",
      "f1 score (RFE): 0.55\n",
      "f1 score (GradientBoosting): 0.53\n",
      "f1 score (AdaBoost): 0.53\n",
      "f1 score (Bagging): 0.53\n",
      "f1 score (VotingClassifier): 0.52\n"
     ]
    }
   ],
   "source": [
    "# f-score\n",
    "from sklearn.metrics import f1_score\n",
    "\n",
    "print(\"f1 score (KNN): {:.2f}\".format(f1_score(y_test, knn_pred)))\n",
    "print(\"f1 score (SVM): {:.2f}\".format(f1_score(y_test, svm_pred)))\n",
    "print(\"f1 score (Logistic Regression): {:.2f}\".format(\n",
    "f1_score(y_test, logreg_pred)))\n",
    "print(\"f1 score (Random Forest): {:.2f}\".format(f1_score(y_test, rf_pred)))\n",
    "print(\"f1 score (RFE): {:.2f}\".format(f1_score(y_test, rfe_pred)))\n",
    "\n",
    "print(\"f1 score (GradientBoosting): {:.2f}\".format(f1_score(y_test, gbc_pred)))\n",
    "print(\"f1 score (AdaBoost): {:.2f}\".format(f1_score(y_test, adcl_pred)))\n",
    "print(\"f1 score (Bagging): {:.2f}\".format(f1_score(y_test, bc_pred)))\n",
    "print(\"f1 score (VotingClassifier): {:.2f}\".format(f1_score(y_test, vc_pred)))\n"
   ]
  },
  {
   "cell_type": "code",
   "execution_count": null,
   "id": "aeeb6d45",
   "metadata": {},
   "outputs": [],
   "source": []
  },
  {
   "cell_type": "code",
   "execution_count": null,
   "id": "8710f051",
   "metadata": {},
   "outputs": [],
   "source": []
  },
  {
   "cell_type": "code",
   "execution_count": null,
   "id": "0dca35cc",
   "metadata": {},
   "outputs": [],
   "source": []
  },
  {
   "cell_type": "code",
   "execution_count": null,
   "id": "e96febd3",
   "metadata": {},
   "outputs": [],
   "source": [
    "# Classification Report"
   ]
  },
  {
   "cell_type": "code",
   "execution_count": null,
   "id": "8ee5bc93",
   "metadata": {},
   "outputs": [],
   "source": [
    "from sklearn.metrics import classification_report\n",
    "cr = classification_report\n",
    "print(\"SVM:\\n\",cr(y_test, pred_svm,\n",
    "target_names=[\"Creditworthy\", \"Non-Creditworthy\"]),\"-\"*65,'\\n\\n')\n",
    "print(\"Random Forest:\\n\",cr(y_test, pred_forest,\n",
    "target_names=[\"Creditworthy\", \"Non-Creditworthy\"]),\"-\"*65,'\\n\\n')\n",
    "print(\"logistic regression:\\n\",cr(y_test, pred_logreg,\n",
    "target_names=[\"Creditworthy\", \"Non-Creditworthy\"]),\"-\"*65,'\\n\\n')"
   ]
  },
  {
   "cell_type": "markdown",
   "id": "4e542d5c",
   "metadata": {},
   "source": [
    "# PREDICTION OF CUSTOMERS CREDIT WORTHINESS TO QUALIFY FOR LOANS"
   ]
  },
  {
   "cell_type": "code",
   "execution_count": null,
   "id": "06c8beb8",
   "metadata": {},
   "outputs": [],
   "source": []
  },
  {
   "cell_type": "code",
   "execution_count": null,
   "id": "310f275f",
   "metadata": {},
   "outputs": [],
   "source": []
  }
 ],
 "metadata": {
  "kernelspec": {
   "display_name": "Python 3",
   "language": "python",
   "name": "python3"
  },
  "language_info": {
   "codemirror_mode": {
    "name": "ipython",
    "version": 3
   },
   "file_extension": ".py",
   "mimetype": "text/x-python",
   "name": "python",
   "nbconvert_exporter": "python",
   "pygments_lexer": "ipython3",
   "version": "3.8.8"
  }
 },
 "nbformat": 4,
 "nbformat_minor": 5
}
